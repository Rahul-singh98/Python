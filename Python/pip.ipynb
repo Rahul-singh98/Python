{
 "cells": [
  {
   "cell_type": "markdown",
   "metadata": {},
   "source": [
    "# Pip : \n",
    "    \n",
    "    PIP is a package manager for Python packages, or modules if you like.\n",
    "    If you have Python version 3.4 or later, PIP is included by default.\n",
    "    \n",
    "    \n",
    "# Packages : \n",
    "    \n",
    "    A package contains all the files you need for a module.\n",
    "    Modules are Python code libraries you can include in your project.\n"
   ]
  },
  {
   "cell_type": "markdown",
   "metadata": {},
   "source": [
    "To check the version of the pip in system use\n",
    "pip --version\n",
    "output : pip 20.0.1 from /home/rahul/my_project_dir/my_project_env/lib/python3.6/site-packages/pip (python 3.6)"
   ]
  },
  {
   "cell_type": "markdown",
   "metadata": {},
   "source": [
    "# Install PIP\n",
    "    \n",
    "    If you do not have PIP installed, you can download and install it from this page: https://pypi.org/project/pip/"
   ]
  },
  {
   "cell_type": "markdown",
   "metadata": {},
   "source": [
    "# Download a Package\n",
    "    \n",
    "    Downloading a package is very easy.\n",
    "    Open the command line interface and tell PIP to download the package you want.\n",
    "    Navigate your command line to the location of Python's script directory, and type the following:\n",
    "    \n",
    "    For Example: We did earlier to install import_ipynb module\n",
    "        pip install import_ipynb"
   ]
  },
  {
   "cell_type": "markdown",
   "metadata": {},
   "source": [
    "# Using a Package\n",
    "    \n",
    "    Once the package is installed, it is ready to use.\n",
    "    Import the \"camelcase\" package into your project."
   ]
  },
  {
   "cell_type": "markdown",
   "metadata": {},
   "source": [
    "# Find Packages\n",
    "   \n",
    "    Find more packages at https://pypi.org/."
   ]
  },
  {
   "cell_type": "markdown",
   "metadata": {},
   "source": [
    "# Remove a Package\n",
    "\n",
    "    Use the uninstall command to remove a package:\n",
    "    For Example :\n",
    "        pip uninstall import_ipynb\n",
    "            The PIP Package Manager will ask you to confirm that you want to remove the import_ipynb package\n",
    "            Press y and the package will be removed\n",
    "            "
   ]
  },
  {
   "cell_type": "markdown",
   "metadata": {},
   "source": [
    "# List Packages\n",
    "\n",
    "    Use the list command to list all the packages installed on your system"
   ]
  },
  {
   "cell_type": "code",
   "execution_count": 1,
   "metadata": {
    "collapsed": true
   },
   "outputs": [
    {
     "name": "stdout",
     "output_type": "stream",
     "text": [
      "Package            Version\n",
      "------------------ -------\n",
      "attrs              19.3.0 \n",
      "backcall           0.1.0  \n",
      "bleach             3.1.0  \n",
      "decorator          4.4.1  \n",
      "defusedxml         0.6.0  \n",
      "entrypoints        0.3    \n",
      "import-ipynb       0.1.3  \n",
      "importlib-metadata 1.4.0  \n",
      "ipykernel          5.1.3  \n",
      "ipython            7.11.1 \n",
      "ipython-genutils   0.2.0  \n",
      "ipywidgets         7.5.1  \n",
      "jedi               0.15.2 \n",
      "Jinja2             2.10.3 \n",
      "jsonschema         3.2.0  \n",
      "jupyter            1.0.0  \n",
      "jupyter-client     5.3.4  \n",
      "jupyter-console    6.0.0  \n",
      "jupyter-core       4.6.1  \n",
      "MarkupSafe         1.1.1  \n",
      "mistune            0.8.4  \n",
      "more-itertools     8.1.0  \n",
      "nbconvert          5.6.1  \n",
      "nbformat           5.0.3  \n",
      "notebook           6.0.2  \n",
      "pandocfilters      1.4.2  \n",
      "parso              0.5.2  \n",
      "pexpect            4.7.0  \n",
      "pickleshare        0.7.5  \n",
      "pip                20.0.1 \n",
      "prometheus-client  0.7.1  \n",
      "prompt-toolkit     2.0.10 \n",
      "ptyprocess         0.6.0  \n",
      "Pygments           2.5.2  \n",
      "pyrsistent         0.15.7 \n",
      "python-dateutil    2.8.1  \n",
      "pyzmq              18.1.1 \n",
      "qtconsole          4.6.0  \n",
      "Send2Trash         1.5.0  \n",
      "setuptools         45.0.0 \n",
      "six                1.13.0 \n",
      "terminado          0.8.3  \n",
      "testpath           0.4.4  \n",
      "tornado            6.0.3  \n",
      "traitlets          4.3.3  \n",
      "wcwidth            0.1.8  \n",
      "webencodings       0.5.1  \n",
      "wheel              0.33.6 \n",
      "widgetsnbextension 3.5.1  \n",
      "zipp               0.6.0  \n",
      "Note: you may need to restart the kernel to use updated packages.\n"
     ]
    }
   ],
   "source": [
    "pip list"
   ]
  },
  {
   "cell_type": "code",
   "execution_count": null,
   "metadata": {},
   "outputs": [],
   "source": []
  }
 ],
 "metadata": {
  "kernelspec": {
   "display_name": "Python 3",
   "language": "python",
   "name": "python3"
  },
  "language_info": {
   "codemirror_mode": {
    "name": "ipython",
    "version": 3
   },
   "file_extension": ".py",
   "mimetype": "text/x-python",
   "name": "python",
   "nbconvert_exporter": "python",
   "pygments_lexer": "ipython3",
   "version": "3.6.8"
  }
 },
 "nbformat": 4,
 "nbformat_minor": 4
}
