{
 "cells": [
  {
   "cell_type": "markdown",
   "metadata": {},
   "source": [
    "# Conditions: (if, else , elif)"
   ]
  },
  {
   "cell_type": "code",
   "execution_count": 11,
   "metadata": {
    "collapsed": true
   },
   "outputs": [
    {
     "name": "stdout",
     "output_type": "stream",
     "text": [
      "a is greater then b\n",
      "Both conditions are True\n",
      "Any one condition is True\n",
      "Enter a number :3\n",
      "3 only divisible by 3\n"
     ]
    }
   ],
   "source": [
    "a = 30\n",
    "b = 20\n",
    "\n",
    "# if keyword : The if keyword works when the given condition is true\n",
    "if a>b:\n",
    "    print(\"a is greater then b\")\n",
    "    \n",
    "# elif keyword : The elif keyword is pythons way of saying \"if the previous conditions were not true, then try this condition\"\n",
    "elif a == b:\n",
    "    print(\"a is equal to b\")\n",
    "    \n",
    "# else keyword : The else keyword catches anything which isn't caught by the preceding conditions\n",
    "else:\n",
    "    print(\"a is less than b\")\n",
    "\n",
    "c = 23\n",
    "# and keyword : The and keyword is a logical operator, and is used to combine conditional statements\n",
    "if a>b and b<c:\n",
    "    print(\"Both conditions are True\")\n",
    "\n",
    "# or keyword : The or keyword is a logical operator, and is used to combine conditional statements \n",
    "if a>b or b>c:\n",
    "    print(\"Any one condition is True\")\n",
    "\n",
    "# Nestd if else\n",
    "val = int(input(\"Enter a number :\"))\n",
    "if val %2 ==0:\n",
    "    if val%3 == 0:\n",
    "        print(val , \"is divisible by 2 and 3 both\")\n",
    "    else:\n",
    "        print(val , \"only divisible by 2\")\n",
    "elif val%3 ==0:\n",
    "    print(val ,\"only divisible by 3\")\n",
    "else:\n",
    "    print(val , \"is neither divisible by 3 nor by 2\")"
   ]
  },
  {
   "cell_type": "code",
   "execution_count": null,
   "metadata": {},
   "outputs": [],
   "source": [
    "# use of if else as Conditional Operator"
   ]
  },
  {
   "cell_type": "code",
   "execution_count": 9,
   "metadata": {
    "collapsed": true
   },
   "outputs": [
    {
     "name": "stdout",
     "output_type": "stream",
     "text": [
      "Enter the value of x : 123 \n",
      "Enter the value of y : 3\n",
      "10\n"
     ]
    }
   ],
   "source": [
    "x = int(input(\"Enter the value of x : \"))\n",
    "y = int(input(\"Enter the value of y : \"))\n",
    "a = 10\n",
    "a = 10 if x > y else 5\n",
    "print(a)\n"
   ]
  },
  {
   "cell_type": "markdown",
   "metadata": {},
   "source": [
    "# while loop : With the while loop we can execute a set of statements as long as a condition is true."
   ]
  },
  {
   "cell_type": "code",
   "execution_count": 17,
   "metadata": {
    "collapsed": true
   },
   "outputs": [
    {
     "name": "stdout",
     "output_type": "stream",
     "text": [
      "0\n",
      "1\n",
      "2\n",
      "3\n",
      "4\n",
      "5\n",
      "i is no longer greater than 5\n"
     ]
    }
   ],
   "source": [
    "i = 0\n",
    "# while i<6:\n",
    "#     print(i)\n",
    "#     # incrementing value is important , else loop will run for infinite time\n",
    "#     i += 1\n",
    "\n",
    "# while i< 6:\n",
    "#     print(i)\n",
    "#     #break keyword : With the break statement we can stop the loop even if the while condition is true\n",
    "#     if i == 3:\n",
    "#         break\n",
    "#     i +=1\n",
    "\n",
    "# while i < 10:\n",
    "#     i+=1\n",
    "#     # continue keyword : With the continue statement we can stop the current iteration, and continue with the next:\n",
    "#     if i == 6:\n",
    "#         continue\n",
    "#     print(i)\n",
    "\n",
    "while i <= 5:\n",
    "    print(i)\n",
    "    i+=1\n",
    "else:\n",
    "    print(\"i is no longer greater than 5\")"
   ]
  },
  {
   "cell_type": "markdown",
   "metadata": {},
   "source": [
    "# for loop : A for loop is used for iterating over a sequence (that is either a list, a tuple, a dictionary, a set, or a string).\n",
    "\n",
    "This is less like the for keyword in other programming languages, and works more like an iterator method as found in other object-orientated programming languages.\n",
    "\n",
    "With the for loop we can execute a set of statements, once for each item in a list, tuple, set etc"
   ]
  },
  {
   "cell_type": "code",
   "execution_count": 34,
   "metadata": {
    "collapsed": true
   },
   "outputs": [
    {
     "name": "stdout",
     "output_type": "stream",
     "text": [
      "1\n",
      "3\n",
      "5\n",
      "7\n",
      "9\n",
      "finished !!!\n"
     ]
    }
   ],
   "source": [
    "l = [\"Rahul\",\"Kajal\",\"Amit\",\"Gurdayal\",\"Tarun\"]\n",
    "# for x in l:\n",
    "#     print(x)\n",
    "\n",
    "# a = \"rahul\"\n",
    "# for x in a:\n",
    "#     print(x)\n",
    "\n",
    "# # break keyword: With the break statement we can stop the loop before it has looped through all the items\n",
    "# for x in l:\n",
    "#     if x == \"Kajal\":\n",
    "#         break\n",
    "#     print(x)\n",
    "\n",
    "# # continue keyword :With the continue statement we can stop the current iteration of the loop, and continue with the next\n",
    "# for x in l:\n",
    "#     if x == \"Amit\":\n",
    "#         continue\n",
    "#     print(x)\n",
    "    \n",
    "    \n",
    "# # To loop through a set of code a specified number of times, we can use the range() function,\n",
    "# # range keyword : The range() function returns a sequence of numbers, starting from 0 by default, and increments by 1 (by default), and ends at a specified number.\n",
    "# for x in range(10):\n",
    "#     print(x)\n",
    "#     if x == 5:\n",
    "#         print(\"equal to 5\")\n",
    "\n",
    "# # The range() function defaults to 0 as a starting value, however it is possible to specify the starting value by adding a parameter: range(2, 6), which means values from 2 to 6 (but not including 6)\n",
    "# for x in range(5,10):\n",
    "#     print(x)\n",
    "    \n",
    "# # The range() function defaults to increment the sequence by 1, however it is possible to specify the increment value by adding a third parameter: range(2, 30, 3)\n",
    "# for x in range(1 , 30 ,3):\n",
    "#     print(x)\n",
    "\n",
    "# else keyword : The else keyword in a for loop specifies a block of code to be executed when the loop is finished\n",
    "for x in range(1,10,2):\n",
    "    print(x)\n",
    "else: \n",
    "    print(\"finished !!!\")"
   ]
  },
  {
   "cell_type": "code",
   "execution_count": 38,
   "metadata": {
    "collapsed": true
   },
   "outputs": [
    {
     "name": "stdout",
     "output_type": "stream",
     "text": [
      "Apple Rose\n",
      "Apple Lilly\n",
      "Apple Jasmine\n",
      "Mango Rose\n",
      "Mango Lilly\n",
      "Mango Jasmine\n",
      "Banana Rose\n",
      "Banana Lilly\n",
      "Banana Jasmine\n"
     ]
    }
   ],
   "source": [
    "# Nesting of loop\n",
    "a = [\"Apple\",\"Mango\",\"Banana\"]\n",
    "b = [\"Rose\",\"Lilly\",\"Jasmine\"]\n",
    "for x in a:\n",
    "    for y in b:\n",
    "        print(x, y)\n",
    "\n",
    "#for loops cannot be empty, but if you for some reason have a for loop with no content, put in the pass statement to avoid getting an error.\n",
    "for x in range(5):\n",
    "    pass"
   ]
  },
  {
   "cell_type": "code",
   "execution_count": 5,
   "metadata": {},
   "outputs": [
    {
     "name": "stdout",
     "output_type": "stream",
     "text": [
      "Karan Rahul Hukum "
     ]
    }
   ],
   "source": [
    "# access list elements using loop \n",
    "l1 = [\"Karan\",\"Rahul\", \"Hukum\"]\n",
    "for i in range(3):\n",
    "#     print(l1[i])\n",
    "    print(l1[i], end= \" \")"
   ]
  },
  {
   "cell_type": "markdown",
   "metadata": {},
   "source": [
    "# Looping Techniques"
   ]
  },
  {
   "cell_type": "code",
   "execution_count": 15,
   "metadata": {
    "collapsed": true
   },
   "outputs": [
    {
     "name": "stdout",
     "output_type": "stream",
     "text": [
      "0 The\n",
      "1 Big\n",
      "2 Bang\n",
      "3 Theory\n",
      "What is your name?  I am apple.\n",
      "What is your colour?  I am red.\n",
      "What is your shape?  I am a circle.\n",
      "The key value pair using items is : \n",
      "geeks for\n",
      "only geeks\n",
      "The list in sorted order is : \n",
      "1 1 2 3 3 5 6 \r\n",
      "The list in sorted order (without duplicates) is : \n",
      "1 2 3 5 6 The list in reversed order is : \n",
      "3 1 2 6 5 3 1 "
     ]
    }
   ],
   "source": [
    "# Using enumerate():  enumerate() is used to loop through the containers printing the index number along with the value present in that particular index.\n",
    "\n",
    "for key, value in enumerate(['The', 'Big', 'Bang', 'Theory']): \n",
    "    print(key, value) \n",
    "    \n",
    "# Using zip(): zip() is used to combine 2 similar containers(list-list or dict-dict) printing the values sequentially. The loop exists only till the smaller container ends.\n",
    "# initializing list \n",
    "questions = ['name', 'colour', 'shape'] \n",
    "answers = ['apple', 'red', 'a circle'] \n",
    "  \n",
    "# using zip() to combine two containers  \n",
    "# and print values  \n",
    "for question, answer in zip(questions, answers): \n",
    "    print('What is your {0}?  I am {1}.'.format(question, answer)) \n",
    "\n",
    "# Using iteritem(): iteritems() is used to loop through the dictionary printing the dictionary key-value pair sequentially.\n",
    "# Using items():  items() performs the similar task on dictionary as iteritems() but have certain disadvantages when compared with iteritems().\n",
    "# It is very time consuming. Calling it on large dictionaries consumes quite a lot of time.\n",
    "# It takes a lot of memory. Sometimes takes double the memory when called on dictionary.\n",
    "d = { \"geeks\" : \"for\", \"only\" : \"geeks\" } \n",
    "  \n",
    "## used in python 2.x not in python 3.x    \n",
    "#     # using iteritems to print the dictionary key-value pair \n",
    "#     print (\"The key value pair using iteritems is : \") \n",
    "#     for i,j in d.iteritems(): \n",
    "#         print (i,j )\n",
    "      \n",
    "# using items to print the dictionary key-value pair \n",
    "print (\"The key value pair using items is : \") \n",
    "for i,j in d.items(): \n",
    "    print( i,j )\n",
    "    \n",
    "# Using sorted():  sorted() is used to print the container is sorted order. It doesn’t sort the container, but just prints the container in sorted order for 1 instance. Use of set() can be combined to remove duplicate occurrences.\n",
    "lis = [ 1 , 3, 5, 6, 2, 1, 3 ] \n",
    "  \n",
    "# using sorted() to print the list in sorted order \n",
    "print (\"The list in sorted order is : \") \n",
    "for i in sorted(lis) : \n",
    "    print (i,end=\" \") \n",
    "      \n",
    "print (\"\\r\") \n",
    "      \n",
    "# using sorted() and set() to print the list in sorted order \n",
    "# use of set() removes duplicates. \n",
    "print (\"The list in sorted order (without duplicates) is : \") \n",
    "for i in sorted(set(lis)) : \n",
    "    print (i,end=\" \") \n",
    "    \n",
    "# Using reversed(): reversed() is used to print the values of container in the descending order as declared.\n",
    "\n",
    "lis = [ 1 , 3, 5, 6, 2, 1, 3 ] \n",
    "  \n",
    "  # using revered() to print the list in reversed order \n",
    "print (\"The list in reversed order is : \") \n",
    "for i in reversed(lis) : \n",
    "    print (i,end=\" \") \n"
   ]
  },
  {
   "cell_type": "code",
   "execution_count": 11,
   "metadata": {
    "collapsed": true
   },
   "outputs": [
    {
     "name": "stdout",
     "output_type": "stream",
     "text": [
      "(0, 'Bugatti')\n",
      "0 Bugatti\n",
      "(1, 'Ferrari')\n",
      "1 Ferrari\n",
      "(2, 'Lamborgini')\n",
      "2 Lamborgini\n"
     ]
    }
   ],
   "source": [
    "# enumerator\n",
    "car = [\"Bugatti\" , \"Ferrari\" , \"Lamborgini\"]\n",
    "for x in enumerate(car):\n",
    "    print(x)\n",
    "    print(x[0] , x[1])\n"
   ]
  },
  {
   "cell_type": "markdown",
   "metadata": {},
   "source": [
    "# Functions : A function is a block of code which only runs when it is called.We can pass data, known as parameters, into a function.A function can return data as a result"
   ]
  },
  {
   "cell_type": "code",
   "execution_count": 58,
   "metadata": {
    "collapsed": true
   },
   "outputs": [
    {
     "name": "stdout",
     "output_type": "stream",
     "text": [
      "('Bharti', 'Radha', 'Rahul', 'Rohit')\n",
      "Rahul\n",
      "Aditya\n",
      "{'fname': 'Rahul', 'lname': 'Rajput', 'mname': 'Singh'}\n",
      "Rajput\n",
      "Brazil\n",
      "Sweden\n",
      "India\n",
      "Russia\n"
     ]
    }
   ],
   "source": [
    "# def function():\n",
    "#     print(\"Hello World!!!\")\n",
    "# function()\n",
    "\n",
    "# # Arguments : Information can be passed into functions as arguments.Arguments are specified after the function name, inside the parentheses. You can add as many arguments as you want, just separate them with a comma.\n",
    "# def func(name):\n",
    "#     print(\"Hello\", name)\n",
    "# func(\"Rahul\")\n",
    "# func(\"Kajal\")\n",
    "\n",
    "# def name(first , last):\n",
    "#     print(\"Hello \"+first+ \" \" +last)\n",
    "# name(\"Rahul\",\"singh\")\n",
    "# name(\"Kajal\", \"singh\")\n",
    "\n",
    "# Arbituary Arguments (*args) :\n",
    "# If we do not know how many arguments that will be passed into your function, add a * before the parameter name in the function definition.\n",
    "# This way the function will receive a tuple of arguments, and can access the items accordingly\n",
    "def family(*kids):\n",
    "    print(kids)\n",
    "    print(kids[2])\n",
    "family(\"Bharti\",\"Radha\",\"Rahul\",\"Rohit\")\n",
    "\n",
    "\n",
    "# keyword arguments (kwargs) : \n",
    "# We can also send arguments with the key = value syntax\n",
    "def employee(e1 , e2 , e3):\n",
    "    print(e1)\n",
    "employee(e2 = \"Rahul\",e1 = \"Aditya\",e3 =\"unknown\")\n",
    "\n",
    "\n",
    "# Arbituary keyword arguments (**kwargs):\n",
    "# If you do not know how many keyword arguments that will be passed into your function, add two asterix: ** before the parameter name in the function definition.\n",
    "# This way the function will receive a dictionary of arguments, and can access the items accordingly\n",
    "def name(**name):\n",
    "    print(name)\n",
    "    print(name[\"lname\"])\n",
    "name(fname = \"Rahul\", lname = \"Rajput\",mname = \"Singh\")\n",
    "\n",
    "\n",
    "# default parameters : \n",
    "\n",
    "def country(states = \"India\"):\n",
    "    print(states)\n",
    "country(\"Brazil\")\n",
    "country(\"Sweden\")\n",
    "country()\n",
    "country(\"Russia\")"
   ]
  },
  {
   "cell_type": "code",
   "execution_count": 74,
   "metadata": {
    "collapsed": true
   },
   "outputs": [
    {
     "name": "stdout",
     "output_type": "stream",
     "text": [
      "Python\n",
      "C and C++\n",
      "Java\n",
      "9\n",
      "27\n",
      "Enter a number10\n",
      "3628800\n"
     ]
    }
   ],
   "source": [
    "# Passing a List as an argument\n",
    "def func(l):\n",
    "    for x in l:\n",
    "        print(x)\n",
    "\n",
    "l1 = [\"Python\",\"C and C++\", \"Java\"]\n",
    "func(l1)\n",
    "\n",
    "\n",
    "# return keyword\n",
    "# To let a function return a value, use the return statement\n",
    "def sum(a , b):\n",
    "    return a+b\n",
    "c = sum(4 ,5)\n",
    "print(c)\n",
    "print(sum(8,19))\n",
    "\n",
    "# function keyword\n",
    "#function definitions cannot be empty, but if you for some reason have a function definition with no content, put in the pass statement to avoid getting an error\n",
    "def emp():\n",
    "    pass\n",
    "emp()\n",
    "\n",
    "# # Recursion :\n",
    "# # Python also accepts function recursion, which means a defined function can call itself.\n",
    "# #Recursion is a common mathematical and programming concept. It means that a function calls itself. This has the benefit of meaning that you can loop through data to reach a result.\n",
    "# #The developer should be very careful with recursion as it can be quite easy to slip into writing a function which never terminates, or one that uses excess amounts of memory or processor power. However, when written correctly recursion can be a very efficient and mathematically-elegant approach to programming.\n",
    "# #In this example, tri_recursion() is a function that we have defined to call itself (\"recurse\"). We use the k variable as the data, which decrements (-1) every time we recurse. The recursion ends when the condition is not greater than 0 (i.e. when it is 0).\n",
    "\n",
    "# def recur(val):\n",
    "#     if val >0:\n",
    "#         result = val + recur(val-1)\n",
    "#         print(result)\n",
    "#     else: \n",
    "#         result = 0\n",
    "#     return result\n",
    "# print(\"Recursion Result: \")\n",
    "# recur(6)\n",
    "        \n",
    "##### Program to find the factorial of a number\n",
    "def fact(val):\n",
    "    if val>=2:\n",
    "        res = val * fact(val-1)\n",
    "    else:\n",
    "        res = 1\n",
    "    return res\n",
    "\n",
    "a = int(input(\"Enter a number : \"))\n",
    "print(fact(a))"
   ]
  },
  {
   "cell_type": "markdown",
   "metadata": {},
   "source": [
    "# Lambda  Function: A lambda function is a small anonymous function.\n",
    "\n",
    "# A lambda function can take any number of arguments, but can only have one expression.\n",
    "\n"
   ]
  },
  {
   "cell_type": "code",
   "execution_count": 12,
   "metadata": {},
   "outputs": [
    {
     "name": "stdout",
     "output_type": "stream",
     "text": [
      "15 <class 'function'>\n",
      "30\n",
      "6\n",
      "22\n",
      "33\n"
     ]
    }
   ],
   "source": [
    "x = lambda a : a + 10\n",
    "print(x(5) , type(x))\n",
    "\n",
    "x = lambda a ,b: a * b\n",
    "print(x(5, 6))\n",
    "\n",
    "x = lambda a , b, c : a*b *c\n",
    "print(x(1, 2,3))\n",
    "\n",
    "# The power of lambda is better shown when you use them as an anonymous function inside another function.\n",
    "def myfunc(n):\n",
    "    return lambda a : a*n\n",
    "\n",
    "mydoubler = myfunc(2)\n",
    "mytripler = myfunc(3)\n",
    "print(mydoubler(11))\n",
    "print(mytripler(11))\n"
   ]
  }
 ],
 "metadata": {
  "kernelspec": {
   "display_name": "Python 3",
   "language": "python",
   "name": "python3"
  },
  "language_info": {
   "codemirror_mode": {
    "name": "ipython",
    "version": 3
   },
   "file_extension": ".py",
   "mimetype": "text/x-python",
   "name": "python",
   "nbconvert_exporter": "python",
   "pygments_lexer": "ipython3",
   "version": "3.6.8"
  }
 },
 "nbformat": 4,
 "nbformat_minor": 4
}
