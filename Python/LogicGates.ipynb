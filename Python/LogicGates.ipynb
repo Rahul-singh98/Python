{
 "cells": [
  {
   "cell_type": "markdown",
   "metadata": {},
   "source": [
    "# Logic Gates in Python\n",
    "    A Logic gate is an elementary building block of any digital circuits. It takes one or two inputs and produces output based on those inputs. Outputs may be high (1) or low (0). Logic gates are implemented using diodes or transistors. It can also be constructed using vacuum tubes, electromagnetic elements like optics, molecule etc. In a computer, most of the electronic circuits are made up logic gates. Logic gates are used to create a circuit that performs calculations, data storage or shows off object-oriented programming especially the power of inheritance.There are seven basic logic gates defined, these are: AND gate, OR gate, NOT gate, NAND gate, NOR gate , XOR gate and XNOR gate.\n",
    "        1. AND Gate\n",
    "        The AND gate gives an output of 1 if both the two inputs are 1, it gives 0 otherwise."
   ]
  },
  {
   "cell_type": "code",
   "execution_count": 8,
   "metadata": {
    "collapsed": true
   },
   "outputs": [
    {
     "name": "stdout",
     "output_type": "stream",
     "text": [
      "True\n",
      "+-----------------------+------------------+\n",
      " | AND Truth Table      | Result           |\n",
      " | A = False, B = False | A AND B = False  | \n",
      " | A = False, B = True  | A AND B = False  | \n",
      " | A = True, B = False  | A AND B = False  | \n",
      " | A = True, B = True   | A AND B = True   | \n"
     ]
    }
   ],
   "source": [
    "def AND (a, b): \n",
    "  \n",
    "    if a == 1 and b == 1: \n",
    "        return True\n",
    "    else: \n",
    "        return False\n",
    "  \n",
    "# Driver code \n",
    "if __name__=='__main__': \n",
    "    print(AND(1, 1)) \n",
    "  \n",
    "    print(\"+-----------------------+------------------+\") \n",
    "    print(\" | AND Truth Table      | Result           |\") \n",
    "    print(\" | A = False, B = False | A AND B =\",AND(False,False),\" | \") \n",
    "    print(\" | A = False, B = True  | A AND B =\",AND(False,True),\" | \") \n",
    "    print(\" | A = True, B = False  | A AND B =\",AND(True,False),\" | \") \n",
    "    print(\" | A = True, B = True   | A AND B =\",AND(True,True),\"  | \")"
   ]
  },
  {
   "cell_type": "code",
   "execution_count": 14,
   "metadata": {
    "collapsed": true
   },
   "outputs": [
    {
     "name": "stdout",
     "output_type": "stream",
     "text": [
      "True\n",
      "+-----------------------+------------------+\n",
      " | NAND Truth Table     | Result           |\n",
      " | A = False, B = False | A AND B = True   | \n",
      " | A = False, B = True  | A AND B = True   | \n",
      " | A = True, B = False  | A AND B = True   | \n",
      " | A = True, B = True   | A AND B = False  | \n"
     ]
    }
   ],
   "source": [
    " # 2. NAND Gate\n",
    "        # The NAND gate (negated AND) gives an output of 0 if both inputs are 1, it gives 1 otherwise.\n",
    "def NAND(a,b):\n",
    "    if a== 1 and b==1:\n",
    "        return False\n",
    "    else : \n",
    "        return True\n",
    "    \n",
    "# Driver function:\n",
    "if __name__ == \"__main__\":\n",
    "    print(NAND(1,0))\n",
    "    \n",
    "    print(\"+-----------------------+------------------+\") \n",
    "    print(\" | NAND Truth Table     | Result           |\") \n",
    "    print(\" | A = False, B = False | A AND B =\",NAND(False,False),\"  | \") \n",
    "    print(\" | A = False, B = True  | A AND B =\",NAND(False,True),\"  | \") \n",
    "    print(\" | A = True, B = False  | A AND B =\",NAND(True,False),\"  | \") \n",
    "    print(\" | A = True, B = True   | A AND B =\",NAND(True,True),\" | \")\n",
    "\n"
   ]
  },
  {
   "cell_type": "code",
   "execution_count": 1,
   "metadata": {},
   "outputs": [
    {
     "name": "stdout",
     "output_type": "stream",
     "text": [
      "False\n",
      "+-----------------------+------------------+\n",
      " | OR Truth Table       | Result           |\n",
      " | A = False, B = False | A AND B = False  | \n",
      " | A = False, B = True  | A AND B = True   | \n",
      " | A = True, B = False  | A AND B = True   | \n",
      " | A = True, B = True   | A AND B = True   | \n"
     ]
    }
   ],
   "source": [
    "# 3. OR Gate\n",
    "    # The OR gate gives an output of 1 if either of the two inputs are 1, it gives 0 otherwise.\n",
    "    \n",
    "def OR(a , b):\n",
    "    if a == 1:\n",
    "        return True\n",
    "    elif b == 1:\n",
    "        return True\n",
    "    else :\n",
    "        return False\n",
    "    \n",
    "#main driver function\n",
    "if __name__ == '__main__':\n",
    "    print(OR(0,0))\n",
    "    \n",
    "    print(\"+-----------------------+------------------+\") \n",
    "    print(\" | OR Truth Table       | Result           |\") \n",
    "    print(\" | A = False, B = False | A AND B =\",OR(False,False),\" | \") \n",
    "    print(\" | A = False, B = True  | A AND B =\",OR(False,True),\"  | \") \n",
    "    print(\" | A = True, B = False  | A AND B =\",OR(True,False),\"  | \") \n",
    "    print(\" | A = True, B = True   | A AND B =\",OR(True,True),\"  | \")\n",
    "\n",
    "    "
   ]
  },
  {
   "cell_type": "code",
   "execution_count": 3,
   "metadata": {},
   "outputs": [
    {
     "name": "stdout",
     "output_type": "stream",
     "text": [
      "False\n",
      "+-----------------------+------------------+\n",
      " | OR Truth Table       | Result           |\n",
      " | A = False, B = False | A AND B = False  | \n",
      " | A = False, B = True  | A AND B = True   | \n",
      " | A = True, B = False  | A AND B = True   | \n",
      " | A = True, B = True   | A AND B = True   | \n"
     ]
    }
   ],
   "source": [
    "# 4. XOR Gate\n",
    "        # The XOR gate gives an output of 1 if either both inputs are different, it gives 0 if they are same.\n",
    "    \n",
    "def XOR(a , b):\n",
    "    if a!= b:\n",
    "        return True\n",
    "    else:\n",
    "        return False\n",
    "    \n",
    "# driver function\n",
    "if __name__ == '__main__':\n",
    "    print(XOR(5, 5))\n",
    "    \n",
    "    print(\"+-----------------------+------------------+\") \n",
    "    print(\" | OR Truth Table       | Result           |\") \n",
    "    print(\" | A = False, B = False | A AND B =\",OR(False,False),\" | \") \n",
    "    print(\" | A = False, B = True  | A AND B =\",OR(False,True),\"  | \") \n",
    "    print(\" | A = True, B = False  | A AND B =\",OR(True,False),\"  | \") \n",
    "    print(\" | A = True, B = True   | A AND B =\",OR(True,True),\"  | \")\n"
   ]
  },
  {
   "cell_type": "code",
   "execution_count": 8,
   "metadata": {
    "collapsed": true
   },
   "outputs": [
    {
     "name": "stdout",
     "output_type": "stream",
     "text": [
      "1\n",
      "+------------------+-----------+\n",
      " | NOT Truth Table | Result    |\n",
      " | A = False       | A NOT = 1 | \n",
      " | A = True,       | A NOT = 0 | \n"
     ]
    }
   ],
   "source": [
    "# 5. NOT Gate\n",
    "    # It acts as an inverter. It takes only one input. If the input is given as 1, it will invert the result as 0 and vice-versa.\n",
    "def NOT(a): \n",
    "    if(a == 0): \n",
    "        return 1\n",
    "    elif(a == 1): \n",
    "        return 0\n",
    "# Driver code \n",
    "if __name__=='__main__': \n",
    "    print(NOT(0)) \n",
    "  \n",
    "    print(\"+------------------+-----------+\") \n",
    "    print(\" | NOT Truth Table | Result    |\") \n",
    "    print(\" | A = False       | A NOT =\",NOT(False),\"| \") \n",
    "    print(\" | A = True,       | A NOT =\",NOT(True),\"| \")"
   ]
  },
  {
   "cell_type": "code",
   "execution_count": 21,
   "metadata": {},
   "outputs": [
    {
     "name": "stdout",
     "output_type": "stream",
     "text": [
      "1\n",
      "+-----------------------+-------------+\n",
      " | NOR Truth Table      | Result      |\n",
      " | A = False, B = False | A AND B = 1 | \n",
      " | A = False, B = True  | A AND B = 0 | \n",
      " | A = True, B = False  | A AND B = 0 | \n",
      " | A = True, B = True   | A AND B = 0 | \n"
     ]
    }
   ],
   "source": [
    "# 6. NOR Gate\n",
    "    # The NOR gate (negated OR) gives an output of 1 if both inputs are 0, it gives 1 otherwise.\n",
    "def NOR(a, b): \n",
    "    if(a == 0) and (b == 0): \n",
    "        return 1\n",
    "    elif(a == 0) and (b == 1): \n",
    "        return 0\n",
    "    elif(a == 1) and (b == 0): \n",
    "        return 0\n",
    "    elif(a == 1) and (b == 1): \n",
    "        return 0\n",
    "  \n",
    "# Driver code  \n",
    "if __name__=='__main__': \n",
    "    print(NOR(0, 0)) \n",
    "  \n",
    "    print(\"+-----------------------+-------------+\") \n",
    "    print(\" | NOR Truth Table      | Result      |\") \n",
    "    print(\" | A = False, B = False | A AND B =\",NOR(False,False),\"| \") \n",
    "    print(\" | A = False, B = True  | A AND B =\",NOR(False,True),\"| \") \n",
    "    print(\" | A = True, B = False  | A AND B =\",NOR(True,False),\"| \") \n",
    "    print(\" | A = True, B = True   | A AND B =\",NOR(True,True),\"| \") "
   ]
  },
  {
   "cell_type": "code",
   "execution_count": 2,
   "metadata": {
    "collapsed": true
   },
   "outputs": [
    {
     "name": "stdout",
     "output_type": "stream",
     "text": [
      "1\n",
      "+-----------------------+--------------+\n",
      " | XNOR Truth Table     | Result       |\n",
      " | A = False, B = False | A AND B = 1  | \n",
      " | A = False, B = True  | A AND B = 0  | \n",
      " | A = True, B = False  | A AND B = 0  | \n",
      " | A = True, B = True   | A AND B = 1  | \n"
     ]
    }
   ],
   "source": [
    "# 7. XNOR Gate\n",
    "    # The XNOR gate (negated XOR) gives an output of 1 both inputs are same and 0 if both are different.\n",
    "    \n",
    "  \n",
    "def XNOR(a,b): \n",
    "    if(a == b): \n",
    "        return 1\n",
    "    else: \n",
    "        return 0\n",
    "# Driver code \n",
    "if __name__=='__main__': \n",
    "    print(XNOR(1,1)) \n",
    "  \n",
    "    print(\"+-----------------------+--------------+\") \n",
    "    print(\" | XNOR Truth Table     | Result       |\") \n",
    "    print(\" | A = False, B = False | A AND B =\",XNOR(False,False),\" | \") \n",
    "    print(\" | A = False, B = True  | A AND B =\",XNOR(False,True),\" | \") \n",
    "    print(\" | A = True, B = False  | A AND B =\",XNOR(True,False),\" | \") \n",
    "    print(\" | A = True, B = True   | A AND B =\",XNOR(True,True),\" | \") "
   ]
  },
  {
   "cell_type": "code",
   "execution_count": null,
   "metadata": {},
   "outputs": [],
   "source": []
  }
 ],
 "metadata": {
  "kernelspec": {
   "display_name": "Python 3",
   "language": "python",
   "name": "python3"
  },
  "language_info": {
   "codemirror_mode": {
    "name": "ipython",
    "version": 3
   },
   "file_extension": ".py",
   "mimetype": "text/x-python",
   "name": "python",
   "nbconvert_exporter": "python",
   "pygments_lexer": "ipython3",
   "version": "3.6.8"
  }
 },
 "nbformat": 4,
 "nbformat_minor": 4
}
