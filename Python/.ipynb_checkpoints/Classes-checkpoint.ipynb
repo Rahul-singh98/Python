{
 "cells": [
  {
   "cell_type": "markdown",
   "metadata": {},
   "source": [
    "# Python is an object oriented programming language.\n",
    "# Almost everything in Python is an object, with its properties and methods.\n",
    "# A Class is like an object constructor, or a \"blueprint\" for creating objects"
   ]
  },
  {
   "cell_type": "code",
   "execution_count": 24,
   "metadata": {
    "collapsed": true
   },
   "outputs": [
    {
     "name": "stdout",
     "output_type": "stream",
     "text": [
      "4\n",
      "4\n",
      "rahul 21\n",
      "Hello Kajal your age is 21\n",
      "hello Rahul your age is  21\n",
      "hello Rahul your age is  39\n"
     ]
    }
   ],
   "source": [
    "class myclass():\n",
    "    x = 4\n",
    "    print(x)\n",
    "val =  myclass()\n",
    "print(val.x)\n",
    "\n",
    "\n",
    "# The examples above are classes and objects in their simplest form, and are not really useful in real life applications.\n",
    "# To understand the meaning of classes we have to understand the built-in __init__() function.\n",
    "# All classes have a function called __init__(), which is always executed when the class is being initiated.\n",
    "# Use the __init__() function to assign values to object properties, or other operations that are necessary to do when the object is being created:\n",
    "class myclass:\n",
    "    def __init__(self, name , age):\n",
    "        self.fname = name\n",
    "        self.bage = age\n",
    "        \n",
    "p1=myclass(\"rahul\",21)\n",
    "\n",
    "print(p1.fname , p1.bage)\n",
    "# The __init__() function is called automatically every time the class is being used to create a new object\n",
    "\n",
    "\n",
    "# Objects can also contain methods. Methods in objects are functions that belong to the object\n",
    "class myclass:\n",
    "    def __init__(self , name , age):\n",
    "        self.lname = name\n",
    "        self.bage = age\n",
    "    \n",
    "    def msg(self):\n",
    "        print(\"Hello \"+ self.lname +\" your age is\",self.bage)\n",
    "\n",
    "p1 = myclass(\"Kajal\",21)\n",
    "p1.msg()\n",
    "\n",
    "#The self parameter is a reference to the current instance of the class, and is used to access variables that belongs to the class.\n",
    "#It does not have to be named self , you can call it whatever you like, but it has to be the first parameter of any function in the class:\n",
    "class Person:\n",
    "    def __init__(myObject , name , age):\n",
    "        myObject.myName = name\n",
    "        myObject.myAge = age\n",
    "    def myFunc(newObject):\n",
    "        print(\"hello \"+ newObject.myName +\" your age is \", newObject.myAge)\n",
    "\n",
    "p2 = Person(\"Rahul\",21)\n",
    "p2.myFunc()\n",
    "\n",
    "\n",
    "# We can modify value of class \n",
    "p2.myAge = 39\n",
    "p2.myFunc()\n",
    "\n",
    "\n",
    "# # We can delete properties on objects by using the del keyword and also delete objects by using del keyword\n",
    "# del p2.myAge\n",
    "# p2.myFunc()\n",
    "\n",
    "# class definitions cannot be empty, but if you for some reason have a class definition with no content, put in the pass statement to avoid getting an error\n",
    "class cls:\n",
    "    pass\n"
   ]
  },
  {
   "cell_type": "markdown",
   "metadata": {},
   "source": [
    "# Inheritance : Inheritance allows us to define a class that inherits all the methods and properties from another class.\n",
    "\n",
    "# Parent class is the class being inherited from, also called base class.\n",
    "\n",
    "# Child class is the class that inherits from another class, also called derived class\n"
   ]
  },
  {
   "cell_type": "code",
   "execution_count": 51,
   "metadata": {
    "collapsed": true
   },
   "outputs": [
    {
     "name": "stdout",
     "output_type": "stream",
     "text": [
      "Hello Rahul Singh\n",
      "Name of the employee is rahul singh\n",
      "Age is 21 \n",
      "Department is : CSE\n"
     ]
    }
   ],
   "source": [
    "class Person:\n",
    "    def __init__(self, fname , lname):\n",
    "        self.fname = fname\n",
    "        self.lname = lname\n",
    "        \n",
    "    def printName(self):\n",
    "        print(\"Hello \" + self.fname + \" \"+ self.lname)\n",
    "        \n",
    "class Student(Person):\n",
    "    pass\n",
    "\n",
    "s1 = Student(\"Rahul\",\"Singh\")\n",
    "s1.printName()\n",
    "\n",
    "\n",
    "# When we add the __init__() function, the child class will no longer inherit the parent's __init__() function\n",
    "# The child's __init__() function overrides the inheritance of the parent's __init__() function\n",
    "# To keep the inheritance of the parent's __init__() function, add a call to the parent's __init__() function\n",
    "class employee(Person):\n",
    "    def __init__(self,fname , lname , age , depart):\n",
    "        Person.__init__(self,fname , lname)\n",
    "        self.age = age\n",
    "        self.depart = depart\n",
    "        \n",
    "    def printFunction(self):\n",
    "        print(\"Name of the employee is \"+self.fname +\" \" + self.lname)\n",
    "#         print(\"Age is {}\".format(self.age) , \"\\nDepartment is : {}\".format(self.depart))\n",
    "        print(\"Age is {}\".format(self.age) , \"\\nDepartment is : \"+self.depart)\n",
    "        \n",
    "e1 = employee(\"rahul\" , \"singh\" ,21 ,\"CSE\")\n",
    "e1.printFunction()\n",
    "\n",
    "# Python also has a super() function that will make the child class inherit all the methods and properties from its parent\n",
    "# By using the super() function, you do not have to use the name of the parent element, it will automatically inherit the methods and properties from its parent.\n",
    "\n",
    "\n",
    "\n",
    "\n"
   ]
  },
  {
   "cell_type": "code",
   "execution_count": 2,
   "metadata": {
    "collapsed": true
   },
   "outputs": [
    {
     "name": "stdout",
     "output_type": "stream",
     "text": [
      "Base1\n",
      "Base2\n",
      "Derived\n",
      "Geek1 Geek2\n"
     ]
    }
   ],
   "source": [
    "class Base1(object): \n",
    "    def __init__(self): \n",
    "        self.str1 = \"Geek1\"\n",
    "        print (\"Base1\")\n",
    "  \n",
    "class Base2(object): \n",
    "    def __init__(self): \n",
    "        self.str2 = \"Geek2\"        \n",
    "        print (\"Base2\")\n",
    "  \n",
    "class Derived(Base1, Base2): \n",
    "    def __init__(self): \n",
    "          \n",
    "        # Calling constructors of Base1 \n",
    "        # and Base2 classes \n",
    "        Base1.__init__(self) \n",
    "        Base2.__init__(self) \n",
    "        print (\"Derived\")\n",
    "          \n",
    "    def printStrs(self): \n",
    "        print(self.str1, self.str2) \n",
    "         \n",
    "  \n",
    "ob = Derived() \n",
    "ob.printStrs()"
   ]
  },
  {
   "cell_type": "code",
   "execution_count": 8,
   "metadata": {
    "collapsed": true
   },
   "outputs": [
    {
     "name": "stdout",
     "output_type": "stream",
     "text": [
      "2000\n",
      "10 20\n",
      "10\n"
     ]
    }
   ],
   "source": [
    "# How to access parent members in a subclass?\n",
    "class Base(object): \n",
    "  \n",
    "    # Constructor \n",
    "    def __init__(self, x): \n",
    "        self.x = x     \n",
    "  \n",
    "class Derived(Base): \n",
    "  \n",
    "    # Constructor \n",
    "    def __init__(self, x, y): \n",
    "        Base.x = x  \n",
    "        self.y = y \n",
    "  \n",
    "    def printXY(self): \n",
    "       \n",
    "       # print(self.x, self.y) will also work \n",
    "       print(Base.x, self.y) \n",
    "  \n",
    "x = Base(2000)  \n",
    "# Driver Code \n",
    "print(x.x)\n",
    "d = Derived(10, 20) \n",
    "d.printXY()\n",
    "print(Base.x)"
   ]
  },
  {
   "cell_type": "code",
   "execution_count": 4,
   "metadata": {
    "collapsed": true
   },
   "outputs": [
    {
     "name": "stdout",
     "output_type": "stream",
     "text": [
      "10 20\n"
     ]
    }
   ],
   "source": [
    "# Using super() :- We can also access parent class members using super.\n",
    "\n",
    "class Base(object): \n",
    "  \n",
    "    # Constructor \n",
    "    def __init__(self, x): \n",
    "        self.x = x     \n",
    "  \n",
    "class Derived(Base): \n",
    "  \n",
    "    # Constructor \n",
    "    def __init__(self, x, y): \n",
    "          \n",
    "        ''' In Python 3.x, \"super().__init__(name)\" \n",
    "            also works''' \n",
    "        super(Derived, self).__init__(x) \n",
    "        self.y = y \n",
    "  \n",
    "    def printXY(self): \n",
    "  \n",
    "       # Note that Base.x won't work here \n",
    "       # because super() is used in constructor \n",
    "       print(self.x, self.y) \n",
    "  \n",
    "  \n",
    "# Driver Code \n",
    "d = Derived(10, 20) \n",
    "d.printXY() "
   ]
  },
  {
   "cell_type": "code",
   "execution_count": 8,
   "metadata": {},
   "outputs": [
    {
     "name": "stdout",
     "output_type": "stream",
     "text": [
      "4\n",
      "8\n",
      "24\n"
     ]
    }
   ],
   "source": [
    "class X(object): \n",
    "    def __init__(self, a): \n",
    "        self.num = a \n",
    "    def doubleup(self): \n",
    "        self.num *= 2\n",
    "  \n",
    "class Y(X): \n",
    "    def __init__(self, a): \n",
    "        X.__init__(self, a) \n",
    "    def tripleup(self): \n",
    "        self.num *= 3\n",
    "  \n",
    "obj = Y(4) \n",
    "print(obj.num) \n",
    "  \n",
    "obj.doubleup() \n",
    "print(obj.num) \n",
    "  \n",
    "obj.tripleup() \n",
    "print(obj.num) "
   ]
  },
  {
   "cell_type": "code",
   "execution_count": 1,
   "metadata": {
    "collapsed": true
   },
   "outputs": [
    {
     "name": "stdout",
     "output_type": "stream",
     "text": [
      "Geek1 True E101\n"
     ]
    }
   ],
   "source": [
    "class Person(object): \n",
    "    def __init__(self, name): \n",
    "        self.name = name \n",
    "          \n",
    "    def getName(self): \n",
    "        return self.name \n",
    "      \n",
    "    def isEmployee(self): \n",
    "        return False\n",
    "  \n",
    "# Inherited or Subclass (Note Person in bracket) \n",
    "class Employee(Person): \n",
    "    def __init__(self, name, eid): \n",
    "  \n",
    "        ''' In Python 3.0+, \"super().__init__(name)\" \n",
    "            also works''' \n",
    "        super(Employee, self).__init__(name) \n",
    "        self.empID = eid \n",
    "          \n",
    "    def isEmployee(self): \n",
    "        return True\n",
    "          \n",
    "    def getID(self): \n",
    "        return self.empID \n",
    "  \n",
    "# Driver code \n",
    "emp = Employee(\"Geek1\", \"E101\")  \n",
    "print(emp.getName(), emp.isEmployee(), emp.getID()) "
   ]
  },
  {
   "cell_type": "markdown",
   "metadata": {},
   "source": [
    "# Data hiding\n",
    "\n",
    "    In Python, we use double underscore (Or __) before the attributes name and those attributes will not be directly visible outside."
   ]
  },
  {
   "cell_type": "code",
   "execution_count": 18,
   "metadata": {
    "collapsed": true
   },
   "outputs": [
    {
     "name": "stdout",
     "output_type": "stream",
     "text": [
      "2\n",
      "3\n",
      "100\n",
      "101\n",
      "100\n"
     ]
    }
   ],
   "source": [
    "class A:\n",
    "    _hiddenvalue = 0\n",
    "    \n",
    "    def add(self , increament):\n",
    "        self._hiddenvalue += increament\n",
    "        print(self._hiddenvalue)\n",
    "a =A()\n",
    "a.add(2)\n",
    "b = A()\n",
    "b.add(3)\n",
    "a.add(98)\n",
    "b.add(98)\n",
    "\n",
    "print(a._hiddenvalue)"
   ]
  },
  {
   "cell_type": "markdown",
   "metadata": {},
   "source": [
    "# some cool operators funcitions in class\n",
    "    OPERATOR\tMAGIC METHOD\n",
    "    +\t        __add__(self, other)\n",
    "    –\t        __sub__(self, other)\n",
    "    *\t        __mul__(self, other)\n",
    "    /\t        __truediv__(self, other)\n",
    "    //\t        __floordiv__(self, other)\n",
    "    %\t        __mod__(self, other)\n",
    "    **\t        __pow__(self, other)\n",
    "    \n",
    "    <\t        __lt__(self, other)\n",
    "    >\t        __gt__(self, other)\n",
    "    <=\t        __le__(self, other)\n",
    "    >=\t        __ge__(self, other)\n",
    "    ==\t        __eq__(self, other)\n",
    "    !=\t        __ne__(self, other)\n",
    "    \n",
    "    -=\t        __isub__(self, other)\n",
    "    +=\t        __iadd__(self, other)\n",
    "    *=\t        __imul__(self, other)\n",
    "    /=\t        __idiv__(self, other)\n",
    "    //=\t        __ifloordiv__(self, other)\n",
    "    %=\t        __imod__(self, other)\n",
    "    **=\t        __ipow__(self, other)\n",
    "    \n",
    "    –\t        __neg__(self, other)\n",
    "    +\t        __pos__(self, other)\n",
    "    ~\t        __invert__(self, other)"
   ]
  },
  {
   "cell_type": "markdown",
   "metadata": {},
   "source": [
    "# use of yield :- The yield statement suspends function’s execution and sends a value back to the caller, but retains enough state to enable function to resume where it is left off. When resumed, the function continues execution immediately after the last yield run. This allows its code to produce a series of values over time, rather than computing them at once and sending them back like a list."
   ]
  },
  {
   "cell_type": "code",
   "execution_count": 2,
   "metadata": {
    "collapsed": true
   },
   "outputs": [
    {
     "name": "stdout",
     "output_type": "stream",
     "text": [
      "1\n",
      "2\n",
      "3\n",
      "1\n",
      "4\n",
      "9\n",
      "16\n",
      "25\n",
      "36\n",
      "49\n",
      "64\n",
      "81\n",
      "100\n"
     ]
    }
   ],
   "source": [
    "def simpleGeneratorFun(): \n",
    "    yield 1\n",
    "    yield 2\n",
    "    yield 3\n",
    "  \n",
    "# Driver code to check above generator function \n",
    "for value in simpleGeneratorFun():  \n",
    "    print(value) \n",
    "    \n",
    "def nextSquare(): \n",
    "    i = 1; \n",
    "  \n",
    "    # An Infinite loop to generate squares  \n",
    "    while True: \n",
    "        yield i*i                 \n",
    "        i += 1  # Next execution resumes  \n",
    "                # from this point      \n",
    "  \n",
    "# Driver code to test above generator  \n",
    "# function \n",
    "for num in nextSquare(): \n",
    "    if num > 100: \n",
    "         break    \n",
    "    print(num) "
   ]
  },
  {
   "cell_type": "code",
   "execution_count": 10,
   "metadata": {
    "collapsed": true
   },
   "outputs": [
    {
     "name": "stdout",
     "output_type": "stream",
     "text": [
      "1\n",
      "2\n",
      "3\n"
     ]
    }
   ],
   "source": [
    "# Generator-Object : Generator functions return a generator object. Generator objects are used either by calling the next method on the generator object or using the generator object in a “for in” loop (as shown in the above program).\n",
    "def simpleGeneratorFun(): \n",
    "    yield 1\n",
    "    yield 2\n",
    "    yield 3\n",
    "   # x is a generator object \n",
    "x = simpleGeneratorFun() \n",
    "  \n",
    "# Iterating over the generator object using next \n",
    "print(x.__next__()) # In Python 3, __next__() \n",
    "print(x.__next__())\n",
    "print(x.__next__())"
   ]
  },
  {
   "cell_type": "code",
   "execution_count": 15,
   "metadata": {
    "collapsed": true
   },
   "outputs": [
    {
     "name": "stdout",
     "output_type": "stream",
     "text": [
      "0\n",
      "1\n",
      "1\n",
      "2\n",
      "3\n",
      "\n",
      "Using for in loop\n",
      "0\n",
      "1\n",
      "1\n",
      "2\n",
      "3\n"
     ]
    }
   ],
   "source": [
    "def fib(limit): \n",
    "      \n",
    "    # Initialize first two Fibonacci Numbers  \n",
    "    a, b = 0, 1\n",
    "  \n",
    "    # One by one yield next Fibonacci Number \n",
    "    while a < limit: \n",
    "        yield a \n",
    "        a, b = b, a + b \n",
    "  \n",
    "# Create a generator object \n",
    "x = fib(5) \n",
    "  \n",
    "# Iterating over the generator object using next \n",
    "print(x.__next__()); # In Python 3, __next__() \n",
    "print(x.__next__()); \n",
    "print(x.__next__()); \n",
    "print(x.__next__()); \n",
    "print(x.__next__()); \n",
    "  \n",
    "# Iterating over the generator object using for \n",
    "# in loop. \n",
    "print(\"\\nUsing for in loop\") \n",
    "for i in fib(5):  \n",
    "    print(i) \n",
    "    \n"
   ]
  },
  {
   "cell_type": "markdown",
   "metadata": {},
   "source": [
    "# Class method versus Static method"
   ]
  },
  {
   "cell_type": "code",
   "execution_count": 12,
   "metadata": {
    "collapsed": true
   },
   "outputs": [
    {
     "name": "stdout",
     "output_type": "stream",
     "text": [
      "Rahul 21\n",
      "Pooja ji 24\n",
      "False\n"
     ]
    }
   ],
   "source": [
    "# use of classmethod and staticmethod\n",
    "from datetime import date\n",
    "class Person:\n",
    "    def __init__(self , name , age):\n",
    "        self.name = name\n",
    "        self.age = age\n",
    "        \n",
    "    #classmethod : A class method receives the class as implicit first argument, just like an instance method receives the instance\n",
    "    @classmethod\n",
    "    def fromage(cls , name , year):\n",
    "        return cls(name , date.today().year - year)\n",
    "    \n",
    "    #staticmethod : A static method does not receive an implicit first argument.\n",
    "    @staticmethod \n",
    "    def isAdult(age):\n",
    "        return age>=18\n",
    "    \n",
    "person1 = Person(\"Rahul\" , 21)\n",
    "person2 = Person.fromage(\"Pooja ji\", 1996)\n",
    "\n",
    "print(person1.name , person1.age)\n",
    "print(person2.name , person2.age)\n",
    "\n",
    "print(Person.isAdult(14))"
   ]
  },
  {
   "cell_type": "code",
   "execution_count": 24,
   "metadata": {
    "collapsed": true
   },
   "outputs": [
    {
     "name": "stdout",
     "output_type": "stream",
     "text": [
      "2353\n"
     ]
    }
   ],
   "source": [
    "from functools import partial\n",
    "def add(a, b ,c ,d):\n",
    "        return 1000*a + 100*b + 10*c + d\n",
    "    \n",
    "f = partial(add,2 , 3 , 5)\n",
    "print(f(3))\n",
    "\n",
    "\n"
   ]
  },
  {
   "cell_type": "code",
   "execution_count": 29,
   "metadata": {
    "collapsed": true
   },
   "outputs": [
    {
     "name": "stdout",
     "output_type": "stream",
     "text": [
      "932\n"
     ]
    }
   ],
   "source": [
    "from functools import *\n",
    "def add(a, b ,c):\n",
    "    return 100*a + 10 *b +c\n",
    "f = partial(add ,c = 12 , b = 2)\n",
    "print(f(9))"
   ]
  },
  {
   "cell_type": "markdown",
   "metadata": {},
   "source": [
    "# What is Polymorphism : \n",
    "\n",
    "    The word polymorphism means having many forms. In programming, polymorphism means same function name (but different signatures) being uses for different types."
   ]
  },
  {
   "cell_type": "code",
   "execution_count": 2,
   "metadata": {
    "collapsed": true
   },
   "outputs": [
    {
     "name": "stdout",
     "output_type": "stream",
     "text": [
      "New Delhi is the capital of India.\n",
      "Hindi the primary language of India.\n",
      "India is a developing country.\n",
      "Washington, D.C. is the capital of USA.\n",
      "English is the primary language of USA.\n",
      "USA is a developed country.\n"
     ]
    }
   ],
   "source": [
    "class India(): \n",
    "    def capital(self): \n",
    "        print(\"New Delhi is the capital of India.\") \n",
    "  \n",
    "    def language(self): \n",
    "        print(\"Hindi the primary language of India.\") \n",
    "  \n",
    "    def type(self): \n",
    "        print(\"India is a developing country.\") \n",
    "  \n",
    "class USA(): \n",
    "    def capital(self): \n",
    "        print(\"Washington, D.C. is the capital of USA.\") \n",
    "  \n",
    "    def language(self): \n",
    "        print(\"English is the primary language of USA.\") \n",
    "  \n",
    "    def type(self): \n",
    "        print(\"USA is a developed country.\") \n",
    "  \n",
    "obj_ind = India() \n",
    "obj_usa = USA() \n",
    "for country in (obj_ind, obj_usa): \n",
    "    country.capital() \n",
    "    country.language() \n",
    "    country.type() "
   ]
  },
  {
   "cell_type": "markdown",
   "metadata": {},
   "source": [
    "# Polymorphism with Inheritance:\n",
    "    In Python, Polymorphism lets us define methods in the child class that have the same name as the methods in the parent class. In inheritance, the child class inherits the methods from the parent class. However, it is possible to modify a method in a child class that it has inherited from the parent class. This is particularly useful in cases where the method inherited from the parent class doesn’t quite fit the child class. In such cases, we re-implement the method in the child class. This process of re-implementing a method in the child class is known as Method Overriding."
   ]
  },
  {
   "cell_type": "code",
   "execution_count": 5,
   "metadata": {
    "collapsed": true
   },
   "outputs": [
    {
     "name": "stdout",
     "output_type": "stream",
     "text": [
      "There are many types of birds\n",
      "Some birds can fly and some can't\n",
      "There are many types of birds\n",
      "Sparrows can fly\n",
      "There are many types of birds\n",
      "Ostrich can't fly\n"
     ]
    }
   ],
   "source": [
    "# without using self it won't give an error\n",
    "\n",
    "class Bird:\n",
    "    def intro(self):\n",
    "        print(\"There are many types of birds\")\n",
    "        \n",
    "    def fly(self):\n",
    "        print(\"Some birds can fly and some can't\")\n",
    "        \n",
    "        \n",
    "class Sparrow(Bird):\n",
    "    def fly(self):\n",
    "        print(\"Sparrows can fly\")\n",
    "        \n",
    "class Ostrich(Bird):\n",
    "    def fly(self):\n",
    "        print(\"Ostrich can't fly\")\n",
    "        \n",
    "obj_bird = Bird\n",
    "obj_spr = Sparrow\n",
    "obj_ost = Ostrich\n",
    "\n",
    "obj_bird.intro()\n",
    "obj_bird.fly()\n",
    "\n",
    "obj_spr.intro()\n",
    "obj_spr.fly()\n",
    "\n",
    "obj_ost.intro()\n",
    "obj_ost.fly()"
   ]
  },
  {
   "cell_type": "markdown",
   "metadata": {},
   "source": [
    "# Polymorphism with a Function and objects:\n",
    "    It is also possible to create a function that can take any object, allowing for polymorphism. In this example, let’s create a function called “func()” which will take an object which we will name “obj”. Though we are using the name ‘obj’, any instantiated object will be able to be called into this function. Next, lets give the function something to do that uses the ‘obj’ object we passed to it. In this case lets call the three methods, viz., capital(), language() and type(), each of which is defined in the two classes ‘India’ and ‘USA’. Next, let’s create instantiations of both the ‘India’ and ‘USA’ classes if we don’t have them already. With those, we can call their action using the same func() function:"
   ]
  },
  {
   "cell_type": "code",
   "execution_count": 6,
   "metadata": {
    "collapsed": true
   },
   "outputs": [
    {
     "name": "stdout",
     "output_type": "stream",
     "text": [
      "New Delhi is the capital of India.\n",
      "Hindi the primary language of India.\n",
      "India is a developing country.\n",
      "Washington, D.C. is the capital of USA.\n",
      "English is the primary language of USA.\n",
      "USA is a developed country.\n"
     ]
    }
   ],
   "source": [
    "class India(): \n",
    "    def capital(self): \n",
    "        print(\"New Delhi is the capital of India.\") \n",
    "   \n",
    "    def language(self): \n",
    "        print(\"Hindi the primary language of India.\") \n",
    "   \n",
    "    def type(self): \n",
    "        print(\"India is a developing country.\") \n",
    "   \n",
    "class USA(): \n",
    "    def capital(self): \n",
    "        print(\"Washington, D.C. is the capital of USA.\") \n",
    "   \n",
    "    def language(self): \n",
    "        print(\"English is the primary language of USA.\") \n",
    "   \n",
    "    def type(self): \n",
    "        print(\"USA is a developed country.\") \n",
    "  \n",
    "def func(obj): \n",
    "    obj.capital() \n",
    "    obj.language() \n",
    "    obj.type() \n",
    "   \n",
    "obj_ind = India() \n",
    "obj_usa = USA() \n",
    "   \n",
    "func(obj_ind) \n",
    "func(obj_usa)"
   ]
  },
  {
   "cell_type": "markdown",
   "metadata": {},
   "source": [
    "# Class or Static Variables in Python\n",
    "    Class or static variables are shared by all objects. Instance or non-static variables are different for different objects (every object has a copy of it).\n",
    "    The Python approach is simple, it doesn’t require a static keyword. All variables which are assigned a value in class declaration are class variables. And variables which are assigned values inside class methods are instance variables."
   ]
  },
  {
   "cell_type": "code",
   "execution_count": 7,
   "metadata": {
    "collapsed": true
   },
   "outputs": [
    {
     "name": "stdout",
     "output_type": "stream",
     "text": [
      "cse\n",
      "cse\n",
      "Geek\n",
      "Nerd\n",
      "1\n",
      "2\n",
      "cse\n"
     ]
    }
   ],
   "source": [
    "class CSStudent: \n",
    "    stream = 'cse'                  # Class Variable \n",
    "    def __init__(self,name,roll): \n",
    "        self.name = name            # Instance Variable \n",
    "        self.roll = roll            # Instance Variable \n",
    "  \n",
    "# Objects of CSStudent class \n",
    "a = CSStudent('Geek', 1) \n",
    "b = CSStudent('Nerd', 2) \n",
    "  \n",
    "print(a.stream)  # prints \"cse\" \n",
    "print(b.stream)  # prints \"cse\" \n",
    "print(a.name)    # prints \"Geek\" \n",
    "print(b.name)    # prints \"Nerd\" \n",
    "print(a.roll)    # prints \"1\" \n",
    "print(b.roll)    # prints \"2\" \n",
    "  \n",
    "# Class variables can be accessed using class \n",
    "# name also \n",
    "print(CSStudent.stream) # prints \"cse\" "
   ]
  },
  {
   "cell_type": "markdown",
   "metadata": {},
   "source": [
    "# Class Method\n",
    "\n",
    "    The @classmethod decorator, is a builtin function decorator that is an expression that gets evaluated after your function is defined. The result of that evaluation shadows your function definition.\n",
    "    A class method receives the class as implicit first argument, just like an instance method receives the instance\n",
    "    \n",
    "    Syntax:\n",
    "\n",
    "    class C(object):\n",
    "        @classmethod\n",
    "        def fun(cls, arg1, arg2, ...):\n",
    "           ....\n",
    "           \n",
    "    fun: function that needs to be converted into a class method\n",
    "    returns: a class method for function.\n",
    "    \n",
    "    \n",
    "    A class method is a method which is bound to the class and not the object of the class.\n",
    "    They have the access to the state of the class as it takes a class parameter that points to the class and not the object instance.\n",
    "    It can modify a class state that would apply across all the instances of the class. For example it can modify a class variable that will be applicable to all the instances.\n",
    "   \n",
    "# Static method\n",
    "\n",
    "    A static method does not receive an implicit first argument.\n",
    "    Syntax:\n",
    "\n",
    "    class C(object):\n",
    "        @staticmethod\n",
    "        def fun(arg1, arg2, ...):\n",
    "            ...\n",
    "    returns: a static method for function fun.\n",
    "    \n",
    "    \n",
    "    A static method is also a method which is bound to the class and not the object of the class.\n",
    "    A static method can’t access or modify class state.\n",
    "    It is present in a class because it makes sense for the method to be present in class."
   ]
  },
  {
   "cell_type": "code",
   "execution_count": 10,
   "metadata": {
    "collapsed": true
   },
   "outputs": [
    {
     "name": "stdout",
     "output_type": "stream",
     "text": [
      "21\n",
      "24\n",
      "True\n"
     ]
    }
   ],
   "source": [
    "from datetime import date \n",
    "  \n",
    "class Person: \n",
    "    def __init__(self, name, age): \n",
    "        self.name = name \n",
    "        self.age = age \n",
    "      \n",
    "    # a class method to create a Person object by birth year. \n",
    "    @classmethod\n",
    "    def fromBirthYear(cls, name, year): \n",
    "        return cls(name, date.today().year - year) \n",
    "      \n",
    "    # a static method to check if a Person is adult or not. \n",
    "    @staticmethod\n",
    "    def isAdult(age): \n",
    "        return age > 18\n",
    "  \n",
    "person1 = Person('mayank', 21) \n",
    "person2 = Person.fromBirthYear('mayank', 1996) \n",
    "  \n",
    "print(person1.age )\n",
    "print(person2.age )\n",
    "  \n",
    "# print the result \n",
    "print( Person.isAdult(22) )"
   ]
  },
  {
   "cell_type": "markdown",
   "metadata": {},
   "source": [
    "# Changing Class Members in Python\n",
    "    We have seen that Python doesn’t have static keyword. All variables that are assigned a value in class declaration are class variables\n",
    "\n",
    "    We should be careful when changing value of class variable. If we try to change class variable using object, a new instance (or non-static) variable for that particular object is created and this variable shadows the class variables. Below is Python program to demonstrate the same."
   ]
  },
  {
   "cell_type": "code",
   "execution_count": 12,
   "metadata": {
    "collapsed": true
   },
   "outputs": [
    {
     "name": "stdout",
     "output_type": "stream",
     "text": [
      "Initially\n",
      "a.stream = cse\n",
      "b.stream = cse\n",
      "\n",
      "After changing a.stream\n",
      "a.stream = ece\n",
      "b.stream = cse\n"
     ]
    }
   ],
   "source": [
    "class CSStudent: \n",
    "    stream = 'cse'     # Class Variable  \n",
    "    def __init__(self, name, roll): \n",
    "        self.name = name  \n",
    "        self.roll = roll \n",
    "  \n",
    "# Driver program to test the functionality \n",
    "# Creating objects of CSStudent class \n",
    "a = CSStudent(\"Geek\", 1) \n",
    "b = CSStudent(\"Nerd\", 2) \n",
    "  \n",
    "print( \"Initially\")\n",
    "print (\"a.stream =\", a.stream )\n",
    "print (\"b.stream =\", b.stream  )\n",
    "  \n",
    "# This thing doesn't change class(static) variable \n",
    "# Instead creates instance variable for the object \n",
    "# 'a' that shadows class member. \n",
    "a.stream = \"ece\"\n",
    "  \n",
    "print( \"\\nAfter changing a.stream\")\n",
    "print( \"a.stream =\", a.stream )\n",
    "print (\"b.stream =\", b.stream )"
   ]
  },
  {
   "cell_type": "code",
   "execution_count": 14,
   "metadata": {
    "collapsed": true
   },
   "outputs": [
    {
     "name": "stdout",
     "output_type": "stream",
     "text": [
      "a.stream = cse\n",
      "\n",
      "Class variable changes to mec\n",
      "\n",
      "Value of variable steam for each object\n",
      "a.stream = mec\n",
      "b.stream = mec\n"
     ]
    }
   ],
   "source": [
    "class CSStudent: \n",
    "    stream = 'cse'     # Class Variable  \n",
    "    def __init__(self, name, roll): \n",
    "        self.name = name  \n",
    "        self.roll = roll \n",
    "  \n",
    "# New object for further implementation \n",
    "a = CSStudent(\"check\", 3) \n",
    "print( \"a.stream =\", a.stream )\n",
    "  \n",
    "# Correct way to change the value of class variable \n",
    "CSStudent.stream = \"mec\"\n",
    "print( \"\\nClass variable changes to mec\")\n",
    "  \n",
    "# New object for further implementation \n",
    "b = CSStudent(\"carter\", 4) \n",
    "  \n",
    "print (\"\\nValue of variable steam for each object\")\n",
    "print (\"a.stream =\", a.stream )\n",
    "print (\"b.stream =\", b.stream )\n"
   ]
  },
  {
   "cell_type": "markdown",
   "metadata": {},
   "source": [
    "# Constructors in Python\n",
    "\n",
    "    Constructors are generally used for instantiating an object.The task of constructors is to initialize(assign values) to the data members of the class when an object of class is created.In Python the __init__() method is called the constructor and is always called when an object is created.\n",
    "\n",
    "    Syntax of constructor declaration :\n",
    "\n",
    "    def __init__(self):\n",
    "        # body of the constructor\n",
    "        \n",
    "        \n",
    "    default constructor :The default constructor is simple constructor which doesn’t accept any arguments.It’s definition has only one argument which is a reference to the instance being constructed.\n",
    "    \n",
    "    parameterized constructor :constructor with parameters is known as parameterized constructor.The parameterized constructor take its first argument as a reference to the instance being constructed known as self and the rest of the arguments are provided by the programmer."
   ]
  },
  {
   "cell_type": "code",
   "execution_count": 15,
   "metadata": {
    "collapsed": true
   },
   "outputs": [
    {
     "name": "stdout",
     "output_type": "stream",
     "text": [
      "GeekforGeeks\n"
     ]
    }
   ],
   "source": [
    "class GeekforGeeks: \n",
    "    geek = \"\" \n",
    "  \n",
    "    # default constructor \n",
    "    def __init__(self): \n",
    "        self.geek = \"GeekforGeeks\"\n",
    "  \n",
    "    # a method for printing data members \n",
    "    def print_Geek(self): \n",
    "        print(self.geek) \n",
    "  \n",
    "  \n",
    "# creating object of the class \n",
    "obj = GeekforGeeks() \n",
    "  \n",
    "# calling the instance method using the object obj \n",
    "obj.print_Geek() "
   ]
  },
  {
   "cell_type": "code",
   "execution_count": 16,
   "metadata": {
    "collapsed": true
   },
   "outputs": [
    {
     "name": "stdout",
     "output_type": "stream",
     "text": [
      "First number = 1000\n",
      "Second number = 2000\n",
      "Addition of two numbers = 3000\n"
     ]
    }
   ],
   "source": [
    "class Addition: \n",
    "    first = 0\n",
    "    second = 0\n",
    "    answer = 0\n",
    "      \n",
    "    # parameterized constructor \n",
    "    def __init__(self, f, s): \n",
    "        self.first = f \n",
    "        self.second = s \n",
    "      \n",
    "    def display(self): \n",
    "        print(\"First number = \" + str(self.first)) \n",
    "        print(\"Second number = \" + str(self.second)) \n",
    "        print(\"Addition of two numbers = \" + str(self.answer)) \n",
    "  \n",
    "    def calculate(self): \n",
    "        self.answer = self.first + self.second \n",
    "  \n",
    "# creating object of the class \n",
    "# this will invoke parameterized constructor \n",
    "obj = Addition(1000, 2000) \n",
    "  \n",
    "# perform Addition \n",
    "obj.calculate() \n",
    "  \n",
    "# display result \n",
    "obj.display() "
   ]
  },
  {
   "cell_type": "markdown",
   "metadata": {},
   "source": [
    "# Destructors in Python\n",
    "\n",
    "    Destructors are called when an object gets destroyed. In Python, destructors are not needed as much needed in C++ because Python has a garbage collector that handles memory management automatically.\n",
    "    \n",
    "      \n",
    "# delattr\n",
    "\n",
    "    The delattr() method is used to delete the named attribute from the object, with the prior permission of the object.\n",
    "    Syntax:\n",
    "\n",
    "    delattr(object, name)\n",
    "\n",
    "    The function takes only two parameter:\n",
    "\n",
    "    object :  from which \n",
    "    the name attribute is to be removed.\n",
    "    name :  of the attribute \n",
    "    which is to be removed.\n",
    "\n",
    "    The function doesn't returns any value, \n",
    "    it just removes the attribute, \n",
    "    only if the object allows it.\n",
    "    \n",
    "    \n",
    "    The Working : Suppose we have a class by name Geek and it has five students as the attribute. So, using the delattr() method, we can remove any one of the attributes."
   ]
  },
  {
   "cell_type": "code",
   "execution_count": 19,
   "metadata": {
    "collapsed": true
   },
   "outputs": [
    {
     "name": "stdout",
     "output_type": "stream",
     "text": [
      "Students before delattr()--\n",
      "First =  Henry\n",
      "Second =  Zack\n",
      "Third =  Stephen\n",
      "Fourth =  Amy\n",
      "Fifth =  Shawn\n",
      "\n",
      "After deleting fith student--\n",
      "First =  Henry\n",
      "Second =  Zack\n",
      "Third =  Stephen\n",
      "Fourth =  Amy\n"
     ]
    },
    {
     "ename": "AttributeError",
     "evalue": "'Geek' object has no attribute 'stu5'",
     "output_type": "error",
     "traceback": [
      "\u001b[0;31m---------------------------------------------------------------------------\u001b[0m",
      "\u001b[0;31mAttributeError\u001b[0m                            Traceback (most recent call last)",
      "\u001b[0;32m<ipython-input-19-c4ec8f8e1eab>\u001b[0m in \u001b[0;36m<module>\u001b[0;34m\u001b[0m\n\u001b[1;32m     24\u001b[0m \u001b[0mprint\u001b[0m\u001b[0;34m(\u001b[0m\u001b[0;34m'Fourth = '\u001b[0m\u001b[0;34m,\u001b[0m\u001b[0mnames\u001b[0m\u001b[0;34m.\u001b[0m\u001b[0mstu4\u001b[0m\u001b[0;34m)\u001b[0m\u001b[0;34m\u001b[0m\u001b[0;34m\u001b[0m\u001b[0m\n\u001b[1;32m     25\u001b[0m \u001b[0;31m# this statement raises an error\u001b[0m\u001b[0;34m\u001b[0m\u001b[0;34m\u001b[0m\u001b[0;34m\u001b[0m\u001b[0m\n\u001b[0;32m---> 26\u001b[0;31m \u001b[0mprint\u001b[0m\u001b[0;34m(\u001b[0m\u001b[0;34m'Fifth = '\u001b[0m\u001b[0;34m,\u001b[0m\u001b[0mnames\u001b[0m\u001b[0;34m.\u001b[0m\u001b[0mstu5\u001b[0m\u001b[0;34m)\u001b[0m\u001b[0;34m\u001b[0m\u001b[0;34m\u001b[0m\u001b[0m\n\u001b[0m",
      "\u001b[0;31mAttributeError\u001b[0m: 'Geek' object has no attribute 'stu5'"
     ]
    }
   ],
   "source": [
    "class Geek: \n",
    "  stu1 = \"Henry\"\n",
    "  stu2 = \"Zack\"\n",
    "  stu3 = \"Stephen\"\n",
    "  stu4 = \"Amy\"\n",
    "  stu5 = \"Shawn\"\n",
    "  \n",
    "names = Geek() \n",
    "  \n",
    "print('Students before delattr()--') \n",
    "print('First = ',names.stu1) \n",
    "print('Second = ',names.stu2) \n",
    "print('Third = ',names.stu3) \n",
    "print('Fourth = ',names.stu4) \n",
    "print('Fifth = ',names.stu5) \n",
    "  \n",
    "# implementing the method \n",
    "delattr(Geek, 'stu5') \n",
    "  \n",
    "print('\\nAfter deleting fith student--') \n",
    "print('First = ',names.stu1) \n",
    "print('Second = ',names.stu2) \n",
    "print('Third = ',names.stu3) \n",
    "print('Fourth = ',names.stu4) \n",
    "# this statement raises an error \n",
    "print('Fifth = ',names.stu5) "
   ]
  },
  {
   "cell_type": "code",
   "execution_count": 20,
   "metadata": {
    "collapsed": true
   },
   "outputs": [
    {
     "name": "stdout",
     "output_type": "stream",
     "text": [
      "Students before del--\n",
      "First =  Henry\n",
      "Second =  Zack\n",
      "Third =  Stephen\n",
      "Fourth =  Amy\n",
      "Fifth =  Shawn\n",
      "After deleting fith student--\n",
      "First =  Henry\n",
      "Second =  Zack\n",
      "Third =  Stephen\n",
      "Fourth =  Amy\n"
     ]
    },
    {
     "ename": "AttributeError",
     "evalue": "'Geek' object has no attribute 'stu5'",
     "output_type": "error",
     "traceback": [
      "\u001b[0;31m---------------------------------------------------------------------------\u001b[0m",
      "\u001b[0;31mAttributeError\u001b[0m                            Traceback (most recent call last)",
      "\u001b[0;32m<ipython-input-20-3a82c3be6c01>\u001b[0m in \u001b[0;36m<module>\u001b[0;34m\u001b[0m\n\u001b[1;32m     27\u001b[0m \u001b[0mprint\u001b[0m\u001b[0;34m(\u001b[0m\u001b[0;34m'Fourth = '\u001b[0m\u001b[0;34m,\u001b[0m\u001b[0mnames\u001b[0m\u001b[0;34m.\u001b[0m\u001b[0mstu4\u001b[0m\u001b[0;34m)\u001b[0m\u001b[0;34m\u001b[0m\u001b[0;34m\u001b[0m\u001b[0m\n\u001b[1;32m     28\u001b[0m \u001b[0;31m# this statement raises an error\u001b[0m\u001b[0;34m\u001b[0m\u001b[0;34m\u001b[0m\u001b[0;34m\u001b[0m\u001b[0m\n\u001b[0;32m---> 29\u001b[0;31m \u001b[0mprint\u001b[0m\u001b[0;34m(\u001b[0m\u001b[0;34m'Fifth = '\u001b[0m\u001b[0;34m,\u001b[0m\u001b[0mnames\u001b[0m\u001b[0;34m.\u001b[0m\u001b[0mstu5\u001b[0m\u001b[0;34m)\u001b[0m\u001b[0;34m\u001b[0m\u001b[0;34m\u001b[0m\u001b[0m\n\u001b[0m",
      "\u001b[0;31mAttributeError\u001b[0m: 'Geek' object has no attribute 'stu5'"
     ]
    }
   ],
   "source": [
    "# del operator :-There is another operator in Python that does the similar work as the delattr() method.\n",
    "                # It is the del operator. Let’s see how it works.\n",
    "    \n",
    "class Geek: \n",
    "  stu1 = \"Henry\"\n",
    "  stu2 = \"Zack\"\n",
    "  stu3 = \"Stephen\"\n",
    "  stu4 = \"Amy\"\n",
    "  stu5 = \"Shawn\"\n",
    "  \n",
    "names = Geek() \n",
    "  \n",
    "print('Students before del--') \n",
    "print('First = ',names.stu1) \n",
    "print('Second = ',names.stu2) \n",
    "print('Third = ',names.stu3) \n",
    "print('Fourth = ',names.stu4) \n",
    "print('Fifth = ',names.stu5) \n",
    "  \n",
    "# implementing the operator \n",
    "del Geek.stu5 \n",
    "  \n",
    "print('After deleting fith student--') \n",
    "print('First = ',names.stu1) \n",
    "print('Second = ',names.stu2) \n",
    "print('Third = ',names.stu3) \n",
    "print('Fourth = ',names.stu4) \n",
    "# this statement raises an error \n",
    "print('Fifth = ',names.stu5) "
   ]
  },
  {
   "cell_type": "markdown",
   "metadata": {},
   "source": [
    "# del vs delattr()\n",
    "\n",
    "    Dynamic deletion : del is more explicit and efficient and delattr() allows dynamic attribute deleting.\n",
    "    Speed : If the above programs are considered and run then there is a slight difference between the speed of execution. del is slightly faster in comparison to delattr(), depending on the machine.\n",
    "    byte-code Instructions : del also takes less byte-code instructions in comparison to delattr().\n",
    "    So we conclude the comparison by saying that del is slightly faster than delattr, but when it comes to dynamic deletion of attribute then delattr() has advantage as it is not possible by del operator."
   ]
  },
  {
   "cell_type": "markdown",
   "metadata": {},
   "source": [
    "# The __del__() method is a known as a destructor method in Python. It is called when all references to the object have been deleted i.e when an object is garbage collected.\n",
    "\n",
    "    Syntax of destructor declaration :\n",
    "\n",
    "    def __del__(self):\n",
    "      # body of destructor"
   ]
  },
  {
   "cell_type": "code",
   "execution_count": 21,
   "metadata": {
    "collapsed": true
   },
   "outputs": [
    {
     "name": "stdout",
     "output_type": "stream",
     "text": [
      "Employee created.\n",
      "Destructor called, Employee deleted.\n"
     ]
    }
   ],
   "source": [
    "# Python program to illustrate destructor \n",
    "class Employee: \n",
    "  \n",
    "    # Initializing \n",
    "    def __init__(self): \n",
    "        print('Employee created.') \n",
    "  \n",
    "    # Deleting (Calling destructor) \n",
    "    def __del__(self): \n",
    "        print('Destructor called, Employee deleted.') \n",
    "  \n",
    "obj = Employee() \n",
    "del obj \n",
    "\n",
    "# Note : The destructor was called after the program ended or when all the references to object are deleted i.e when the reference count becomes zero, not when object went out of scope.\n"
   ]
  },
  {
   "cell_type": "code",
   "execution_count": 22,
   "metadata": {
    "collapsed": true
   },
   "outputs": [
    {
     "name": "stdout",
     "output_type": "stream",
     "text": [
      "Calling Create_obj() function...\n",
      "Making Object...\n",
      "Employee created\n",
      "function end...\n",
      "Program End...\n"
     ]
    }
   ],
   "source": [
    "class Employee: \n",
    "  \n",
    "    # Initializing  \n",
    "    def __init__(self): \n",
    "        print('Employee created') \n",
    "  \n",
    "    # Calling destructor \n",
    "    def __del__(self): \n",
    "        print(\"Destructor called\") \n",
    "  \n",
    "def Create_obj(): \n",
    "    print('Making Object...') \n",
    "    obj = Employee() \n",
    "    print('function end...') \n",
    "    return obj \n",
    "  \n",
    "print('Calling Create_obj() function...') \n",
    "obj = Create_obj() \n",
    "print('Program End...') "
   ]
  },
  {
   "cell_type": "markdown",
   "metadata": {},
   "source": [
    "# repr()\n",
    "    \n",
    "    repr() compute the “official” string representation of an object (a representation that has all information about the abject) \n",
    "    repr() is mainly used for debugging and development. repr’s goal is to be unambiguous and str’s is to be readable. For example, if we suspect a float has a small rounding error, repr will show us while str may not.\n",
    "    \n",
    "    A user defined class should also have a __repr__ if we need detailed information for debugging. And if we think it would be useful to have a string version for users, we create a __str__ function."
   ]
  },
  {
   "cell_type": "code",
   "execution_count": 24,
   "metadata": {
    "collapsed": true
   },
   "outputs": [
    {
     "name": "stdout",
     "output_type": "stream",
     "text": [
      "10 + i20\n",
      "Rational(10, 20)\n"
     ]
    }
   ],
   "source": [
    "class Complex: \n",
    "  \n",
    "    # Constructor \n",
    "    def __init__(self, real, imag): \n",
    "       self.real = real \n",
    "       self.imag = imag \n",
    "  \n",
    "    # For call to repr(). Prints object's information \n",
    "    def __repr__(self): \n",
    "       return 'Rational(%s, %s)' % (self.real, self.imag)     \n",
    "  \n",
    "    # For call to str(). Prints readable form \n",
    "    def __str__(self): \n",
    "       return '%s + i%s' % (self.real, self.imag)     \n",
    "  \n",
    "  \n",
    "# Driver program to test above `\n",
    "t = Complex(10, 20) \n",
    "  \n",
    "print (str(t))  # Same as \"print t\" \n",
    "print (repr(t)) "
   ]
  },
  {
   "cell_type": "markdown",
   "metadata": {},
   "source": [
    "    To create our custom metaclass, our custom metaclass have to inherit type metaclass and usually override –\n",
    "\n",
    "    __new__(): It’s a method which is called before __init__(). It creates the object and return it. We can overide this method to control how the objects are created.\n",
    "    __init__(): This method just initialize the created object passed as parameter\n",
    "    We can create classes using type() function directly. It can be called in following ways –\n",
    "\n",
    "    When called with only one argument, it returns the type. We have seen it before in above examples.\n",
    "    When called with three parameters, it creates a class. Following arguments are passed to it –\n",
    "    Class name\n",
    "    Tuple having base classes inherited by class\n",
    "    Class Dictionary: It serves as local namespace for the class, populated with class methods and variables"
   ]
  },
  {
   "cell_type": "code",
   "execution_count": 25,
   "metadata": {},
   "outputs": [
    {
     "name": "stdout",
     "output_type": "stream",
     "text": [
      "Type of Test class:  <class 'type'>\n",
      "Type of test_obj:  <class '__main__.Test'>\n",
      "This is inherited method!\n",
      "This is Test class method!\n",
      "atul\n"
     ]
    }
   ],
   "source": [
    "def test_method(self): \n",
    "    print(\"This is Test class method!\") \n",
    "  \n",
    "# creating a base class  \n",
    "class Base: \n",
    "    def myfun(self): \n",
    "        print(\"This is inherited method!\") \n",
    "  \n",
    "# Creating Test class dynamically using \n",
    "# type() method directly \n",
    "Test = type('Test', (Base, ), dict(x=\"atul\", my_method=test_method)) \n",
    "  \n",
    "# Print type of Test  \n",
    "print(\"Type of Test class: \", type(Test)) \n",
    "  \n",
    "# Creating instance of Test class \n",
    "test_obj = Test() \n",
    "print(\"Type of test_obj: \", type(test_obj)) \n",
    "  \n",
    "# calling inherited method \n",
    "test_obj.myfun() \n",
    "  \n",
    "# calling Test class method \n",
    "test_obj.my_method() \n",
    "  \n",
    "# printing variable \n",
    "print(test_obj.x) "
   ]
  },
  {
   "cell_type": "code",
   "execution_count": 27,
   "metadata": {},
   "outputs": [],
   "source": [
    "#Now let’s create a metaclass without using type() directly. In the following example we will be creating a metaclass MultiBases which will check if class being created have inherited from more than one base classes. If so, it will raise an error.\n",
    "\n",
    "class MultiBases(type): \n",
    "    # overriding __new__ method \n",
    "    def __new__(cls, clsname, bases, clsdict): \n",
    "        # if no of base classes is greator than 1 \n",
    "        # raise error \n",
    "        if len(bases)>1: \n",
    "            raise TypeError(\"Inherited multiple base classes!!!\") \n",
    "          \n",
    "        # else execute __new__ method of super class, ie. \n",
    "        # call __init__ of type class \n",
    "        return super().__new__(cls, clsname, bases, clsdict) \n",
    "  \n",
    "# metaclass can be specified by 'metaclass' keyword argument \n",
    "# now MultiBase class is used for creating classes \n",
    "# this will be propagated to all subclasses of Base \n",
    "class Base(metaclass=MultiBases): \n",
    "    pass\n",
    "  \n",
    "# no error is raised \n",
    "class A(Base): \n",
    "    pass\n",
    "  \n",
    "# no error is raised \n",
    "class B(Base): \n",
    "    pass\n",
    "  \n",
    "# This will raise an error! \n",
    "class C(A, B): \n",
    "    pass"
   ]
  },
  {
   "cell_type": "code",
   "execution_count": 31,
   "metadata": {},
   "outputs": [
    {
     "name": "stdout",
     "output_type": "stream",
     "text": [
      "Full name of this method: Calc.add\n",
      "5\n",
      "Full name of this method: Calc.mul\n",
      "10\n",
      "Full name of this method: Calc.div\n",
      "2.0\n"
     ]
    }
   ],
   "source": [
    "# There are some problems which can be solved by decorators (easily) as well as by metaclasses. But there are few problems whose result can only be achived by metaclasses. For example consider a very simple problem of code repetition.\n",
    "#We want to debug class methods, what we want is that whenever class method executes, it should print it’s fully qualified name before executing it’s body.\n",
    "\n",
    "from functools import wraps \n",
    "  \n",
    "def debug(func): \n",
    "    '''decorator for debugging passed function'''\n",
    "      \n",
    "    @wraps(func) \n",
    "    def wrapper(*args, **kwargs): \n",
    "        print(\"Full name of this method:\", func.__qualname__) \n",
    "        return func(*args, **kwargs) \n",
    "    return wrapper \n",
    "  \n",
    "def debugmethods(cls): \n",
    "    '''class decorator make use of debug decorator \n",
    "       to debug class methods '''\n",
    "      \n",
    "    # check in class dictionary for any callable(method) \n",
    "    # if exist, replace it with debugged version \n",
    "    for key, val in vars(cls).items(): \n",
    "        if callable(val): \n",
    "            setattr(cls, key, debug(val)) \n",
    "    return cls\n",
    "  \n",
    "# sample class \n",
    "@debugmethods\n",
    "class Calc: \n",
    "    def add(self, x, y): \n",
    "        return x+y \n",
    "    def mul(self, x, y): \n",
    "        return x*y \n",
    "    def div(self, x, y): \n",
    "        return x/y \n",
    "      \n",
    "mycal = Calc() \n",
    "print(mycal.add(2, 3)) \n",
    "print(mycal.mul(5, 2)) \n",
    "print(mycal.div(4, 2))"
   ]
  },
  {
   "cell_type": "markdown",
   "metadata": {},
   "source": [
    "# When to use Metaclasses\n",
    "\n",
    "    Most of the time we are not using metaclasses, they are like black magic and usually for something complicated, but few cases where we use metaclasses are –\n",
    "\n",
    "    As we have seen in above example, metaclasses propogate down the inheritance hierarchies. It will affect all the subclasses as well. If we have such situation, then we should use metaclasses.\n",
    "    If we want to change class automatically, when it is created\n",
    "    If you are API developer, you might use metaclasses\n",
    "    As quoted by Tim Peters\n",
    "\n",
    "    Metaclasses are deeper magic that 99% of users should never worry about. If you wonder whether you need them, you don’t (the people who actually need them know with certainty that they need them, and don’t need an explanation about why)."
   ]
  },
  {
   "cell_type": "markdown",
   "metadata": {},
   "source": [
    "# Reflection :-\n",
    "\n",
    "    Reflection refers to the ability for code to be able to examine attributes about objects that might be passed as parameters to a function. For example, if we write type(obj) then Python will return an object which represents the type of obj."
   ]
  },
  {
   "cell_type": "code",
   "execution_count": 1,
   "metadata": {
    "collapsed": true
   },
   "outputs": [
    {
     "name": "stdout",
     "output_type": "stream",
     "text": [
      "[4, 3, 2, 1]\n",
      "OLLEH\n"
     ]
    }
   ],
   "source": [
    "# Python program to illustrate reflection \n",
    "def reverse(seq): \n",
    "    SeqType = type(seq) \n",
    "    emptySeq = SeqType() \n",
    "      \n",
    "    if seq == emptySeq: \n",
    "        return emptySeq \n",
    "      \n",
    "    restrev = reverse(seq[1:]) \n",
    "    first = seq[0:1] \n",
    "      \n",
    "    # Combine the result \n",
    "    result = restrev + first \n",
    "      \n",
    "    return result \n",
    "  \n",
    "# Driver code \n",
    "print(reverse([1, 2, 3, 4])) \n",
    "print(reverse(\"HELLO\")) "
   ]
  },
  {
   "cell_type": "markdown",
   "metadata": {},
   "source": [
    "# Reflection-enabling functions\n",
    "\n",
    "    Reflection-enabling functions include type(), isinstance(), callable(), dir() and getattr().\n",
    "    \n",
    "    # 1.type and isinstance\n",
    "    \n",
    "    # 2.Callable() :A callable means anything that can be called. For an object, determines whether it can be called. A class can be made callable by providing a __call__() method. The callable() method returns True if the object passed appears callable. If not, it returns False.\n",
    "    "
   ]
  },
  {
   "cell_type": "code",
   "execution_count": 2,
   "metadata": {},
   "outputs": [
    {
     "name": "stdout",
     "output_type": "stream",
     "text": [
      "x is not callable\n",
      "y is callable\n"
     ]
    }
   ],
   "source": [
    "x = 5\n",
    "\n",
    "def testFunction():\n",
    "  print(\"Test\")\n",
    "   \n",
    "y = testFunction\n",
    "\n",
    "if (callable(x)):\n",
    "    print(\"x is callable\")\n",
    "else:\n",
    "    print(\"x is not callable\")\n",
    "\n",
    "if (callable(y)):\n",
    "    print(\"y is callable\")\n",
    "else:\n",
    "    print(\"y is not callable\")"
   ]
  },
  {
   "cell_type": "markdown",
   "metadata": {},
   "source": [
    "    # 3.Dir : The dir() method tries to return a list of valid attributes of the object. The dir() tries to return a list of valid attributes of the object.\n",
    "    If the object has __dir__() method, the method will be called and must return the list of attributes.\n",
    "    If the object doesn’t have __dir()__ method, this method tries to find information from the __dict__ attribute (if defined), and from type object. In this case, the list returned from dir() may not be complete.\n",
    "    "
   ]
  },
  {
   "cell_type": "code",
   "execution_count": 3,
   "metadata": {
    "collapsed": true
   },
   "outputs": [
    {
     "name": "stdout",
     "output_type": "stream",
     "text": [
      "['__add__', '__class__', '__contains__', '__delattr__', '__delitem__', '__dir__', '__doc__', '__eq__', '__format__', '__ge__', '__getattribute__', '__getitem__', '__gt__', '__hash__', '__iadd__', '__imul__', '__init__', '__init_subclass__', '__iter__', '__le__', '__len__', '__lt__', '__mul__', '__ne__', '__new__', '__reduce__', '__reduce_ex__', '__repr__', '__reversed__', '__rmul__', '__setattr__', '__setitem__', '__sizeof__', '__str__', '__subclasshook__', 'append', 'clear', 'copy', 'count', 'extend', 'index', 'insert', 'pop', 'remove', 'reverse', 'sort']\n",
      "['__add__', '__class__', '__contains__', '__delattr__', '__delitem__', '__dir__', '__doc__', '__eq__', '__format__', '__ge__', '__getattribute__', '__getitem__', '__gt__', '__hash__', '__iadd__', '__imul__', '__init__', '__init_subclass__', '__iter__', '__le__', '__len__', '__lt__', '__mul__', '__ne__', '__new__', '__reduce__', '__reduce_ex__', '__repr__', '__reversed__', '__rmul__', '__setattr__', '__setitem__', '__sizeof__', '__str__', '__subclasshook__', 'append', 'clear', 'copy', 'count', 'extend', 'index', 'insert', 'pop', 'remove', 'reverse', 'sort']\n"
     ]
    }
   ],
   "source": [
    "number = [1,2,3]\n",
    "print(dir(number))\n",
    "\n",
    "characters = [\"a\", \"b\"]\n",
    "print(dir(number))"
   ]
  },
  {
   "cell_type": "markdown",
   "metadata": {},
   "source": [
    "    # 4. Getattr : The getattr() method returns the value of the named attribute of an object. If not found, it returns the default value provided to the function.The getattr method takes three parameters object, name and default(optional)."
   ]
  },
  {
   "cell_type": "code",
   "execution_count": 4,
   "metadata": {},
   "outputs": [
    {
     "name": "stdout",
     "output_type": "stream",
     "text": [
      "The salary is: 25000\n",
      "The salary is: 25000\n"
     ]
    }
   ],
   "source": [
    "class Employee:\n",
    "    salary = 25000\n",
    "    company_name= \"geeksforgeeks\"\n",
    "\n",
    "employee = Employee()\n",
    "print('The salary is:', getattr(employee, \"salary\"))\n",
    "print('The salary is:', employee.salary)"
   ]
  },
  {
   "cell_type": "markdown",
   "metadata": {},
   "source": [
    "# Barrier Objects in Python\n",
    "\n",
    "    Barrier objects in python are used to wait for a fixed number of thread to complete execution before any particular thread can proceed forward with the execution of the program. Each thread calls wait() function upon reaching the barrier. The barrier is responsible for keeping track of the number of wait() calls. If this number goes beyond the number of threads for which the barrier was initialized with, then the barrier gives a way to the waiting threads to proceed on with the execution. All the threads at this point of execution, are simultaneously released.\n",
    "\n",
    "    Barriers can even be used to synchronize access between threads. However, generally a barrier is used to combine the output of threads. A barrier object can be reused multiple times for the exact same number of threads that it was initially initialized for."
   ]
  },
  {
   "cell_type": "code",
   "execution_count": 7,
   "metadata": {
    "collapsed": true
   },
   "outputs": [
    {
     "name": "stdout",
     "output_type": "stream",
     "text": [
      "100\n",
      "101\n",
      "\n",
      "\n",
      "Exit\n",
      "\n"
     ]
    }
   ],
   "source": [
    "import threading \n",
    "  \n",
    "barrier = threading.Barrier(3) \n",
    "  \n",
    "class thread(threading.Thread): \n",
    "    def __init__(self, thread_ID): \n",
    "        threading.Thread.__init__(self) \n",
    "        self.thread_ID = thread_ID \n",
    "    def run(self): \n",
    "        print(str(self.thread_ID) + \"\\n\") \n",
    "        barrier.wait() \n",
    "          \n",
    "thread1 = thread(100) \n",
    "thread2 = thread(101) \n",
    "  \n",
    "thread1.start() \n",
    "thread2.start() \n",
    "barrier.wait() \n",
    "  \n",
    "print(\"Exit\\n\") "
   ]
  },
  {
   "cell_type": "markdown",
   "metadata": {},
   "source": [
    "# Timer Objects in Python\n",
    "    Timer objects are used to represent actions that needs to be scheduled to run after a certain instant of time. These objects get scheduled to run on a separate thread that carries out the action. However, the interval that a timer is initialized with might not be the actual instant when the action was actually performed by the interpreter because it is the responsibility of the thread scheduler to actually schedule the thread corresponding to the timer object."
   ]
  },
  {
   "cell_type": "code",
   "execution_count": 5,
   "metadata": {
    "collapsed": true
   },
   "outputs": [
    {
     "name": "stdout",
     "output_type": "stream",
     "text": [
      "Exit\n",
      "\n",
      "GeeksforGeeks\n",
      "\n"
     ]
    }
   ],
   "source": [
    "import threading \n",
    "def gfg(): \n",
    "    print(\"GeeksforGeeks\\n\") \n",
    "  \n",
    "timer = threading.Timer(2.0, gfg) \n",
    "timer.start() \n",
    "print(\"Exit\\n\")"
   ]
  },
  {
   "cell_type": "code",
   "execution_count": 3,
   "metadata": {},
   "outputs": [
    {
     "name": "stdout",
     "output_type": "stream",
     "text": [
      "Cancelling timer\n",
      "\n",
      "Exit\n",
      "\n"
     ]
    }
   ],
   "source": [
    "# Cancelling a timer\n",
    "\n",
    "# Syntax:\n",
    "# timer.cancel()\n",
    "#Stop the timer, and cancel the execution of the timer’s action. This will only work if the timer is still in its waiting stage.\n",
    "\n",
    "# Program to cancel the timer \n",
    "import threading \n",
    "  \n",
    "def gfg(): \n",
    "    print(\"GeeksforGeeks\\n\") \n",
    "  \n",
    "timer = threading.Timer(1.0, gfg) \n",
    "timer.start() \n",
    "print(\"Cancelling timer\\n\") \n",
    "timer.cancel() \n",
    "print(\"Exit\\n\") "
   ]
  },
  {
   "cell_type": "markdown",
   "metadata": {},
   "source": [
    "# Garbage Collection :-\n",
    "     Python’s memory allocation and deallocation method is automatic. The user does not have to preallocate or deallocate memory similar to using dynamic memory allocation in languages such as C or C++.\n",
    "    Python uses two strategies for memory allocation:\n",
    "\n",
    "    ->Reference counting\n",
    "    ->Garbage collection\n",
    "    \n",
    "    Prior to Python version 2.0, the Python interpreter only used reference counting for memory management. Reference counting works by counting the number of times an object is referenced by other objects in the system. When references to an object are removed, the reference count for an object is decremented. When the reference count becomes zero, the object is deallocated. "
   ]
  },
  {
   "cell_type": "code",
   "execution_count": 8,
   "metadata": {},
   "outputs": [
    {
     "name": "stdout",
     "output_type": "stream",
     "text": [
      "Garbage collector values:  (700, 10, 10)\n"
     ]
    }
   ],
   "source": [
    "import gc\n",
    "print(\"Garbage collector values: \" , gc.get_threshold())"
   ]
  },
  {
   "cell_type": "markdown",
   "metadata": {},
   "source": [
    "# Manual Garbage Collection\n",
    "\n",
    "    Invoking the garbage collector manually during the execution of a program can be a good idea on how to handle memory being consumed by reference cycles.\n",
    "    The garbage collection can be invoked manually in the following way:"
   ]
  },
  {
   "cell_type": "code",
   "execution_count": 11,
   "metadata": {
    "collapsed": true
   },
   "outputs": [
    {
     "name": "stdout",
     "output_type": "stream",
     "text": [
      "Garbage collector: collected 0 objects.\n",
      "Creating cycles...\n",
      "{1: {...}}\n",
      "{2: {...}}\n",
      "{3: {...}}\n",
      "{4: {...}}\n",
      "{5: {...}}\n",
      "{6: {...}}\n",
      "{7: {...}}\n",
      "{8: {...}}\n",
      "{9: {...}}\n",
      "{10: {...}}\n",
      "Garbage collector: collected 10 objects.\n"
     ]
    }
   ],
   "source": [
    "# import gc \n",
    "  \n",
    "# # Returns the number of \n",
    "# # objects it has collected \n",
    "# # and deallocated \n",
    "# collected = gc.collect() \n",
    "  \n",
    "# # Prints Garbage collector  \n",
    "# # as 0 object \n",
    "# print(\"Garbage collector: collected\", \n",
    "#           \"%d objects.\" % collected)\n",
    "\n",
    "import gc \n",
    "i = 0 \n",
    "  \n",
    "# create a cycle and on each iteration x as a dictionary \n",
    "# assigned to 1 \n",
    "def create_cycle(): \n",
    "    x = { } \n",
    "    x[i+1] = x \n",
    "    print( x )\n",
    "  \n",
    "# lists are cleared whenever a full collection or  \n",
    "# collection of the highest generation (2) is run \n",
    "collected = gc.collect() # or gc.collect(2) \n",
    "print( \"Garbage collector: collected %d objects.\" % (collected) )\n",
    "  \n",
    "print (\"Creating cycles...\")\n",
    "for i in range(10): \n",
    "    create_cycle() \n",
    "  \n",
    "collected = gc.collect() \n",
    "  \n",
    "print( \"Garbage collector: collected %d objects.\" % (collected) )"
   ]
  },
  {
   "cell_type": "markdown",
   "metadata": {},
   "source": [
    "    There are two ways for performing manual garbage collection: time-based and event-based garbage collection.\n",
    "    \n",
    "    ->Time-based garbage collection is simple: the garbage collector is called after a fixed time interval.\n",
    "    \n",
    "    ->Event-based garbage collection calls the garbage collector on event occurrence. For example, when a user exits the application or when the application enters into idle state."
   ]
  }
 ],
 "metadata": {
  "kernelspec": {
   "display_name": "Python 3",
   "language": "python",
   "name": "python3"
  },
  "language_info": {
   "codemirror_mode": {
    "name": "ipython",
    "version": 3
   },
   "file_extension": ".py",
   "mimetype": "text/x-python",
   "name": "python",
   "nbconvert_exporter": "python",
   "pygments_lexer": "ipython3",
   "version": "3.6.8"
  }
 },
 "nbformat": 4,
 "nbformat_minor": 4
}
