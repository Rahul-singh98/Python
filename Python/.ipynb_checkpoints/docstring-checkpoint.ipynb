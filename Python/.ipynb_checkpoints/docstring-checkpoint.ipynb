{
 "cells": [
  {
   "cell_type": "markdown",
   "metadata": {},
   "source": [
    "# Python documentation strings (or docstrings) provide a convenient way of associating documentation with Python modules, functions, classes, and methods.It’s specified in source code that is used, like a comment, to document a specific segment of code. Unlike conventional source code comments, the docstring should describe what the function does, not how."
   ]
  },
  {
   "cell_type": "code",
   "execution_count": 2,
   "metadata": {},
   "outputs": [
    {
     "name": "stdout",
     "output_type": "stream",
     "text": [
      "Implementation of docstring\n",
      "This is the python docstring example\n",
      "Help on function function in module __main__:\n",
      "\n",
      "function()\n",
      "    This is the python docstring example\n",
      "\n"
     ]
    }
   ],
   "source": [
    "def function():\n",
    "    '''This is the python docstring example'''\n",
    "\n",
    "print(\"Implementation of docstring\")\n",
    "print(function.__doc__)\n",
    "help(function)"
   ]
  },
  {
   "cell_type": "code",
   "execution_count": 5,
   "metadata": {
    "collapsed": true
   },
   "outputs": [
    {
     "name": "stdout",
     "output_type": "stream",
     "text": [
      "\n",
      "    Summary line :\n",
      "    \n",
      "    Extended description of funciton:\n",
      "    \n",
      "    Parameter: \n",
      "        agr1(int): Description of agr1\n",
      "    \n",
      "    Retrun : \n",
      "        int :Description of interger value\n",
      "    \n"
     ]
    }
   ],
   "source": [
    "\n",
    "\n",
    "def func(arg1):\n",
    "    '''\n",
    "    Summary line :\n",
    "    \n",
    "    Extended description of funciton:\n",
    "    \n",
    "    Parameter: \n",
    "        agr1(int): Description of agr1\n",
    "    \n",
    "    Retrun : \n",
    "        int :Description of interger value\n",
    "    '''\n",
    "    return arg1\n",
    "\n",
    "print(func.__doc__)\n",
    "    "
   ]
  },
  {
   "cell_type": "code",
   "execution_count": null,
   "metadata": {},
   "outputs": [],
   "source": [
    "# Example to use the docstring.\n",
    "\n",
    "class ComplexNumber: \n",
    "    \"\"\" \n",
    "    This is a class for mathematical operations on complex numbers. \n",
    "      \n",
    "    Attributes: \n",
    "        real (int): The real part of complex number. \n",
    "        imag (int): The imaginary part of complex number. \n",
    "    \"\"\"\n",
    "  \n",
    "    def __init__(self, real, imag): \n",
    "        \"\"\" \n",
    "        The constructor for ComplexNumber class. \n",
    "  \n",
    "        Parameters: \n",
    "           real (int): The real part of complex number. \n",
    "           imag (int): The imaginary part of complex number.    \n",
    "        \"\"\"\n",
    "  \n",
    "    def add(self, num): \n",
    "        \"\"\" \n",
    "        The function to add two Complex Numbers. \n",
    "  \n",
    "        Parameters: \n",
    "            num (ComplexNumber): The complex number to be added. \n",
    "          \n",
    "        Returns: \n",
    "            ComplexNumber: A complex number which contains the sum. \n",
    "        \"\"\"\n",
    "  \n",
    "        re = self.real + num.real \n",
    "        im = self.imag + num.imag \n",
    "  \n",
    "        return ComplexNumber(re, im) \n",
    "  \n",
    "help(ComplexNumber)  # to access Class docstring \n",
    "help(ComplexNumber.add)  # to access method's docstring "
   ]
  },
  {
   "cell_type": "code",
   "execution_count": 3,
   "metadata": {
    "collapsed": true
   },
   "outputs": [
    {
     "name": "stdout",
     "output_type": "stream",
     "text": [
      "Enter the string : rahul singh\n"
     ]
    },
    {
     "ename": "TypeError",
     "evalue": "'dict_keys' object does not support indexing",
     "output_type": "error",
     "traceback": [
      "\u001b[0;31m---------------------------------------------------------------------------\u001b[0m",
      "\u001b[0;31mTypeError\u001b[0m                                 Traceback (most recent call last)",
      "\u001b[0;32m<ipython-input-3-d060ea52a6d4>\u001b[0m in \u001b[0;36m<module>\u001b[0;34m\u001b[0m\n\u001b[1;32m     20\u001b[0m \u001b[0;32mif\u001b[0m \u001b[0m__name__\u001b[0m \u001b[0;34m==\u001b[0m \u001b[0;34m\"__main__\"\u001b[0m\u001b[0;34m:\u001b[0m\u001b[0;34m\u001b[0m\u001b[0;34m\u001b[0m\u001b[0m\n\u001b[1;32m     21\u001b[0m     \u001b[0m_input\u001b[0m \u001b[0;34m=\u001b[0m \u001b[0minput\u001b[0m\u001b[0;34m(\u001b[0m\u001b[0;34m\"Enter the string : \"\u001b[0m\u001b[0;34m)\u001b[0m\u001b[0;34m\u001b[0m\u001b[0;34m\u001b[0m\u001b[0m\n\u001b[0;32m---> 22\u001b[0;31m     \u001b[0mfind_dup_char\u001b[0m\u001b[0;34m(\u001b[0m\u001b[0m_input\u001b[0m\u001b[0;34m)\u001b[0m\u001b[0;34m\u001b[0m\u001b[0;34m\u001b[0m\u001b[0m\n\u001b[0m",
      "\u001b[0;32m<ipython-input-3-d060ea52a6d4>\u001b[0m in \u001b[0;36mfind_dup_char\u001b[0;34m(_input)\u001b[0m\n\u001b[1;32m     15\u001b[0m         \u001b[0mj\u001b[0m \u001b[0;34m=\u001b[0m \u001b[0mj\u001b[0m \u001b[0;34m+\u001b[0m \u001b[0;36m1\u001b[0m\u001b[0;34m\u001b[0m\u001b[0;34m\u001b[0m\u001b[0m\n\u001b[1;32m     16\u001b[0m         \u001b[0;32mif\u001b[0m\u001b[0;34m(\u001b[0m \u001b[0mi\u001b[0m \u001b[0;34m>\u001b[0m \u001b[0;36m1\u001b[0m \u001b[0;34m)\u001b[0m\u001b[0;34m:\u001b[0m\u001b[0;34m\u001b[0m\u001b[0;34m\u001b[0m\u001b[0m\n\u001b[0;32m---> 17\u001b[0;31m             \u001b[0mprint\u001b[0m\u001b[0;34m(\u001b[0m\u001b[0mWC\u001b[0m\u001b[0;34m.\u001b[0m\u001b[0mkeys\u001b[0m\u001b[0;34m(\u001b[0m\u001b[0;34m)\u001b[0m\u001b[0;34m[\u001b[0m\u001b[0mj\u001b[0m\u001b[0;34m]\u001b[0m\u001b[0;34m)\u001b[0m\u001b[0;34m\u001b[0m\u001b[0;34m\u001b[0m\u001b[0m\n\u001b[0m\u001b[1;32m     18\u001b[0m \u001b[0;34m\u001b[0m\u001b[0m\n\u001b[1;32m     19\u001b[0m \u001b[0;31m# Driver program\u001b[0m\u001b[0;34m\u001b[0m\u001b[0;34m\u001b[0m\u001b[0;34m\u001b[0m\u001b[0m\n",
      "\u001b[0;31mTypeError\u001b[0m: 'dict_keys' object does not support indexing"
     ]
    }
   ],
   "source": [
    "from collections import Counter \n",
    "  \n",
    "def find_dup_char(_input): \n",
    "  \n",
    "    # now create dictionary using counter method \n",
    "    # which will have strings as key and their  \n",
    "    # frequencies as value \n",
    "    WC = Counter(_input) \n",
    "    j = -1\n",
    "      \n",
    "      \n",
    "    # Finding no. of  occurrence of a character \n",
    "    # and get the index of it. \n",
    "    for i in WC.values(): \n",
    "        j = j + 1\n",
    "        if( i > 1 ): \n",
    "            print(WC.keys()[j])\n",
    "  \n",
    "# Driver program \n",
    "if __name__ == \"__main__\": \n",
    "    _input = input(\"Enter the string : \")\n",
    "    find_dup_char(_input)"
   ]
  }
 ],
 "metadata": {
  "kernelspec": {
   "display_name": "Python 3",
   "language": "python",
   "name": "python3"
  },
  "language_info": {
   "codemirror_mode": {
    "name": "ipython",
    "version": 3
   },
   "file_extension": ".py",
   "mimetype": "text/x-python",
   "name": "python",
   "nbconvert_exporter": "python",
   "pygments_lexer": "ipython3",
   "version": "3.6.8"
  }
 },
 "nbformat": 4,
 "nbformat_minor": 4
}
