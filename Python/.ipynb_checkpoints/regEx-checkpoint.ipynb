{
 "cells": [
  {
   "cell_type": "markdown",
   "metadata": {},
   "source": [
    "# RegEx : A RegEx, or Regular Expression, is a sequence of characters that forms a search pattern.RegEx can be used to check if a string contains the specified search pattern.\n",
    "# Python has a built-in package called re, which can be used to work with Regular Expressions.\n",
    "\n",
    "        \n",
    "# Special Characters\n",
    "    \\A\tReturns a match if the specified characters are at the beginning of the string\t\"\\AThe\"\t\n",
    "    \\b\tReturns a match where the specified characters are at the beginning or at the end of a word\tr\"\\bain\"\n",
    "    r\"ain\\b\"\t\n",
    "    \\B\tReturns a match where the specified characters are present, but NOT at the beginning (or at the end) of a word\tr\"\\Bain\"\n",
    "    r\"ain\\B\"\t\n",
    "    \\d\tReturns a match where the string contains digits (numbers from 0-9)\t\"\\d\"\t\n",
    "    \\D\tReturns a match where the string DOES NOT contain digits\t\"\\D\"\t\n",
    "    \\s\tReturns a match where the string contains a white space character\t\"\\s\"\t\n",
    "    \\S\tReturns a match where the string DOES NOT contain a white space character\t\"\\S\"\t\n",
    "    \\w\tReturns a match where the string contains any word characters (characters from a to Z, digits from 0-9, and the underscore _ character)\t\"\\w\"\t\n",
    "    \\W\tReturns a match where the string DOES NOT contain any word characters\t\"\\W\"\t\n",
    "    \\Z\tReturns a match if the specified characters are at the end of the string\t\"Spain\\Z\""
   ]
  },
  {
   "cell_type": "code",
   "execution_count": 9,
   "metadata": {
    "collapsed": true
   },
   "outputs": [
    {
     "name": "stdout",
     "output_type": "stream",
     "text": [
      "No match found\n"
     ]
    }
   ],
   "source": [
    "# import re module\n",
    "import re\n",
    "\n",
    "file = \"This is my string\"\n",
    "# search the string starting with Th and ends with ring\n",
    "out = re.search(\"^Th.*ring$\",file)\n",
    "\n",
    "if out:\n",
    "    print(\"Sting match found\")\n",
    "else :\n",
    "    print(\"No match found\")"
   ]
  },
  {
   "cell_type": "markdown",
   "metadata": {},
   "source": [
    "# Metacharacters :Metacharacters are characters with a special meaning:\n"
   ]
  },
  {
   "cell_type": "code",
   "execution_count": 112,
   "metadata": {},
   "outputs": [
    {
     "name": "stdout",
     "output_type": "stream",
     "text": [
      "['h', 'i', 'i', 'm', 'i', 'g', 'f', 'c', 'h', 'a']\n",
      "['2', '5'] <class 'list'>\n",
      "['2', '5', ['This']] ['This']\n",
      "['This']\n",
      "['chars']\n",
      "['is', 'is']\n",
      "['is', 'is']\n",
      "['a', 'a', 'a', 'a']\n",
      "['is', 'is', 'in']\n"
     ]
    }
   ],
   "source": [
    "import re\n",
    "file = \"This is my String of 25+ chars\"\n",
    "\n",
    "# [] A set of characters\t            \"[a-m]\"\t\n",
    "print(re.findall(\"[a-m]\", file))\n",
    "\n",
    "# \\ Signals a special sequence (can also be used to escape special characters)     \"\\d\"\n",
    "#print(re.findall(\"\\d\",file))\n",
    "l = list(re.findall(\"\\d\",file))\n",
    "print(l , type(l))\n",
    "\n",
    "# . Any character (except newline character)     \"he..o\"\n",
    "# print(re.findall(\"Th..\",file))\n",
    "l.append((re.findall(\"Th..\",file)))\n",
    "print(l,l[2])\n",
    "\n",
    "# ^ Starts with          \"^hello\"\n",
    "print(re.findall(\"^This\",file))\n",
    "\n",
    "# $\tEnds with  \"world$\"\n",
    "print(re.findall(\"chars$\",file))\n",
    "\n",
    "# * Zero or more occurrences \"aix*\"\n",
    "print(re.findall(\"isx*\",file))\n",
    "\n",
    "# + One or more occurrences  \"aix+\"\n",
    "print(re.findall(\"is+\",file))\n",
    "\n",
    "\n",
    "file1 = \"The rain in Spain falls in the plain!\"\n",
    "# {} Exactly the specified number of occurrences\n",
    "brac = re.findall(\"al{0}\", file1)\n",
    "print(brac)\n",
    "\n",
    "# | Either or \"falls|stays\"\n",
    "print(re.findall(\"in|is\",file))\n",
    "\n",
    "# () Capture and group\n"
   ]
  },
  {
   "cell_type": "markdown",
   "metadata": {},
   "source": [
    "# Special Sequence: A special sequence is a \\ followed by one of the characters in the list below, and has a special meaning"
   ]
  },
  {
   "cell_type": "code",
   "execution_count": 87,
   "metadata": {
    "collapsed": true
   },
   "outputs": [
    {
     "name": "stdout",
     "output_type": "stream",
     "text": [
      "['The']\n",
      "[]\n",
      "['ain', 'ain', 'ain']\n",
      "['ain', 'ain', 'ain']\n",
      "[]\n",
      "['2', '5']\n",
      "['T', 'h', 'i', 's', ' ', 'i', 's', ' ', 'm', 'y', ' ', 'S', 't', 'r', 'i', 'n', 'g', ' ', 'o', 'f', ' ', ' ', 'c', 'h', 'a', 'r', 's']\n",
      "[' ', ' ', ' ', ' ', ' ', ' ']\n",
      "['T', 'h', 'e', 'r', 'a', 'i', 'n', 'i', 'n', 'S', 'p', 'a', 'i', 'n', 'f', 'a', 'l', 'l', 's', 'i', 'n', 't', 'h', 'e', 'p', 'l', 'a', 'i', 'n', '!']\n",
      "['T', 'h', 'i', 's', 'i', 's', 'm', 'y', 'S', 't', 'r', 'i', 'n', 'g', 'o', 'f', '2', '5', 'c', 'h', 'a', 'r', 's']\n",
      "[' ', ' ', ' ', ' ', ' ', ' ']\n",
      "['plain!']\n"
     ]
    }
   ],
   "source": [
    "# \\A  Returns a match if the specified characters are at the beginning of the string  \"\\AThe\"\n",
    "print(re.findall(\"\\AThe\",file1))\n",
    "\n",
    "# \\b  Returns a match where the specified characters are at the beginning or at the end of a word  r\"\\bain\" r\"ain\\b\"\n",
    "print(re.findall(r\"\\bain\" ,file1))\n",
    "print(re.findall(r\"ain\\b\",file1))\n",
    "\n",
    "# \\B Returns a match where the specified characters are present, but NOT at the beginning (or at the end) of a word\n",
    "print(re.findall(r\"\\Bain\",file1))\n",
    "print(re.findall(r\"ain\\B\",file1))\n",
    "\n",
    "# \\d  Returns a match where the string contains digits (numbers from 0-9)\n",
    "print(re.findall(\"\\d\",file))\n",
    "\n",
    "# \\D  Returns a match where the string DOES NOT contain digits\n",
    "print(re.findall(\"\\D\",file))\n",
    "\n",
    "# \\s  Returns a match where the string contains a white space character  \"\\s\"\n",
    "print(re.findall(\"\\s\",file))\n",
    "\n",
    "# \\S  Returns a match where the string DOES NOT contain a white space character  \"\\S\"\n",
    "print(re.findall(\"\\S\",file1))\n",
    "\n",
    "# \\w  Returns a match where the string contains any word characters (characters from a to Z, digits from 0-9, and the underscore _ character) \"\\w\"\n",
    "print(re.findall(\"\\w\",file))\n",
    "\n",
    "# \\W Returns a match where the string DOES NOT contain any word characters  \"\\W\"\n",
    "print(re.findall(\"\\W\",file))\n",
    "\n",
    "# \\Z  Returns a match if the specified characters are at the end of the string  \"Spain\\Z\"\n",
    "print(re.findall(\"plain!\\Z\",file1))\n",
    "\n",
    "\n",
    "\n"
   ]
  },
  {
   "cell_type": "markdown",
   "metadata": {},
   "source": [
    "# Set pair : A set is a set of characters inside a pair of square brackets [] with a special meaning:"
   ]
  },
  {
   "cell_type": "code",
   "execution_count": 113,
   "metadata": {},
   "outputs": [
    {
     "name": "stdout",
     "output_type": "stream",
     "text": [
      "['i', 's', 'i', 's', 'i', 's']\n",
      "['h', 'i', 'i', 'm', 'i', 'n', 'g', 'f', 'c', 'h', 'a']\n",
      "['T', 'h', 'i', 's', ' ', 'i', 's', ' ', 'm', 'y', ' ', 'S', 't', 'i', 'g', ' ', 'o', 'f', ' ', '2', '5', '+', ' ', 'c', 'h', 's']\n",
      "['2', '5']\n",
      "['5']\n",
      "['25']\n",
      "['This', 'Stri']\n",
      "['+']\n"
     ]
    }
   ],
   "source": [
    "import re\n",
    "\n",
    "# [arn]  Returns a match where one of the specified characters (a, r, or n) are present\n",
    "print(re.findall(\"[is]\",file))\n",
    "\n",
    "# [a-n]  Returns a match for any lower case character, alphabetically between a and n\n",
    "print(re.findall(\"[a-n]\",file))\n",
    "\n",
    "# [^arn]   Returns a match for any character EXCEPT a, r, and n\n",
    "print(re.findall(\"[^arn]\",file))\n",
    "\n",
    "# [0123]  Returns a match where any of the specified digits (0, 1, 2, or 3) are present\n",
    "print(re.findall(\"[012345]\",file))\n",
    "\n",
    "# [0-9]  Returns a match for any digit between 0 and 9\n",
    "print(re.findall(\"[3-5]\",file))\n",
    "\n",
    "# [0-5][0-9]\tReturns a match for any two-digit numbers from 00 and 59\n",
    "print(re.findall(\"[0-9][0-9]\",file))\n",
    "\n",
    "# [a-zA-Z]  Returns a match for any character alphabetically between a and z, lower case OR upper case\n",
    "print(re.findall(\"[A-Z]..[a-z]\",file))\n",
    "\n",
    "# [+]  In sets, +, *, ., |, (), $,{} has no special meaning, so [+] means: return a match for any + character in the string\n",
    "print(re.findall(\"[+]\", file))\n"
   ]
  },
  {
   "cell_type": "markdown",
   "metadata": {},
   "source": [
    "# Functions in RegEx(re)"
   ]
  },
  {
   "cell_type": "code",
   "execution_count": 144,
   "metadata": {},
   "outputs": [
    {
     "name": "stdout",
     "output_type": "stream",
     "text": [
      "['awesome']\n",
      "<_sre.SRE_Match object; span=(40, 48), match='awesome '> 5\n",
      "None\n",
      "['Hello', 'world', '!', 'Learning', 'python', 'is', 'really', 'awesome', '']\n",
      "['Hello ', ' ! Learning python is really awesome ', ' seprated new string , world stores new string world rocks :-)']\n",
      "Hello****world****!****Learning****python****is****really****awesome****\n",
      "Hello##world##! Learning python is really awesome \n"
     ]
    }
   ],
   "source": [
    "# findall function : The findall() function returns a list containing all matches\n",
    "# The list contains the matches in the order they are found.\n",
    "# If no matches are found, an empty list is returned\n",
    "import re\n",
    "string = \"Hello world ! Learning python is really awesome \"\n",
    "print(re.findall(\"awesome\",string))\n",
    "\n",
    "\n",
    "# search function : The search() function searches the string for a match, and returns a Match object if there is a match.\n",
    "# If there is more than one match, only the first occurrence of the match will be returned:\n",
    "print(re.search(\"awe.*\",string) , re.search(\"\\s\",string).start())\n",
    "x = re.search(\"total\",string)\n",
    "print(x)\n",
    "\n",
    "# split() function:  The split() function returns a list where the string has been split at each match\n",
    "spl = list(re.split(\"\\s\",string))\n",
    "print(spl)\n",
    "\n",
    "string2 = \"world seprated new string , world stores new string world rocks :-)\"\n",
    "string1 = string + string2\n",
    "# We can control the number of occurrences by specifying the maxsplit parameter\n",
    "print(re.split(\"world\",string1, 2))\n",
    "\n",
    "\n",
    "# sub() function : The sub() function replaces the matches with the text of your choice\n",
    "print(re.sub(\"\\s\",\"****\" , string))\n",
    "print(re.sub(\"\\s\", \"##\" ,string , 2))"
   ]
  },
  {
   "cell_type": "markdown",
   "metadata": {},
   "source": [
    "# Match object : A Match Object is an object containing information about the search and the result.If there is no match, the value None will be returned, instead of the Match Object.\n",
    "\n",
    "# The Match object has properties and methods used to retrieve information about the search, and the result:\n",
    "\n",
    "    .span() returns a tuple containing the start-, and end positions of the match.\n",
    "    .string returns the string passed into the function\n",
    "    .group() returns the part of the string where there was a match"
   ]
  },
  {
   "cell_type": "code",
   "execution_count": 162,
   "metadata": {},
   "outputs": [
    {
     "name": "stdout",
     "output_type": "stream",
     "text": [
      "(12, 17)\n",
      "The rain in Spain\n",
      "Spain\n"
     ]
    }
   ],
   "source": [
    "import re\n",
    "\n",
    "\n",
    "# Print the position (start- and end-position) of the first match occurrence.\n",
    "# The regular expression looks for any words that starts with an upper case \"S\":\n",
    "txt = \"The rain in Spain\"\n",
    "x = re.search(r\"\\bS\\w+\",txt)\n",
    "print(x.span())\n",
    "\n",
    "\n",
    "# Print the string passed into the function\n",
    "print(x.string)\n",
    "\n",
    "# Print the part of the string where there was a match.\n",
    "#The regular expression looks for any words that starts with an upper case \"S\":\n",
    "print(x.group())\n"
   ]
  }
 ],
 "metadata": {
  "kernelspec": {
   "display_name": "Python 3",
   "language": "python",
   "name": "python3"
  },
  "language_info": {
   "codemirror_mode": {
    "name": "ipython",
    "version": 3
   },
   "file_extension": ".py",
   "mimetype": "text/x-python",
   "name": "python",
   "nbconvert_exporter": "python",
   "pygments_lexer": "ipython3",
   "version": "3.6.8"
  }
 },
 "nbformat": 4,
 "nbformat_minor": 4
}
