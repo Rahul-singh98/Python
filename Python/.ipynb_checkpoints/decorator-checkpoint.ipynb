{
 "cells": [
  {
   "cell_type": "markdown",
   "metadata": {},
   "source": [
    "# Function Decorator\n",
    "\n",
    "    A decorator is a function that takes a function as its only parameter and returns a function. This is helpful to “wrap” functionality with the same code over and over again."
   ]
  },
  {
   "cell_type": "code",
   "execution_count": 2,
   "metadata": {},
   "outputs": [
    {
     "name": "stdout",
     "output_type": "stream",
     "text": [
      "Welcome to Python\n"
     ]
    }
   ],
   "source": [
    "def decorate_message(fun): \n",
    "  \n",
    "    # Nested function \n",
    "    def addWelcome(site_name): \n",
    "        return \"Welcome to \" + fun(site_name) \n",
    "  \n",
    "    # Decorator returns a function \n",
    "    return addWelcome \n",
    "  \n",
    "@decorate_message\n",
    "def site(site_name): \n",
    "    return site_name; \n",
    "  \n",
    "# Driver code \n",
    "  \n",
    "# This call is equivalent to call to \n",
    "# decorate_message() with function \n",
    "# site(\"GeeksforGeeks\") as parameter \n",
    "print (site(\"Python\"))"
   ]
  },
  {
   "cell_type": "code",
   "execution_count": 3,
   "metadata": {},
   "outputs": [
    {
     "name": "stdout",
     "output_type": "stream",
     "text": [
      "5\n",
      "3\n"
     ]
    }
   ],
   "source": [
    "# Decorators can also be useful to attach data (or add attribute) to functions.\n",
    "def attach_data(func): \n",
    "       func.data = 3\n",
    "       return func \n",
    "  \n",
    "@attach_data\n",
    "def add (x, y): \n",
    "       return x + y \n",
    "  \n",
    "# Driver code \n",
    "  \n",
    "# This call is equivalent to attach_data() \n",
    "# with add() as parameter \n",
    "print(add(2, 3)) \n",
    "  \n",
    "print(add.data) "
   ]
  },
  {
   "cell_type": "markdown",
   "metadata": {},
   "source": [
    "    Decorators are very powerful and useful tool in Python since it allows programmers to modify the behavior of function or class. Decorators allow us to wrap another function in order to extend the behavior of wrapped function, without permanently modifying it.\n",
    "\n",
    "    In Decorators, functions are taken as the argument into another function and then called inside the wrapper function.\n",
    "\n"
   ]
  },
  {
   "cell_type": "code",
   "execution_count": 5,
   "metadata": {},
   "outputs": [
    {
     "name": "stdout",
     "output_type": "stream",
     "text": [
      "Hello, this is before function execution\n",
      "This is inside the function !!\n",
      "This is after function execution\n"
     ]
    }
   ],
   "source": [
    "def hello_decorator(func): \n",
    "  \n",
    "    # inner1 is a Wrapper function in  \n",
    "    # which the argument is called \n",
    "      \n",
    "    # inner function can access the outer local \n",
    "    # functions like in this case \"func\" \n",
    "    def inner1(): \n",
    "        print(\"Hello, this is before function execution\") \n",
    "  \n",
    "        # calling the actual function now \n",
    "        # inside the wrapper function. \n",
    "        func() \n",
    "  \n",
    "        print(\"This is after function execution\") \n",
    "          \n",
    "    return inner1 \n",
    "  \n",
    "  \n",
    "# defining a function, to be called inside wrapper \n",
    "def function_to_be_used(): \n",
    "    print(\"This is inside the function !!\") \n",
    "  \n",
    "  \n",
    "# passing 'function_to_be_used' inside the \n",
    "# decorator to control its behavior \n",
    "function_to_be_used = hello_decorator(function_to_be_used) \n",
    "  \n",
    "  \n",
    "# calling the function \n",
    "function_to_be_used() "
   ]
  },
  {
   "cell_type": "code",
   "execution_count": 8,
   "metadata": {},
   "outputs": [
    {
     "name": "stdout",
     "output_type": "stream",
     "text": [
      "3628800\n",
      "Total time taken in :  factorial 2.002532720565796\n"
     ]
    }
   ],
   "source": [
    "import time \n",
    "import math \n",
    "  \n",
    "# decorator to calculate duration \n",
    "# taken by any function. \n",
    "def calculate_time(func): \n",
    "      \n",
    "    # added arguments inside the inner1, \n",
    "    # if function takes any arguments, \n",
    "    # can be added like this. \n",
    "    def inner1(*args, **kwargs): \n",
    "  \n",
    "        # storing time before function execution \n",
    "        begin = time.time() \n",
    "          \n",
    "        func(*args, **kwargs) \n",
    "  \n",
    "        # storing time after function execution \n",
    "        end = time.time() \n",
    "        print(\"Total time taken in : \", func.__name__, end - begin) \n",
    "  \n",
    "    return inner1 \n",
    "\n",
    "@calculate_time\n",
    "def factorial(num): \n",
    "  \n",
    "    # sleep 2 seconds because it takes very less time \n",
    "    # so that you can see the actual difference \n",
    "    time.sleep(2) \n",
    "    print(math.factorial(num)) \n",
    "  \n",
    "# calling the function. \n",
    "factorial(10) "
   ]
  },
  {
   "cell_type": "code",
   "execution_count": 9,
   "metadata": {},
   "outputs": [
    {
     "name": "stdout",
     "output_type": "stream",
     "text": [
      "before Execution\n",
      "Inside the function\n",
      "after Execution\n",
      "Sum = 3\n"
     ]
    }
   ],
   "source": [
    "# When function returns some value : In all the above examples the functions didn’t return anything so there\n",
    "    # wasn’t any issue, but one may need the returned value.\n",
    "def hello_decorator(func): \n",
    "    def inner1(*args, **kwargs): \n",
    "          \n",
    "        print(\"before Execution\") \n",
    "          \n",
    "        # getting the returned value \n",
    "        returned_value = func(*args, **kwargs) \n",
    "        print(\"after Execution\") \n",
    "          \n",
    "        # returning the value to the original frame \n",
    "        return returned_value \n",
    "          \n",
    "    return inner1 \n",
    "  \n",
    "  \n",
    "# adding decorator to the function \n",
    "@hello_decorator\n",
    "def sum_two_numbers(a, b): \n",
    "    print(\"Inside the function\") \n",
    "    return a + b \n",
    "  \n",
    "a, b = 1, 2\n",
    "  \n",
    "# getting the value through return of the function \n",
    "print(\"Sum =\", sum_two_numbers(a, b)) "
   ]
  },
  {
   "cell_type": "markdown",
   "metadata": {},
   "source": [
    "# Python functions are First Class citizens which means that functions can be treated similar to objects.\n",
    "\n",
    "    Function can be assigned to a variable i.e they can be referenced.\n",
    "    Function can be passed as an argument to another function.\n",
    "    Function can be returned from a function."
   ]
  },
  {
   "cell_type": "code",
   "execution_count": 10,
   "metadata": {},
   "outputs": [
    {
     "name": "stdout",
     "output_type": "stream",
     "text": [
      "Inside decorator\n",
      "Inside inner function\n",
      "I like geeksforgeeks\n",
      "Inside actual function\n"
     ]
    }
   ],
   "source": [
    "def decorator(*args, **kwargs): \n",
    "    print(\"Inside decorator\") \n",
    "    def inner(func): \n",
    "        print(\"Inside inner function\") \n",
    "        print(\"I like\", kwargs['like'])  \n",
    "        return func \n",
    "    return inner \n",
    "  \n",
    "@decorator(like = \"geeksforgeeks\") \n",
    "def func(): \n",
    "    print(\"Inside actual function\") \n",
    "  \n",
    "func() "
   ]
  },
  {
   "cell_type": "markdown",
   "metadata": {},
   "source": [
    "# Memoization in Python function\n",
    "    Memoization is a technique of recording the intermediate results so that it can be used to avoid repeated calculations and speed up the programs. It can be used to optimize the programs that use recursion. In Python, memoization can be done with the help of function decorators."
   ]
  },
  {
   "cell_type": "code",
   "execution_count": 5,
   "metadata": {},
   "outputs": [
    {
     "name": "stdout",
     "output_type": "stream",
     "text": [
      "120\n"
     ]
    }
   ],
   "source": [
    "def func(F):\n",
    "    memory = {}\n",
    "    \n",
    "    def inner(num):\n",
    "        if num not in memory:\n",
    "            memory[num] = F(num)\n",
    "        return memory[num]\n",
    "    return inner\n",
    "\n",
    "@func\n",
    "def fact(num):\n",
    "    if num == 1:\n",
    "        return 1\n",
    "    else :\n",
    "        return num * fact(num-1)\n",
    "\n",
    "print(fact(5))"
   ]
  },
  {
   "cell_type": "markdown",
   "metadata": {},
   "source": [
    "    Explanation:\n",
    "    1. A function called memoize_factorial has been defined. It’s main purpose is to store the intermediate results in the variable called memory.\n",
    "    2. The second function called facto is the function to calculate the factorial. It has been annotated by a decorator(the function memoize_factorial). The facto has access to the memory variable as a result of the concept of closures.The annotation is equivalent to writing,\n",
    "\n",
    "    facto = memoize_factorial(facto)\n",
    "    3. When facto(5) is called, the recursive operations take place in addition to the storage of intermediate results. Every time a calculation needs to be done, it is checked if the result is available in memory. If yes, then it is used, else, the value is calculated and is stored in memory."
   ]
  },
  {
   "cell_type": "markdown",
   "metadata": {},
   "source": [
    "# Coroutines :- \n",
    "    In Python, coroutines are similar to generators but with few extra methods and slight change in how we use yield statement. Generators produce data for iteration while coroutines can also consume data.\n",
    "\n",
    "    In Python 2.5, a slight modification to the yield statement was introduced, now yield can also be used as expression. For example on the right side of the assignment –\n",
    "\n",
    "    line = (yield)\n",
    "    whatever value we send to coroutine is captured and returned by (yield) expression.\n",
    "    A value can be send to the coroutine by send() method. For example, consider this coroutine which print out name having prefix “Dear” in it. We will send names to coroutine using send() method."
   ]
  },
  {
   "cell_type": "code",
   "execution_count": 5,
   "metadata": {},
   "outputs": [
    {
     "name": "stdout",
     "output_type": "stream",
     "text": [
      "Searching for : Python\n"
     ]
    }
   ],
   "source": [
    "def func(prefix):\n",
    "    print(\"Searching for : {}\".format(prefix))\n",
    "    \n",
    "    while True:\n",
    "        name = (yield)\n",
    "        if prefix in name:\n",
    "            print(name)\n",
    "            \n",
    "cor = func(\"Python\")\n",
    "cor.__next__()\n",
    "\n",
    "cor.send(\" Machine\")\n",
    "cor.send(\"Machine python\")"
   ]
  },
  {
   "cell_type": "markdown",
   "metadata": {},
   "source": [
    "    Execution of coroutine is similar to the generator. When we call coroutine nothing happens, it runs only in response to the next() and send() method. This can be seen clearly in above example, as only after calling __next__() method, out coroutine starts executing. After this call, execution advances to the first yield expression, now execution pauses and wait for value to be sent to corou object. When first value is sent to it, it checks for prefix and print name if prefix present. After printing name it goes through loop until it encounters name = (yield) expression again."
   ]
  },
  {
   "cell_type": "markdown",
   "metadata": {},
   "source": [
    "# Closing a Coroutine\n",
    "\n",
    "    Coroutine might run indefinitely, to close coroutine close() method is used. When coroutine is closed it generates GeneratorExit exception which can be catched in usual way. After closing coroutine, if we try to send values, it will raise StopIteration exception."
   ]
  },
  {
   "cell_type": "code",
   "execution_count": 1,
   "metadata": {},
   "outputs": [
    {
     "name": "stdout",
     "output_type": "stream",
     "text": [
      "Searching prefix:Dear\n",
      "Dear Atul\n",
      "Closing coroutine!!\n"
     ]
    }
   ],
   "source": [
    "def print_name(prefix): \n",
    "    print(\"Searching prefix:{}\".format(prefix)) \n",
    "    try :  \n",
    "        while True: \n",
    "                name = (yield) \n",
    "                if prefix in name: \n",
    "                    print(name) \n",
    "    except GeneratorExit: \n",
    "            print(\"Closing coroutine!!\") \n",
    "  \n",
    "corou = print_name(\"Dear\") \n",
    "corou.__next__() \n",
    "corou.send(\"Atul\") \n",
    "corou.send(\"Dear Atul\") \n",
    "corou.close() "
   ]
  },
  {
   "cell_type": "markdown",
   "metadata": {},
   "source": [
    "# Chaining coroutines for creating pipeline\n",
    "\n",
    "    Coroutines can be used to set pipes. We can chain together coroutines and push data through pipe using send() method. A pipe needs :\n",
    "\n",
    "    An initial source(producer) which derives the whole pipe line. Producer is usually not a coroutine, it’s just a simple method.\n",
    "    A sink, which is the end point of the pipe. A sink might collect all data and display it."
   ]
  },
  {
   "cell_type": "markdown",
   "metadata": {},
   "source": [
    "# Python bit functions on int (bit_length, to_bytes and from_bytes)\n",
    "\n",
    "The int type implements the numbers.Integral abstract base class.\n",
    "\n",
    "    1. int.bit_length()\n",
    "    Returns the number of bits required to represent an integer in binary, excluding the sign and leading zeros."
   ]
  },
  {
   "cell_type": "code",
   "execution_count": 2,
   "metadata": {
    "collapsed": true
   },
   "outputs": [
    {
     "name": "stdout",
     "output_type": "stream",
     "text": [
      "3\n",
      "3\n"
     ]
    }
   ],
   "source": [
    "num = 7\n",
    "print(num.bit_length()) \n",
    "  \n",
    "num = -7\n",
    "print(num.bit_length())"
   ]
  },
  {
   "cell_type": "code",
   "execution_count": 8,
   "metadata": {},
   "outputs": [
    {
     "name": "stdout",
     "output_type": "stream",
     "text": [
      "b'\\x04\\x00'\n",
      "1040\n"
     ]
    }
   ],
   "source": [
    "# 2. int.to_bytes(length, byteorder, *, signed=False)\n",
    "        # Return an array of bytes representing an integer.\n",
    "    \n",
    "print((1024).to_bytes(2, byteorder ='big')) \n",
    "\n",
    "# 3. int.from_bytes(bytes, byteorder, *, signed=False)\n",
    "        # Returns the integer represented by the given array of bytes.\n",
    "    \n",
    "print(int.from_bytes(b'\\x04\\x10', byteorder ='big'))"
   ]
  }
 ],
 "metadata": {
  "kernelspec": {
   "display_name": "Python 3",
   "language": "python",
   "name": "python3"
  },
  "language_info": {
   "codemirror_mode": {
    "name": "ipython",
    "version": 3
   },
   "file_extension": ".py",
   "mimetype": "text/x-python",
   "name": "python",
   "nbconvert_exporter": "python",
   "pygments_lexer": "ipython3",
   "version": "3.6.8"
  }
 },
 "nbformat": 4,
 "nbformat_minor": 4
}
