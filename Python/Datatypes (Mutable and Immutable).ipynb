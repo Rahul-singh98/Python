{
 "cells": [
  {
   "cell_type": "markdown",
   "metadata": {},
   "source": [
    "## Immutable datatypes are that datatypes which can'nt be changed after the creation\n",
    "Example of Immutable datatypes are `int , float, strings , bytes , frozen sets and tuples`"
   ]
  },
  {
   "cell_type": "markdown",
   "metadata": {},
   "source": [
    "## Introduction (Objects, Values, and Types)\n",
    "All the data in a Python code is represented by objects or by relations between objects. Every object has an `identity`, a `type`, and a `value`.\n",
    "### Identity\n",
    "An object’s identity never changes once it has been created; you may think of it as the object’s address in memory. The is operator compares the identity of two objects; the id() function returns an integer representing its identity.\n",
    "### Type\n",
    "An object’s type defines the possible values and operations (e.g. “does it have a length?”) that type supports. The type() function returns the type of an object. An object type is unchangeable like the identity.\n",
    "#### Value\n",
    "The value of some objects can change. Objects whose value can change are said to be mutable; objects whose value is unchangeable once they are created are called immutable.\n",
    "The mutability of an object is determined by its type."
   ]
  },
  {
   "cell_type": "markdown",
   "metadata": {},
   "source": [
    "# Numbers : \n",
    "    Numbers are immutable that means they can'nt be changed once they are created , built-in numeric data types such as booleans, floats, complex numbers, fractions, and decimals are also immutable"
   ]
  },
  {
   "cell_type": "code",
   "execution_count": 1,
   "metadata": {},
   "outputs": [
    {
     "name": "stdout",
     "output_type": "stream",
     "text": [
      "2 <class 'int'> 10914528\n",
      "2 <class 'int'> 10914528\n",
      "3 <class 'int'> 10914560\n",
      "2 <class 'int'> 10914528\n",
      "3 20\n"
     ]
    }
   ],
   "source": [
    "a = 2\n",
    "b = a\n",
    "print(a , type(a) , id(a))\n",
    "# here b is referencing to the address of a\n",
    "print(b , type(b) , id(b))\n",
    "# but when we try to change the value of a , instead of changing the value \n",
    "# a is allocated a new memory address , that's why numeric values are immutable\n",
    "a = 3\n",
    "print(a , type(a) , id(a))\n",
    "print(b , type(b) , id(b))\n",
    "b = 20\n",
    "print(a, b)\n"
   ]
  },
  {
   "cell_type": "markdown",
   "metadata": {},
   "source": [
    " # String : Strings are immutable datatype , which store string values\n",
    "denoted by `''` ,` \"\" `, `''' ''' `\n",
    "\n",
    "Methods used in Strings:-  `['capitalize','casefold','center','count','encode','endswith','expandtabs',\n",
    "'find','format','format_map','index','isalnum','isalpha','isdecimal','isdigit','isidentifier',\n",
    "'islower','isnumeric','isprintable','isspace','istitle','isupper','join','ljust','lower','lstrip',\n",
    "'maketrans','partition','replace','rfind','rindex','rjust','rpartition','rsplit','rstrip','split',\n",
    "'splitlines','startswith','strip','swapcase','title','translate','upper','zfill']`\n",
    "String methods do not change the original data\n",
    "\n",
    "Operations in strings\n",
    "`concatenation`\n",
    "`indexing`\n",
    "`slicing`\n"
   ]
  },
  {
   "cell_type": "code",
   "execution_count": 2,
   "metadata": {},
   "outputs": [
    {
     "name": "stdout",
     "output_type": "stream",
     "text": [
      "Rahul singh <class 'str'> 140430619888496\n"
     ]
    }
   ],
   "source": [
    "#String concatenation\n",
    "a = 'rahul'\n",
    "b = \"singh\"\n",
    "c = a + \" \" + b\n",
    "# here capitalize is a string method, used to capitalize first letter\n",
    "# to know more you can use dir(str)\n",
    "print(c.capitalize() , type(c), id(c))"
   ]
  },
  {
   "cell_type": "code",
   "execution_count": 3,
   "metadata": {},
   "outputs": [
    {
     "name": "stdout",
     "output_type": "stream",
     "text": [
      "ali\n",
      "range\n"
     ]
    }
   ],
   "source": [
    "#String Indexing\n",
    "print(a[1]+a[4]+b[1])\n",
    "print(a[0]+ a[1]+ b[2]+ b[3]+ 'e')"
   ]
  },
  {
   "cell_type": "code",
   "execution_count": 4,
   "metadata": {},
   "outputs": [
    {
     "name": "stdout",
     "output_type": "stream",
     "text": [
      "string\n",
      "new\n",
      "w stri\n",
      "gnirts wen\n"
     ]
    }
   ],
   "source": [
    "#String Slicing\n",
    "\n",
    "# [start point , end point - 1 , step or pattern]\n",
    "a = 'new string'\n",
    "b = ' content of 1234567'\n",
    "print(a[4:])\n",
    "print(a[:3])\n",
    "print(a[2:-2]) #here a is the starting point and the it goes to next 2 -1 values to print\n",
    "print(a[::-1]) #to reverse the string\n"
   ]
  },
  {
   "cell_type": "code",
   "execution_count": 5,
   "metadata": {},
   "outputs": [
    {
     "name": "stdout",
     "output_type": "stream",
     "text": [
      "&&&&&&&&&&&&&&&new string content of 1234567&&&&&&&&&&&&&&&&\n",
      " new string content of 1234567cnew string content of 1234567onew string content of 1234567nnew string content of 1234567tnew string content of 1234567enew string content of 1234567nnew string content of 1234567tnew string content of 1234567 new string content of 1234567onew string content of 1234567fnew string content of 1234567 new string content of 12345671new string content of 12345672new string content of 12345673new string content of 12345674new string content of 12345675new string content of 12345676new string content of 12345677\n",
      "hello world L E A R N \n",
      "Hello world   e a r n \n",
      "The sum of 40 + 40 + 10 is  70\n",
      "I'm a programmer \n"
     ]
    }
   ],
   "source": [
    "# Methods in String\n",
    "c = a+b\n",
    "#print(c.capitalize())\n",
    "#print(c.title())\n",
    "#print(c.upper())\n",
    "#print(c.casefold())\n",
    "#print(c.lower())\n",
    "#print(c.isalpha())\n",
    "#print(c.isalnum())\n",
    "print(c.center(60,\"&\"))\n",
    "#print(c.isdigit())\n",
    "print(c.join(b))\n",
    "#print(c.isupper())\n",
    "# #The strip() method removes any whitespace from the beginning or the end\n",
    "# string1 = \"          Hello World !!! \"\n",
    "# print(string.strip1())\n",
    "\n",
    "# # The lower() method returns the string in lower case\n",
    "string = \"Hello world l e a r n \"\n",
    "# print(string.lower())\n",
    "\n",
    "# #The upper() method returns the string in upper case\n",
    "# print(string.upper())\n",
    "\n",
    "# #The title() method returns the string first letter capital after each space\n",
    "# print(string.title())\n",
    "\n",
    "print(string[:11].lower()+ string[11:].upper())\n",
    "\n",
    "#The replace() method replaces a string with another string\n",
    "# print(string.replace(\"l\", \" \"))\n",
    "print(string[::-1].replace(\"l\" , \" \",1)[::-1])\n",
    "\n",
    "#The split() method splits the string into substrings if it finds instances of the separator\n",
    "# print(string.split(\"l\",0))\n",
    "# l = string.split(\" \")\n",
    "# print(l, type(l))\n",
    "\n",
    "a = 10 \n",
    "b = 20 \n",
    "c = 40\n",
    "print(\"The sum of {2} + {2} + {0} is \".format(a , b, c),a+b+c )\n",
    "\n",
    "str1 = 'I\\'m a programmer '\n",
    "print(str1)\n",
    "\n",
    "# NOTE:- Recommended to use this all string methods"
   ]
  },
  {
   "cell_type": "code",
   "execution_count": 8,
   "metadata": {},
   "outputs": [
    {
     "name": "stdout",
     "output_type": "stream",
     "text": [
      "2\n",
      "vishvjeet\n",
      "['    ', 'ish', 'jeet']\n",
      "******************    vishvjeet*******************\n",
      " * * * *v*i*s*h*v*j*e*e*t\n",
      "r->a->h->u->l\n",
      "Python     with                  Machine learning                     is easy\n",
      "Python is supercool language                      \n",
      "                      Python is supercool language\n",
      "           Python is supercool language           \n",
      "''\n",
      "'Python'\n",
      "''\n",
      "'Python'\n"
     ]
    }
   ],
   "source": [
    "a = '    vishvjeet'\n",
    "#print(a.replace(\"v\" ,'*')\n",
    "#print(a[::-1].replace('v' , '*', 1)[::-1])\n",
    "print(a.count('v'))\n",
    "print(a.strip())\n",
    "print(a.split('v'))\n",
    "print(a.center(50,'*'))\n",
    "a = '*'.join(a)\n",
    "print(a)\n",
    "b = \"rahul\"\n",
    "b = '->'.join(b)\n",
    "print(b)\n",
    "\n",
    "string = \"{:<10} with {:^50} {:>10}\".format(\"Python\" , \"Machine learning\",\"is easy\")\n",
    "print(string)\n",
    "string1 = \"Python is supercool language\"\n",
    "print(string1.ljust(50))\n",
    "print(string1.rjust(50))\n",
    "print(string1.center(50))\n",
    "\n",
    "# repr is used to print the string with quotes\n",
    "str1 = \"\"\n",
    "str2 = \"Python\"\n",
    "print(repr(str1 and str2))\n",
    "print(repr(str1 or str2))\n",
    "print(repr(str2 and str1))\n",
    "print(repr(str2 or str1))"
   ]
  },
  {
   "cell_type": "code",
   "execution_count": 9,
   "metadata": {},
   "outputs": [
    {
     "name": "stdout",
     "output_type": "stream",
     "text": [
      "Hello Rahul you got 67\n",
      "Hello Kajal you got 89\n",
      "Hello Amit you got 81\n"
     ]
    }
   ],
   "source": [
    "from string import Template\n",
    "student = [('Rahul',67),('Kajal',89),('Amit',81)]\n",
    "out = Template(\"Hello $name you got $marks\")\n",
    "\n",
    "for i in student:\n",
    "    print(out.substitute(name = i[0], marks = i[1]))"
   ]
  },
  {
   "cell_type": "markdown",
   "metadata": {},
   "source": [
    "## Mutable datatypes (list ,set , dictionaries):These are those datatypes which can be mutable means whose data can be change after the creation"
   ]
  },
  {
   "cell_type": "markdown",
   "metadata": {},
   "source": [
    "# List : A list is a collection which is ordered and changeable. In Python lists are written with square brackets.\n",
    "Operaion allowed \n",
    "`concatenation`\n",
    "`indexing`\n",
    "`slicing`"
   ]
  },
  {
   "cell_type": "code",
   "execution_count": 10,
   "metadata": {},
   "outputs": [
    {
     "name": "stdout",
     "output_type": "stream",
     "text": [
      "[1, 2, 3, 4, 5, 6, 7, 8, 9, 10]\n",
      "[1, 2, 3, 4, [1, 2, 3], 'word', ['data', 'cheet', 'sheet'], 'values', 32, 34.22, 534.232]\n",
      "cheet\n",
      "[[4, 5, 6], 7, 8, 'python', 'is', 'fun', [2, 4, 6]]\n",
      "[3, [4, 5, 6], 7, 8, 'python', 'is', 'fun']\n",
      "[[2, 4, 6], 'fun', 'is', 'python', 8, 7, [4, 5, 6], 3, 2, 1]\n"
     ]
    }
   ],
   "source": [
    "list1 = [1,2,3,4,5,6]\n",
    "list2 = [7,8,9,10]\n",
    "\n",
    "# concatenation\n",
    "list3 = list1 + list2\n",
    "print(list3)\n",
    "\n",
    "# indexing\n",
    "l1 = [1,2,3,4,[1,2,3],'word',['data','cheet','sheet'],'values',32,34.22,534.232]\n",
    "print(l1)\n",
    "print(l1[6][1])\n",
    "\n",
    "\n",
    "# slicing \n",
    "l1 = [1,2,3,[4,5,6],7,8,\"python\", 'is','fun',[2,4,6]]\n",
    "print(l1[3:])\n",
    "print(l1[2:-1])\n",
    "print(l1[::-1])\n"
   ]
  },
  {
   "cell_type": "code",
   "execution_count": 11,
   "metadata": {},
   "outputs": [
    {
     "name": "stdout",
     "output_type": "stream",
     "text": [
      "['a', 'e', 'i', 'o', 'u']\n",
      "['a', 'e', 'i', 'o', 'u'] \n",
      " ['a', 'e', 'i', 'o', 'u']\n",
      "['a', 'e', 'i', 'o', 'u', 'Lime', 'Sweet', 'Sour', 'Spicy']\n",
      "['a', 'e', 'i', 'o', 'u', '1234', 'fun', 'new'] 1 5\n"
     ]
    }
   ],
   "source": [
    "    #Methods in list\n",
    "#To add an item to the end of the list, use the append() method\n",
    "#l1.append('rahul')\n",
    "\n",
    "#The remove() method removes the specified item\n",
    "#l1.remove('rahul')\n",
    "\n",
    "#The pop() method removes the specified index, (or the last item if index is not specified)\n",
    "#l1.pop()\n",
    "\n",
    "\n",
    "#l1.reverse()\n",
    "# l3 = [1,2,3,7,8,\"python\", 'is','fun']\n",
    "# l3.sort()\n",
    "# print(l1)\n",
    "l2 = ['e','u','a','i','o',]\n",
    "l2.sort(reverse= False)\n",
    "print(l2)\n",
    "\n",
    "#The clear() method empties the list\n",
    "# # l2.clear()\n",
    "# print(l2)\n",
    "\n",
    "#Make a copy of a list with the copy() method\n",
    "l4 = l2.copy()\n",
    "\n",
    "#Another way to make a copy is to use the built-in method list()\n",
    "l5 = list(l4)\n",
    "print(l4 ,\"\\n\" , l5)\n",
    "\n",
    "l6 = [\"Lime\",\"Sweet\",\"Sour\",\"Spicy\"]\n",
    "#Use the extend() method to add l5 at the end of l6\n",
    "#l4.extend('123')\n",
    "l5.extend(l6)\n",
    "print(l5)\n",
    "\n",
    "\n",
    "#To add an item at the specified index, use the insert() method:\n",
    "l4.insert(8,'1234')\n",
    "\n",
    "l4.append('new')\n",
    "l4.insert(6,'fun')\n",
    "print(l4,l4.count('a'),l4.index('1234'))\n",
    "\n"
   ]
  },
  {
   "cell_type": "markdown",
   "metadata": {},
   "source": [
    "## set :- A set is a collection which is unordered and unindexed. In Python sets are written with curly brackets.\n",
    "\n",
    "## Methods used in set are :-\n",
    " \n",
    " |  add(...)\n",
    " |      Add an element to a set.\n",
    " |      \n",
    " |      This has no effect if the element is already present.\n",
    " |  \n",
    " |  clear(...)\n",
    " |      Remove all elements from this set.\n",
    " |  \n",
    " |  copy(...)\n",
    " |      Return a shallow copy of a set.\n",
    " |  \n",
    " |  difference(...)\n",
    " |      Return the difference of two or more sets as a new set.\n",
    " |      \n",
    " |      (i.e. all elements that are in this set but not the others.)\n",
    " |  \n",
    " |  difference_update(...)\n",
    " |      Remove all elements of another set from this set.\n",
    " |  \n",
    " |  discard(...)\n",
    " |      Remove an element from a set if it is a member.\n",
    " |      \n",
    " |      If the element is not a member, do nothing.\n",
    " |  \n",
    " |  intersection(...)\n",
    " |      Return the intersection of two sets as a new set.\n",
    " |      \n",
    " |      (i.e. all elements that are in both sets.)\n",
    " |  \n",
    " |  intersection_update(...)\n",
    " |      Update a set with the intersection of itself and another.\n",
    " |  \n",
    " |  isdisjoint(...)\n",
    " |      Return True if two sets have a null intersection.\n",
    " |  \n",
    " |  issubset(...)\n",
    " |      Report whether another set contains this set.\n",
    " |  \n",
    " |  issuperset(...)\n",
    " |      Report whether this set contains another set.\n",
    " |  \n",
    " |  pop(...)\n",
    " |      Remove and return an arbitrary set element.\n",
    " |      Raises KeyError if the set is empty.\n",
    " |  \n",
    " |  remove(...)\n",
    " |      Remove an element from a set; it must be a member.\n",
    " |      \n",
    " |      If the element is not a member, raise a KeyError.\n",
    " |  \n",
    " |  symmetric_difference(...)\n",
    " |      Return the symmetric difference of two sets as a new set.\n",
    " |      \n",
    " |      (i.e. all elements that are in exactly one of the sets.)\n",
    " |  \n",
    " |  symmetric_difference_update(...)\n",
    " |      Update a set with the symmetric difference of itself and another.\n",
    " |  \n",
    " |  union(...)\n",
    " |      Return the union of sets as a new set.\n",
    " |      \n",
    " |      (i.e. all elements that are in either set.)\n",
    " |  \n",
    " |  update(...)\n",
    " |      Update a set with the union of itself and others.\n"
   ]
  },
  {
   "cell_type": "code",
   "execution_count": 16,
   "metadata": {},
   "outputs": [
    {
     "name": "stdout",
     "output_type": "stream",
     "text": [
      "{1, 4} 140430702310344 {1, 2, 3, 5, 6} 140430702310120\n",
      "{2, 3, 4, 5, 6}\n"
     ]
    }
   ],
   "source": [
    "a = set()\n",
    "#print(a , type(a), id(a))\n",
    "b = {1 ,2,5 ,3,5,6}\n",
    "#print(b , type(b), id(a))\n",
    "\n",
    "#To add one item to a set use the add() method\n",
    "a.add(1)\n",
    "a.add(4)\n",
    "\n",
    "\n",
    "#print(a|b)\n",
    "print(a , id(a),b , id(b))\n",
    "\n",
    "# #The union() method returns a new set with all items from both sets\n",
    "# a = a.union(b)\n",
    "# print(a , type(a), id(a))\n",
    "\n",
    "# b = a.intersection(b)\n",
    "# print(b, type(b), id(b))\n",
    "\n",
    "a = a.symmetric_difference(b)\n",
    "print(a )\n"
   ]
  },
  {
   "cell_type": "code",
   "execution_count": 17,
   "metadata": {},
   "outputs": [
    {
     "name": "stdout",
     "output_type": "stream",
     "text": [
      "{'Rahul', 'kajal', 'Ravi', 'Amit', 'Neha'}\n",
      "5\n",
      "{'Rahul', 'kajal', 'Ravi', 'Neha'}\n",
      "Rahul\n",
      "{'Tarun', 'Ravi', 'Gurdayal', 'kajal', 'Neha'}\n",
      "{'Tarun', 'Gurdayal', 'kajal', 'Ravi', 'Neha'}\n"
     ]
    }
   ],
   "source": [
    "class_list = {\"Rahul\",\"kajal\"}\n",
    "# print(class_list)\n",
    "# class_list.add(\"amit\")\n",
    "# print(class_list)\n",
    "\n",
    "#To add more than one item to a set use the update() method\n",
    "class_list.update([\"Amit\",\"Neha\",\"Ravi\"])\n",
    "print(class_list)\n",
    "\n",
    "# To determine how many items a set has, use the len() method\n",
    "print(len(class_list))\n",
    "\n",
    "#Remove \"Amit\" by using the remove() method\n",
    "class_list.remove(\"Amit\")\n",
    "#Remove \"Amit\" by using the discard() method\n",
    "class_list.discard(\"Amit\")\n",
    "# If the item to remove does not exist, remove() will raise an error while discard willnot\n",
    "print(class_list)\n",
    "\n",
    "#You can also use the pop(), method to remove an item, but this method will remove the last item. Remember that sets are unordered, so you will not know what item that gets removed.The return value of the pop() method is the removed item\n",
    "x = class_list.pop()\n",
    "print(x)\n",
    "\n",
    "# #The clear() method empties the set\n",
    "# class_list.clear()\n",
    "# print(class_list)\n",
    "\n",
    "# The union() method returns a new set with all items from both sets , union() return values is set , so we need to take that set in another variable\n",
    "b = {\"Tarun\",\"Gurdayal\"}\n",
    "c = class_list.union(b)\n",
    "print(c)\n",
    "\n",
    "#The update() method inserts the items in set2 into set1\n",
    "class_list.update(b)\n",
    "print(class_list)"
   ]
  },
  {
   "cell_type": "markdown",
   "metadata": {},
   "source": [
    "## dict :\n",
    "A dictionary is a collection which is unordered, changeable and indexed. In Python dictionaries are written with curly brackets, and they have keys and values\n",
    "\n",
    "## Methods defined here : -\n",
    " |  clear(...)\n",
    " |      D.clear() -> None.  Remove all items from D.\n",
    " |  \n",
    " |  copy(...)\n",
    " |      D.copy() -> a shallow copy of D\n",
    " |  \n",
    " |  fromkeys(iterable, value=None, /) from builtins.type\n",
    " |      Returns a new dict with keys from iterable and values equal to value.\n",
    " |  \n",
    " |  get(...)\n",
    " |      D.get(k[,d]) -> D[k] if k in D, else d.  d defaults to None.\n",
    " |  \n",
    " |  items(...)\n",
    " |      D.items() -> a set-like object providing a view on D's items\n",
    " |  \n",
    " |  keys(...)\n",
    " |      D.keys() -> a set-like object providing a view on D's keys\n",
    " |  \n",
    " |  pop(...)\n",
    " |      D.pop(k[,d]) -> v, remove specified key and return the corresponding value.\n",
    " |      If key is not found, d is returned if given, otherwise KeyError is raised\n",
    " |  \n",
    " |  popitem(...)\n",
    " |      D.popitem() -> (k, v), remove and return some (key, value) pair as a\n",
    " |      2-tuple; but raise KeyError if D is empty.\n",
    " |  \n",
    " |  setdefault(...)\n",
    " |      D.setdefault(k[,d]) -> D.get(k,d), also set D[k]=d if k not in D\n",
    " |  \n",
    " |  update(...)\n",
    " |      D.update([E, ]**F) -> None.  Update D from dict/iterable E and F.\n",
    " |      If E is present and has a .keys() method, then does:  for k in E: D[k] = E[k]\n",
    " |      If E is present and lacks a .keys() method, then does:  for k, v in E: D[k] = v\n",
    " |      In either case, this is followed by: for k in F:  D[k] = F[k]\n",
    " |  \n",
    " |  values(...)\n",
    " |      D.values() -> an object providing a view on D's values"
   ]
  },
  {
   "cell_type": "code",
   "execution_count": 20,
   "metadata": {},
   "outputs": [
    {
     "name": "stdout",
     "output_type": "stream",
     "text": [
      "{'Name': 'Rahul', 'Course': 'Machine learning', 'Fees': 16000} <class 'dict'> 140430619093176\n",
      "dict_keys(['Name', 'Course', 'Fees'])\n",
      "dict_values(['Rahul', 'Machine learning', 16000])\n",
      "dict_items([('Name', 'Rahul'), ('Course', 'Machine learning'), ('Fees', 16000)])\n",
      "Machine learning\n",
      "16000\n",
      "{'Name': 'Rahul', 'Course': 'Machine learning', 'Fees': 16000, 'Consultant': 'Rohan'}\n",
      "dict_values(['Kajal', 'Machine Learning'])\n"
     ]
    }
   ],
   "source": [
    "a = {\n",
    "    \"Name\":\"Rahul\",\n",
    "    \"Course\":\"Machine learning\",\n",
    "    \"Fees\":16000\n",
    "}\n",
    "print(a , type(a), id(a))\n",
    "print(a.keys())\n",
    "print(a.values())\n",
    "print(a.items())\n",
    "\n",
    "# We can access the items of a dictionary by referring to its key name, inside square brackets\n",
    "print(a[\"Course\"])\n",
    "# There is also a method called get() that will give you the same result\n",
    "print(a.get(\"Fees\"))\n",
    "\n",
    "#add item in dictionary\n",
    "a[\"Consultant\"]= \"Rohan\"\n",
    "print(a)\n",
    "\n",
    "# #The pop() method removes the item with the specified key name\n",
    "# a.pop(\"Fees\")\n",
    "# print(a)\n",
    "\n",
    "# #The popitem() method removes the last inserted item (in versions before 3.7, a random item is removed instead)\n",
    "# a.popitem()\n",
    "# print(a)\n",
    "\n",
    "#A dictionary can also contain many dictionaries, this is called nested dictionaries\n",
    "d1 = {\n",
    "    \"child1\":{\n",
    "        \"Name\":\"Kajal\",\n",
    "        \"Course\":\"Machine Learning\"\n",
    "    }, \n",
    "    \"child2\":{\n",
    "        \"Name\":\"Rahul\",\n",
    "        \"Course\":\"Machine Learning\"\n",
    "    },\n",
    "    \"child3\":{\n",
    "        \"Name\":\"Amit\",\n",
    "        \"Course\":\"Machine Learning\"\n",
    "    }\n",
    "}\n",
    "print(d1[\"child1\"].values())"
   ]
  },
  {
   "cell_type": "code",
   "execution_count": 21,
   "metadata": {},
   "outputs": [
    {
     "name": "stdout",
     "output_type": "stream",
     "text": [
      "{'child1': {'Name': 'Kajal', 'Course': 'Machine Learning'}, 'child2': {'Name': 'Rahul', 'Course': 'Machine Learning'}, 'child3': {'Name': 'Amit', 'Course': 'Machine Learning'}}\n"
     ]
    }
   ],
   "source": [
    "#Create three dictionaries, than create one dictionary that will contain the other three dictionaries\n",
    "child1={\n",
    "        \"Name\":\"Kajal\",\n",
    "        \"Course\":\"Machine Learning\"\n",
    "    }\n",
    "child2={\n",
    "        \"Name\":\"Rahul\",\n",
    "        \"Course\":\"Machine Learning\"\n",
    "    }\n",
    "child3={\n",
    "        \"Name\":\"Amit\",\n",
    "        \"Course\":\"Machine Learning\"\n",
    "    }\n",
    "Institute = {\n",
    "    \"child1\":child1,\n",
    "    \"child2\":child2,\n",
    "    \"child3\":child3\n",
    "}\n",
    "print(Institute)"
   ]
  }
 ],
 "metadata": {
  "kernelspec": {
   "display_name": "Python 3",
   "language": "python",
   "name": "python3"
  },
  "language_info": {
   "codemirror_mode": {
    "name": "ipython",
    "version": 3
   },
   "file_extension": ".py",
   "mimetype": "text/x-python",
   "name": "python",
   "nbconvert_exporter": "python",
   "pygments_lexer": "ipython3",
   "version": "3.6.8"
  }
 },
 "nbformat": 4,
 "nbformat_minor": 4
}
