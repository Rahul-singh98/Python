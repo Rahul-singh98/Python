{
 "cells": [
  {
   "cell_type": "markdown",
   "metadata": {},
   "source": [
    "# JSON : JSON is a syntax for storing and exchanging data.JSON is text, written with JavaScript object notation."
   ]
  },
  {
   "cell_type": "code",
   "execution_count": 17,
   "metadata": {},
   "outputs": [
    {
     "name": "stdout",
     "output_type": "stream",
     "text": [
      "{\"Name\": \"Rahul\", \"Class\": \"Python\", \"Age\": 21} <class 'str'>\n",
      "{'Name': 'Rahul', 'Class': 'Python', 'Age': 21} <class 'dict'>\n"
     ]
    }
   ],
   "source": [
    "# Python has a built-in package called json, which can be used to work with JSON data\n",
    "import json\n",
    "x = {\n",
    "    \"Name\":\"Rahul\",\n",
    "    \"Class\":\"Python\",\n",
    "    \"Age\":21\n",
    "}\n",
    "\n",
    "# If you have a Python object, you can convert it into a JSON string by using the json.dumps() method.\n",
    "y = json.dumps(x)\n",
    "print(y , type(y))\n",
    "\n",
    "# If you have a JSON string, you can parse it by using the json.loads() method\n",
    "new = json.loads(y)\n",
    "print(new ,type(new))"
   ]
  },
  {
   "cell_type": "code",
   "execution_count": 23,
   "metadata": {
    "collapsed": true
   },
   "outputs": [
    {
     "name": "stdout",
     "output_type": "stream",
     "text": [
      "loads\n",
      "dumps\n",
      "{\"Key1\": \"Value1\", \"Key2\": \"Value2\", \"Key3\": \"Value3\"}\n",
      "[\"List1\", \"List2\", \"List3\"]\n",
      "[\"Tuple1\", \"Tuple2\", \"Tuple3\"]\n",
      "\"This is my string\"\n",
      "2345\n",
      "234.5\n",
      "true\n",
      "false\n",
      "null\n"
     ]
    }
   ],
   "source": [
    "# We can convert Python objects of the following types, into JSON strings:\n",
    "# dict\n",
    "# list\n",
    "# tuple\n",
    "# string\n",
    "# int\n",
    "# float\n",
    "# True\n",
    "# False\n",
    "# None\n",
    "\n",
    "import json\n",
    "\n",
    "print(\"loads\")\n",
    "# print(json.loads({\"Key1\":\"Value1\" ,\"Key2\":\"Value2\" , \"Key3\":\"Value3\"}))\n",
    "# print(json.loads([\"List1\",\"List2\",\"List3\"]))\n",
    "# print(json.loads((\"Tuple1\",\"Tuple2\",\"Tuple3\")))\n",
    "# print(json.loads(\"This is my string\"))\n",
    "# print(json.loads(2345))\n",
    "# print(json.loads(234.5))\n",
    "# print(json.loads(True))\n",
    "# print(json.loads(False))\n",
    "# print(json.loads(None))\n",
    "\n",
    "print(\"dumps\")\n",
    "print(json.dumps({\"Key1\":\"Value1\" ,\"Key2\":\"Value2\" , \"Key3\":\"Value3\"}))\n",
    "print(json.dumps([\"List1\",\"List2\",\"List3\"]))\n",
    "print(json.dumps((\"Tuple1\",\"Tuple2\",\"Tuple3\")))\n",
    "print(json.dumps(\"This is my string\"))\n",
    "print(json.dumps(2345))\n",
    "print(json.dumps(234.5))\n",
    "print(json.dumps(True))\n",
    "print(json.dumps(False))\n",
    "print(json.dumps(None))"
   ]
  },
  {
   "cell_type": "code",
   "execution_count": 31,
   "metadata": {},
   "outputs": [
    {
     "name": "stdout",
     "output_type": "stream",
     "text": [
      "{\"name\": \"John\", \"age\": 30, \"married\": true, \"divorced\": false, \"children\": [\"Ann\", \"Billy\"], \"pets\": null, \"cars\": [{\"model\": \"BMW 230\", \"mpg\": 27.5}, {\"model\": \"Ford Edge\", \"mpg\": 24.1}]}\n",
      "{\n",
      "    \"name\": \"John\",\n",
      "    \"age\": 30,\n",
      "    \"married\": true,\n",
      "    \"divorced\": false,\n",
      "    \"children\": [\n",
      "        \"Ann\",\n",
      "        \"Billy\"\n",
      "    ],\n",
      "    \"pets\": null,\n",
      "    \"cars\": [\n",
      "        {\n",
      "            \"model\": \"BMW 230\",\n",
      "            \"mpg\": 27.5\n",
      "        },\n",
      "        {\n",
      "            \"model\": \"Ford Edge\",\n",
      "            \"mpg\": 24.1\n",
      "        }\n",
      "    ]\n",
      "}\n",
      "{\n",
      "    \"name\" = \"John\". \n",
      "    \"age\" = 30. \n",
      "    \"married\" = true. \n",
      "    \"divorced\" = false. \n",
      "    \"children\" = [\n",
      "        \"Ann\". \n",
      "        \"Billy\"\n",
      "    ]. \n",
      "    \"pets\" = null. \n",
      "    \"cars\" = [\n",
      "        {\n",
      "            \"model\" = \"BMW 230\". \n",
      "            \"mpg\" = 27.5\n",
      "        }. \n",
      "        {\n",
      "            \"model\" = \"Ford Edge\". \n",
      "            \"mpg\" = 24.1\n",
      "        }\n",
      "    ]\n",
      "}\n",
      "{\n",
      "    \"age\": 30,\n",
      "    \"cars\": [\n",
      "        {\n",
      "            \"model\": \"BMW 230\",\n",
      "            \"mpg\": 27.5\n",
      "        },\n",
      "        {\n",
      "            \"model\": \"Ford Edge\",\n",
      "            \"mpg\": 24.1\n",
      "        }\n",
      "    ],\n",
      "    \"children\": [\n",
      "        \"Ann\",\n",
      "        \"Billy\"\n",
      "    ],\n",
      "    \"divorced\": false,\n",
      "    \"married\": true,\n",
      "    \"name\": \"John\",\n",
      "    \"pets\": null\n",
      "}\n"
     ]
    }
   ],
   "source": [
    "import json\n",
    "\n",
    "\n",
    "x = {\n",
    "  \"name\": \"John\",\n",
    "  \"age\": 30,\n",
    "  \"married\": True,\n",
    "  \"divorced\": False,\n",
    "  \"children\": (\"Ann\",\"Billy\"),\n",
    "  \"pets\": None,\n",
    "  \"cars\": [\n",
    "    {\"model\": \"BMW 230\", \"mpg\": 27.5},\n",
    "    {\"model\": \"Ford Edge\", \"mpg\": 24.1}\n",
    "  ]\n",
    "}\n",
    "\n",
    "print(json.dumps(x))\n",
    "\n",
    "# Use the indent parameter to define the numbers of indents\n",
    "print(json.dumps(x, indent=4))\n",
    "\n",
    "# Use the separators parameter to change the default separator\n",
    "print(json.dumps(x, indent=4, separators=(\". \", \" = \")))\n",
    "\n",
    "# Use the sort_keys parameter to specify if the result should be sorted or not\n",
    "print(json.dumps(x, indent=4, sort_keys=True))\n"
   ]
  },
  {
   "cell_type": "code",
   "execution_count": null,
   "metadata": {},
   "outputs": [],
   "source": []
  }
 ],
 "metadata": {
  "kernelspec": {
   "display_name": "Python 3",
   "language": "python",
   "name": "python3"
  },
  "language_info": {
   "codemirror_mode": {
    "name": "ipython",
    "version": 3
   },
   "file_extension": ".py",
   "mimetype": "text/x-python",
   "name": "python",
   "nbconvert_exporter": "python",
   "pygments_lexer": "ipython3",
   "version": "3.6.8"
  }
 },
 "nbformat": 4,
 "nbformat_minor": 4
}
