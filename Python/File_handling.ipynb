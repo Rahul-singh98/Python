{
 "cells": [
  {
   "cell_type": "markdown",
   "metadata": {},
   "source": [
    "# File handling : \n",
    "\n",
    "    File handling is an important part of any web application.\n",
    "    Python has several functions for creating, reading, updating, and deleting files\n",
    "    \n",
    "    The key function for working with files in Python is the open() function.\n",
    "    The open() function takes two parameters; filename, and mode.\n",
    "    There are four different methods (modes) for opening a file\n",
    "    \n",
    "        \"r\" - Read - Default value. Opens a file for reading, error if the file does not exist\n",
    "        \"a\" - Append - Opens a file for appending, creates the file if it does not exist\n",
    "        \"w\" - Write - Opens a file for writing, creates the file if it does not exist\n",
    "        \"x\" - Create - Creates the specified file, returns an error if the file exists\n",
    "        \"t\" - Text - Default value. Text mode\n",
    "        \"b\" - Binary - Binary mode (e.g. images)"
   ]
  },
  {
   "cell_type": "code",
   "execution_count": 17,
   "metadata": {},
   "outputs": [
    {
     "name": "stdout",
     "output_type": "stream",
     "text": [
      "Text file for example\n",
      "\n",
      "second line text\n",
      "\n",
      "third line text\n",
      "\n",
      "fourth line text\n"
     ]
    }
   ],
   "source": [
    "f = open(\"pythonfile1.txt\",\"rt\")\n",
    "\n",
    "# # The open() function returns a file object, which has a read() method for reading the content of the file\n",
    "# print(f.read())\n",
    "\n",
    "# # By default the read() method returns the whole text, but you can also specify how many characters you want to return\n",
    "# print(f.read(2))\n",
    "\n",
    "# # You can return one line by using the readline() method\n",
    "# print(f.readline())\n",
    "# print(f.readline())\n",
    "\n",
    "# open using loop \n",
    "for x in f:\n",
    "    print(x)\n",
    "f.close()\n",
    "# You should always close your files, in some cases, due to buffering, changes made to a file may not show until you close the file."
   ]
  },
  {
   "cell_type": "markdown",
   "metadata": {},
   "source": [
    "# Write to an Existing File\n",
    "    To write to an existing file, you must add a parameter to the open() function:\n",
    "\n",
    "        \"a\" - Append - will append to the end of the file\n",
    "\n",
    "        \"w\" - Write - will overwrite any existing content"
   ]
  },
  {
   "cell_type": "code",
   "execution_count": 20,
   "metadata": {},
   "outputs": [
    {
     "name": "stdout",
     "output_type": "stream",
     "text": [
      "Text file for example\n",
      "second line text\n",
      "third line text\n",
      "fourth line textNewly inserted textNewly inserted text\n"
     ]
    }
   ],
   "source": [
    "f = open(\"pythonfile1.txt\",\"a\")\n",
    "f.write(\"Newly inserted text\")\n",
    "f.close()\n",
    "\n",
    "f = open(\"pythonfile1.txt\",\"r\")\n",
    "print(f.read())\n",
    "f.close()"
   ]
  },
  {
   "cell_type": "code",
   "execution_count": null,
   "metadata": {},
   "outputs": [],
   "source": []
  },
  {
   "cell_type": "code",
   "execution_count": null,
   "metadata": {},
   "outputs": [],
   "source": []
  }
 ],
 "metadata": {
  "kernelspec": {
   "display_name": "Python 3",
   "language": "python",
   "name": "python3"
  },
  "language_info": {
   "codemirror_mode": {
    "name": "ipython",
    "version": 3
   },
   "file_extension": ".py",
   "mimetype": "text/x-python",
   "name": "python",
   "nbconvert_exporter": "python",
   "pygments_lexer": "ipython3",
   "version": "3.6.8"
  }
 },
 "nbformat": 4,
 "nbformat_minor": 4
}
