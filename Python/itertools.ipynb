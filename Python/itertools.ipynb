{
 "cells": [
  {
   "cell_type": "code",
   "execution_count": 1,
   "metadata": {
    "collapsed": true
   },
   "outputs": [
    {
     "name": "stdout",
     "output_type": "stream",
     "text": [
      "The sum after each iteration is : [1, 5, 10, 17]\n",
      "The product after each iteration is : [1, 4, 20, 140]\n",
      "All values in mentioned chain are : [1, 4, 5, 7, 1, 6, 5, 9, 8, 10, 5, 4]\n"
     ]
    }
   ],
   "source": [
    "# 1. accumulate(iter, func) :- This iterator takes two arguments, iterable target and the function which would be followed at each iteration of value in target. If no function is passed, addition takes place by default.If the input iterable is empty, the output iterable will also be empty.\n",
    "\n",
    "# 2. chain(iter1, iter2..) :- This function is used to print all the values in iterable targets one after another mentioned in its arguments.\n",
    "\n",
    "import itertools \n",
    "  \n",
    "# importing \"operator\" for operator operations \n",
    "import operator \n",
    "  \n",
    "# initializing list 1 \n",
    "li1 = [1, 4, 5, 7] \n",
    "  \n",
    "# initializing list 2 \n",
    "li2 = [1, 6, 5, 9] \n",
    "  \n",
    "# initializing list 3 \n",
    "li3 = [8, 10, 5, 4] \n",
    "  \n",
    "# using accumulate() \n",
    "# prints the successive summation of elements \n",
    "print (\"The sum after each iteration is : \",end=\"\") \n",
    "print (list(itertools.accumulate(li1))) \n",
    "  \n",
    "# using accumulate() \n",
    "# prints the successive multiplication of elements \n",
    "print (\"The product after each iteration is : \",end=\"\") \n",
    "print (list(itertools.accumulate(li1,operator.mul))) \n",
    "  \n",
    "# using chain() to print all elements of lists \n",
    "print (\"All values in mentioned chain are : \",end=\"\") \n",
    "print (list(itertools.chain(li1,li2,li3))) "
   ]
  },
  {
   "cell_type": "code",
   "execution_count": 2,
   "metadata": {
    "collapsed": true
   },
   "outputs": [
    {
     "name": "stdout",
     "output_type": "stream",
     "text": [
      "All values in mentioned chain are : [1, 4, 5, 7, 1, 6, 5, 9, 8, 10, 5, 4]\n",
      "The compressed values in string are : ['G', 'F', 'G']\n"
     ]
    }
   ],
   "source": [
    "# 3. chain.from_iterable() :- This function is implemented similarly as chain() but the argument here is a list of lists or any other iterable container.\n",
    "\n",
    "# 4. compress(iter, selector) :- This iterator selectively picks the values to print from the passed container according to the boolean list value passed as other argument. The arguments corresponding to boolean true are printed else all are skipped.\n",
    "\n",
    "import itertools \n",
    "  \n",
    "# initializing list 1 \n",
    "li1 = [1, 4, 5, 7] \n",
    "  \n",
    "# initializing list 2 \n",
    "li2 = [1, 6, 5, 9] \n",
    "  \n",
    "# initializing list 3 \n",
    "li3 = [8, 10, 5, 4] \n",
    "  \n",
    "# intializing list of list \n",
    "li4 = [li1, li2, li3] \n",
    "  \n",
    "# using chain.from_iterable() to print all elements of lists \n",
    "print (\"All values in mentioned chain are : \",end=\"\") \n",
    "print (list(itertools.chain.from_iterable(li4))) \n",
    "  \n",
    "# using compress() selectively print data values \n",
    "print (\"The compressed values in string are : \",end=\"\") \n",
    "print (list(itertools.compress('GEEKSFORGEEKS',[1,0,0,0,0,1,0,0,1,0,0,0,0]))) "
   ]
  },
  {
   "cell_type": "code",
   "execution_count": 3,
   "metadata": {
    "collapsed": true
   },
   "outputs": [
    {
     "name": "stdout",
     "output_type": "stream",
     "text": [
      "The values after condition returns false : [5, 7, 8]\n",
      "The values that return false to function are : [5, 7]\n"
     ]
    }
   ],
   "source": [
    "# 5. dropwhile(func, seq) :- This iterator starts printing the characters only after the func. in argument returns false for the first time.\n",
    "\n",
    "# 6. filterfalse(func, seq) :- As the name suggests, this iterator prints only values that return false for the passed function.\n",
    "\n",
    "import itertools \n",
    "  \n",
    "# initializing list  \n",
    "li = [2, 4, 5, 7, 8] \n",
    "  \n",
    "# using dropwhile() to start displaying after condition is false \n",
    "print (\"The values after condition returns false : \",end=\"\") \n",
    "print (list(itertools.dropwhile(lambda x : x%2==0,li))) \n",
    "  \n",
    "# using filterfalse() to print false values \n",
    "print (\"The values that return false to function are : \",end=\"\") \n",
    "print (list(itertools.filterfalse(lambda x : x%2==0,li))) "
   ]
  },
  {
   "cell_type": "code",
   "execution_count": 5,
   "metadata": {},
   "outputs": [
    {
     "name": "stdout",
     "output_type": "stream",
     "text": [
      "The sliced list values are : [4, 7, 10]\n",
      "The values acc. to function are : [1, 1, 4, 1]\n"
     ]
    }
   ],
   "source": [
    "# 1. islice(iterable, start, stop, step) :- This iterator selectively prints the values mentioned in its iterable container passed as argument. This iterator takes 4 arguments, iterable container, starting pos., ending position and step.\n",
    "\n",
    "# 2. starmap(func., tuple list) :- This iterator takes a function and tuple list as argument and returns the value according to the function from each tuple of list.\n",
    "\n",
    "import itertools \n",
    "  \n",
    "# initializing list  \n",
    "li = [2, 4, 5, 7, 8, 10, 20] \n",
    "  \n",
    "# initializing tuple list \n",
    "li1 = [ (1, 10, 5), (8, 4, 1), (5, 4, 9), (11, 10 , 1) ] \n",
    "  \n",
    "  \n",
    "# using islice() to slice the list acc. to need \n",
    "# starts printing from 2nd index till 6th skipping 2 \n",
    "print (\"The sliced list values are : \",end=\"\") \n",
    "print (list(itertools.islice(li,1, 6, 2))) \n",
    "  \n",
    "# using starmap() for selection value acc. to function \n",
    "# selects min of all tuple values \n",
    "print (\"The values acc. to function are : \",end=\"\") \n",
    "print (list(itertools.starmap(min,li1))) \n",
    "\n"
   ]
  },
  {
   "cell_type": "code",
   "execution_count": 6,
   "metadata": {},
   "outputs": [
    {
     "name": "stdout",
     "output_type": "stream",
     "text": [
      "The list values till 1st false value are : [2, 4, 6]\n",
      "The iterators are : \n",
      "[2, 4, 6, 7, 8, 10, 20]\n",
      "[2, 4, 6, 7, 8, 10, 20]\n",
      "[2, 4, 6, 7, 8, 10, 20]\n"
     ]
    }
   ],
   "source": [
    "# 3. takewhile(func, iterable) :- This iterator is opposite of dropwhile(), it prints the values till the function returns false for 1st time.\n",
    "\n",
    "# 4. tee(iterator, count) :- This iterator splits the container into a number of iterators mentioned in the argument.\n",
    "\n",
    "import itertools \n",
    "  \n",
    "# initializing list  \n",
    "li = [2, 4, 6, 7, 8, 10, 20] \n",
    "  \n",
    "# storing list in iterator \n",
    "iti = iter(li) \n",
    "  \n",
    "# using takewhile() to print values till condition is false. \n",
    "print (\"The list values till 1st false value are : \",end=\"\") \n",
    "print (list(itertools.takewhile(lambda x : x%2==0,li ))) \n",
    "  \n",
    "# using tee() to make a list of iterators \n",
    "# makes list of 3 iterators having same values. \n",
    "it = itertools.tee(iti, 3) \n",
    "  \n",
    "# printing the values of iterators \n",
    "print (\"The iterators are : \") \n",
    "for i in range (0,3): \n",
    "    print (list(it[i])) "
   ]
  },
  {
   "cell_type": "code",
   "execution_count": 7,
   "metadata": {},
   "outputs": [
    {
     "name": "stdout",
     "output_type": "stream",
     "text": [
      "The combined values of iterables is  : \n",
      "('G', 'e') ('e', 'k') ('s', 'f') ('o', 'r') ('G', 'e') ('e', 'k') ('s', '_')\n"
     ]
    }
   ],
   "source": [
    "# 5. zip_longest( iterable1, iterable2, fillval.) :- This iterator prints the values of iterables alternatively in sequence. If one of the iterables is printed fully, remaining values are filled by the values assigned to fillvalue.\n",
    "\n",
    "import itertools \n",
    "  \n",
    "# using zip_longest() to combine two iterables. \n",
    "print (\"The combined values of iterables is  : \") \n",
    "print (*(itertools.zip_longest('GesoGes','ekfrek',fillvalue='_' )))"
   ]
  },
  {
   "cell_type": "code",
   "execution_count": 11,
   "metadata": {},
   "outputs": [
    {
     "name": "stdout",
     "output_type": "stream",
     "text": [
      "The cartesian product of the containers is : \n",
      "[('A', '1'), ('A', '2'), ('B', '1'), ('B', '2')]\n",
      "All the permutations of the given container is : \n",
      "[('G', 'f'), ('G', 'G'), ('f', 'G'), ('f', 'G'), ('G', 'G'), ('G', 'f')]\n",
      "[(1, 5), (1, 6), (1, 7), (1, 8), (2, 5), (2, 6), (2, 7), (2, 8), (3, 5), (3, 6), (3, 7), (3, 8), (4, 5), (4, 6), (4, 7), (4, 8)]\n"
     ]
    }
   ],
   "source": [
    "# 1. product(iter1, iter2) :- This iterator prints the cartesian product of the two iterable containers passed as arguments.\n",
    "\n",
    "# 2. permutations(iter, group_size) :- This iterator prints all possible permutation of all elements of iterable. The size of each permuted group is decided by group_size argument.\n",
    "\n",
    "import itertools \n",
    "  \n",
    "# using product() to print the cartesian product \n",
    "print (\"The cartesian product of the containers is : \") \n",
    "print (list(itertools.product('AB','12'))) \n",
    "  \n",
    "# using permutations to compute all possible permutations \n",
    "print (\"All the permutations of the given container is : \") \n",
    "print (list(itertools.permutations('GfG',2))) \n",
    "\n",
    "m1 = [1,2,3,4]\n",
    "m2 =[5,6,7,8]\n",
    "print(list(itertools.product(m1, m2)))\n",
    "\n"
   ]
  },
  {
   "cell_type": "code",
   "execution_count": 13,
   "metadata": {},
   "outputs": [
    {
     "name": "stdout",
     "output_type": "stream",
     "text": [
      "All the combination of container in sorted order(without replacement) is : \n",
      "[('1', '2'), ('1', '3'), ('1', '4'), ('2', '3'), ('2', '4'), ('3', '4')]\n",
      "All the combination of container in sorted order(with replacement) is : \n",
      "[('G', 'G', 'G'), ('G', 'G', 'f'), ('G', 'G', 'G'), ('G', 'f', 'f'), ('G', 'f', 'G'), ('G', 'G', 'G'), ('f', 'f', 'f'), ('f', 'f', 'G'), ('f', 'G', 'G'), ('G', 'G', 'G')]\n"
     ]
    }
   ],
   "source": [
    "# 3. combinations(iterable, group_size) :- This iterator prints all the possible combinations(without replacement) of the container passed in arguments in the specified group size in sorted order.\n",
    "\n",
    "# 4. combinations_with_replacement(iterable, group_size) :- This iterator prints all the possible combinations(with replacement) of the container passed in arguments in the specified group size in sorted order.\n",
    "\n",
    "import itertools \n",
    "  \n",
    "# using combinations() to print every combination \n",
    "# (without replacement) \n",
    "print (\"All the combination of container in sorted order(without replacement) is : \") \n",
    "print (list(itertools.combinations('1234',2))) \n",
    "  \n",
    "# using combinations_with_replacement() to print every combination \n",
    "# with replacement \n",
    "print (\"All the combination of container in sorted order(with replacement) is : \") \n",
    "print (list(itertools.combinations_with_replacement('GfG',3))) "
   ]
  },
  {
   "cell_type": "code",
   "execution_count": 14,
   "metadata": {},
   "outputs": [
    {
     "name": "stdout",
     "output_type": "stream",
     "text": [
      "Printing the numbers repeatedly : \n",
      "[25, 25, 25, 25]\n"
     ]
    }
   ],
   "source": [
    "# 1. count(start, step) :- This iterator starts printing from the “start” number and prints infinitely. If steps are mentioned, the numbers are skipped else step is 1 by default.\n",
    "\n",
    "# 2. cycle(iterable) :- This iterator prints all values in order from the passed container. It restarts printing from beginning again when all elements are printed in a cyclic manner.\n",
    "\n",
    "# 3. repeat(val, num) :- This iterator repeatedly prints the passed value infinite number of times. If num. is mentioned, them till that number.\n",
    "import itertools \n",
    "  \n",
    "# using repeat() to repeatedly print number \n",
    "print (\"Printing the numbers repeatedly : \") \n",
    "print (list(itertools.repeat(25,4))) \n"
   ]
  },
  {
   "cell_type": "code",
   "execution_count": null,
   "metadata": {},
   "outputs": [],
   "source": []
  },
  {
   "cell_type": "code",
   "execution_count": null,
   "metadata": {},
   "outputs": [],
   "source": []
  }
 ],
 "metadata": {
  "kernelspec": {
   "display_name": "Python 3",
   "language": "python",
   "name": "python3"
  },
  "language_info": {
   "codemirror_mode": {
    "name": "ipython",
    "version": 3
   },
   "file_extension": ".py",
   "mimetype": "text/x-python",
   "name": "python",
   "nbconvert_exporter": "python",
   "pygments_lexer": "ipython3",
   "version": "3.6.8"
  }
 },
 "nbformat": 4,
 "nbformat_minor": 4
}
