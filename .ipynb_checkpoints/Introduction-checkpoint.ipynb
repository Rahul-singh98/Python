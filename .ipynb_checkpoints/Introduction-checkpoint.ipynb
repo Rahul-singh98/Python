{
 "cells": [
  {
   "cell_type": "markdown",
   "metadata": {},
   "source": [
    "# What is Python?\n",
    "Python is a popular programming language. It was created by Guido van Rossum, and released in 1991.\n",
    "\n",
    "It is used for:\n",
    "\n",
    "    ->web development (server-side),\n",
    "    ->software development,\n",
    "    ->mathematics,\n",
    "    ->system scripting.\n",
    "# What can Python do?\n",
    "    Python can be used on a server to create web applications.\n",
    "    Python can be used alongside software to create workflows.\n",
    "    Python can connect to database systems. It can also read and modify files.\n",
    "    Python can be used to handle big data and perform complex mathematics.\n",
    "    Python can be used for rapid prototyping, or for production-ready software development.\n",
    "    \n",
    "# Why Python?\n",
    "    Python works on different platforms (Windows, Mac, Linux, Raspberry Pi, etc).\n",
    "    Python has a simple syntax similar to the English language.\n",
    "    Python has syntax that allows developers to write programs with fewer lines than some other programming languages.\n",
    "    Python runs on an interpreter system, meaning that code can be executed as soon as it is written. This means that prototyping can be very quick.\n",
    "    Python can be treated in a procedural way, an object-orientated way or a functional way.\n",
    "\n",
    "# Python Syntax compared to other programming languages\n",
    "    Python was designed for readability, and has some similarities to the English language with influence from mathematics.\n",
    "    Python uses new lines to complete a command, as opposed to other programming languages which often use semicolons or parentheses.\n",
    "    Python relies on indentation, using whitespace, to define scope; such as the scope of loops, functions and classes. Other programming languages often use curly-brackets for this purpose.\n"
   ]
  },
  {
   "cell_type": "markdown",
   "metadata": {},
   "source": [
    "# help (builtin_function)\n",
    "`help`:- help is a builtin helper function which is used to know about any object\n",
    "bType help() for interactive help, or help(object) for help about object.\n",
    "\n",
    "Define the built-in `help`.\n",
    "This is a wrapper around pydoc.help (with a twist).\n"
   ]
  },
  {
   "cell_type": "markdown",
   "metadata": {},
   "source": [
    "# print ( builtin_function_or_method) \n",
    "\n",
    "`print` :- This inbuilt function is used to print the data \n",
    "    print(value, ..., sep=' ', end='\\n', file=sys.stdout, flush=False)\n",
    "\n",
    "    Prints the values to a stream, or to sys.stdout by default.\n",
    "    Optional keyword arguments:\n",
    "    file:  a file-like object (stream); defaults to the current sys.stdout.\n",
    "    sep:   string inserted between values, default a space.\n",
    "    end:   string appended after the last value, default a newline.\n",
    "    flush: whether to forcibly flush the stream."
   ]
  },
  {
   "cell_type": "code",
   "execution_count": 6,
   "metadata": {},
   "outputs": [
    {
     "name": "stdout",
     "output_type": "stream",
     "text": [
      "Hello World !!!\n"
     ]
    }
   ],
   "source": [
    "# Example of print :- Suppose we want to print any string or a number to the stream , what we will do is \n",
    "print('Hello World !!!') # this will print the `Hello World !!!` on the stream"
   ]
  },
  {
   "cell_type": "markdown",
   "metadata": {},
   "source": [
    "# dir (builtin_function_or_method)\n",
    "`dir` :- This inbuilt function is used to return the names in the current scope\n",
    "    \n",
    "    dir([object]) -> list of strings\n",
    "\n",
    "    If called without an argument, return the names in the current scope.\n",
    "    Else, return an alphabetized list of names comprising (some of) the attributes\n",
    "    of the given object, and of attributes reachable from it.\n",
    "    If the object supplies a method named __dir__, it will be used; otherwise\n",
    "    the default dir() logic is used and returns:\n",
    "      for a module object: the module's attributes.\n",
    "      for a class object:  its attributes, and recursively the attributes\n",
    "        of its bases.\n",
    "      for any other object: its attributes, its class's attributes, and\n",
    "        recursively the attributes of its class's base classes."
   ]
  },
  {
   "cell_type": "markdown",
   "metadata": {},
   "source": [
    "# Keywords: \n",
    "    first we start with python keywords , there are 34 keywords in python \n"
   ]
  },
  {
   "cell_type": "markdown",
   "metadata": {},
   "source": [
    "# comment in python (#):\n",
    "`comment` :- is totally ignored by the interpreter , comments are generally used to give extra details about the code to the viewer or reader . We use # symbol to comment a whole line ."
   ]
  },
  {
   "cell_type": "code",
   "execution_count": 7,
   "metadata": {},
   "outputs": [
    {
     "name": "stdout",
     "output_type": "stream",
     "text": [
      "List of keywords in python is: \n",
      "['False', 'None', 'True', 'and', 'as', 'assert', 'break', 'class', 'continue', 'def', 'del', 'elif', 'else', 'except', 'finally', 'for', 'from', 'global', 'if', 'import', 'in', 'is', 'lambda', 'nonlocal', 'not', 'or', 'pass', 'raise', 'return', 'try', 'while', 'with', 'yield']\n"
     ]
    }
   ],
   "source": [
    "# here is the list of python Keywords\n",
    "import keyword\n",
    "print('List of keywords in python is: ' , end= '\\n')\n",
    "print(list(keyword.kwlist))"
   ]
  },
  {
   "cell_type": "markdown",
   "metadata": {},
   "source": [
    "#  Data types in Python\n",
    "Text Type:\t`str`\n",
    "Numeric Types:\t`int, float, complex`\n",
    "Sequence Types:`\tlist, tuple, range`\n",
    "Mapping Type:\t`dict`\n",
    "Set Types:\t`set, frozenset`\n",
    "Boolean Type:`\tbool`\n",
    "Binary Types:\t`bytes, bytearray, memoryview`"
   ]
  },
  {
   "cell_type": "code",
   "execution_count": 8,
   "metadata": {},
   "outputs": [
    {
     "name": "stdout",
     "output_type": "stream",
     "text": [
      "Python <class 'str'>\n",
      "50 <class 'int'>\n",
      "20.33 <class 'float'>\n",
      "(5+2j) <class 'complex'> 5.0 2.0\n",
      "['Rahul', 'kajal', 'Amit'] <class 'list'>\n",
      "('rahul', 'kajal', 'amit') <class 'tuple'>\n",
      "range(1, 6) <class 'range'>\n",
      "{'Name': 'Rahul', 'Course': 'Python', 'Amount': 16000} <class 'dict'>\n",
      "{16000, 'rahul', 'python'} <class 'set'>\n",
      "frozenset({16000, 'rahul', 'python'}) <class 'frozenset'>\n",
      "True <class 'bool'>\n",
      "b'Python' <class 'bytes'>\n",
      "bytearray(b'\\x00\\x00\\x00\\x00\\x00') <class 'bytearray'>\n",
      "<memory at 0x7f18f1f42f48> <class 'memoryview'>\n"
     ]
    }
   ],
   "source": [
    "# data in double quote or single quote is a string , for example\n",
    "x = \"Python\"\n",
    "print(x, type(x))\n",
    "\n",
    "## <------------------------------------ Numeric Type ----------------------------------------------------->\n",
    "# integer datatype example\n",
    "x = 50\n",
    "print(x ,type(x))\n",
    "\n",
    "# float datatype example\n",
    "x = 20.330\n",
    "print(x ,type(x))\n",
    "\n",
    "# complex number example\n",
    "x = 5 + 2j\n",
    "print(x, type(x) , x.real , x.imag)\n",
    "\n",
    "# <------------------------------------ Sequence Type ------------------------------------------------------->\n",
    "# list datatype in python\n",
    "x = [\"Rahul\",\"kajal\",\"Amit\"]\n",
    "print(x, type(x))\n",
    "\n",
    "# tuple datatype in python\n",
    "x = (\"rahul\",'kajal','amit')\n",
    "print(x , type(x))\n",
    "\n",
    "# range in python example\n",
    "x = range(1,6)\n",
    "print(x , type(x))\n",
    "\n",
    "# <-------------------------------------- Mapping type ------------------------------------------------------->\n",
    "# example of dictionary in python \n",
    "x = {\n",
    "    \"Name\" : \"Rahul\" , \n",
    "    \"Course\": \"Python\" ,\n",
    "    \"Amount\" : 16000\n",
    "}\n",
    "print(x ,type(x))\n",
    "\n",
    "# <--------------------------------------- Set type ------------------------------------------------------ >\n",
    "# example of sets in python\n",
    "x = {\"rahul\" , \"python\" , 16000}\n",
    "print(x ,type(x))\n",
    "\n",
    "# example of frozenset in python\n",
    "x = frozenset((\"rahul\" , \"python\" , 16000))\n",
    "print(x , type(x))\n",
    "\n",
    "# < ------------------------------------------- Boolean type ---------------------------------------------- >\n",
    "# example of boolean datatype in python\n",
    "x = True # or False\n",
    "print(x , type(x))\n",
    "\n",
    "# < ------------------------------------------- Binary type ------------------------------------------------- >\n",
    "# bytes example\n",
    "x = b\"Python\"\n",
    "print(x,type(x))\n",
    "\n",
    "# bytesarray example\n",
    "x = bytearray(5)\n",
    "print(x ,type(x))\n",
    "\n",
    "# memoryview example\n",
    "x = memoryview(bytes(5))\n",
    "print(x ,type(x))"
   ]
  },
  {
   "cell_type": "markdown",
   "metadata": {},
   "source": [
    "# Arithmetic Operators (+ , - , * , / , // , % , ** )\n",
    "`Arithmetic Operators` :- are used to perform the arithmetic operations like addition , substraction , multiplication , etc."
   ]
  },
  {
   "cell_type": "code",
   "execution_count": 11,
   "metadata": {},
   "outputs": [
    {
     "name": "stdout",
     "output_type": "stream",
     "text": [
      "Addition of a and b is : 30\n",
      "Substraction of a and b is: -10\n",
      "Multiplication of a and b is : 200\n",
      "Division of a and b is: 0.5\n",
      "Floor Division of a and b is: 0\n",
      "Modulous of a and b is: 10\n",
      "Square of a is : 100\n"
     ]
    }
   ],
   "source": [
    "a = 10 \n",
    "b = 20 \n",
    "\n",
    "#additon\n",
    "print('Addition of a and b is :', a+b)\n",
    "\n",
    "#substraction\n",
    "print('Substraction of a and b is:',a-b)\n",
    "\n",
    "#multiplication\n",
    "print('Multiplication of a and b is :',a*b)\n",
    "\n",
    "#division\n",
    "print('Division of a and b is:' ,a/b)\n",
    "\n",
    "#floor division\n",
    "print('Floor Division of a and b is:',a//b)\n",
    "\n",
    "#modulous\n",
    "print('Modulous of a and b is:',a%b)\n",
    "\n",
    "#sqaure (it is the square of first value over second)\n",
    "#a^2\n",
    "print('Square of a is :',a**2)\n"
   ]
  },
  {
   "cell_type": "markdown",
   "metadata": {},
   "source": [
    "# Assignment Operator ( += , -= , *= , /= , //= , %= )\n",
    "`Assignment Operators`:- are used to assigning new value to the variable."
   ]
  },
  {
   "cell_type": "code",
   "execution_count": 12,
   "metadata": {},
   "outputs": [
    {
     "name": "stdout",
     "output_type": "stream",
     "text": [
      "55\n",
      "50\n",
      "250\n",
      "50.0\n",
      "10.0\n",
      "0.0\n"
     ]
    }
   ],
   "source": [
    "a = 50\n",
    "\n",
    "#Addition\n",
    "a += 5\n",
    "print(a)\n",
    "\n",
    "#Subraction\n",
    "a -= 5\n",
    "print(a)\n",
    "\n",
    "#multiplication\n",
    "a *= 5 \n",
    "print(a)\n",
    "\n",
    "#division\n",
    "a /= 5\n",
    "print(a)\n",
    "\n",
    "#floor division\n",
    "a //= 5\n",
    "print(a)\n",
    "\n",
    "#modulous \n",
    "a %= 5\n",
    "print(a)\n"
   ]
  },
  {
   "cell_type": "markdown",
   "metadata": {},
   "source": [
    "# Comparision operator(== , <= ,>= , != )\n",
    "`Comparision Operators`:- are used to compare a value from b , and result of comparision operator is `boolean type`"
   ]
  },
  {
   "cell_type": "code",
   "execution_count": 15,
   "metadata": {},
   "outputs": [
    {
     "name": "stdout",
     "output_type": "stream",
     "text": [
      "a is greater than or equal to b:  False\n",
      "Here False means a is not greater than or equal to b\n",
      "\n",
      "a is less than or equal to b: True\n",
      "Here True means a is less than or equal to b\n",
      "\n",
      "a is equal to b: False\n",
      "Here False means a is not equal to b\n",
      "\n",
      "a is not equal to b True\n",
      "Here True means a is not equal to b\n",
      "\n"
     ]
    }
   ],
   "source": [
    "a = 10 \n",
    "b = 20 \n",
    "\n",
    "# a is greater than or equal to b ??\n",
    "print('a is greater than or equal to b: ',a>=b)\n",
    "print('Here False means a is not greater than or equal to b', end='\\n\\n')\n",
    "\n",
    "# a is less than or equal to b ??\n",
    "print('a is less than or equal to b:',a<=b)\n",
    "print('Here True means a is less than or equal to b' , end='\\n\\n')\n",
    "\n",
    "# a is equal to b or not ??\n",
    "print('a is equal to b:',a==b)\n",
    "print('Here False means a is not equal to b' , end='\\n\\n')\n",
    "\n",
    "# a is not equal to b ??\n",
    "print('a is not equal to b',a!=b)\n",
    "print('Here True means a is not equal to b' ,end='\\n\\n')\n"
   ]
  },
  {
   "cell_type": "markdown",
   "metadata": {},
   "source": [
    "# Logical operator(and , or , not)\n",
    "`Logical Operators`:- are used to perform logical operators , and result of logical operators are `boolean value`"
   ]
  },
  {
   "cell_type": "code",
   "execution_count": 16,
   "metadata": {},
   "outputs": [
    {
     "name": "stdout",
     "output_type": "stream",
     "text": [
      "False\n",
      "True\n",
      "False\n",
      "True\n"
     ]
    }
   ],
   "source": [
    "a = 10 \n",
    "b = 20 \n",
    "c = 20\n",
    "\n",
    "print(a== b and a ==c )\n",
    "print(a<= b or a ==c )\n",
    "print(not b ==c )\n",
    "print(not False and True)"
   ]
  },
  {
   "cell_type": "markdown",
   "metadata": {},
   "source": [
    "# Identity operator(is , is not)\n",
    "`Identity Operators`:- These are the special type of operators which is used to compare the address of the variables , result of these variables are `boolean value`"
   ]
  },
  {
   "cell_type": "code",
   "execution_count": 17,
   "metadata": {},
   "outputs": [
    {
     "name": "stdout",
     "output_type": "stream",
     "text": [
      "False 20 10914784 10915104 10915104\n",
      "True\n",
      "False\n",
      "True\n",
      "False\n"
     ]
    }
   ],
   "source": [
    "a = 10\n",
    "b = 20\n",
    "c = b\n",
    "\n",
    "print(b is not 20 , c,id(a) , id(b) , id(c))\n",
    "# here id is used to print the address of the variable\n",
    "\n",
    "print(20 is not 40)\n",
    "print(20 is not 20)\n",
    "print(20 is 20)\n",
    "print(20 is 40)"
   ]
  },
  {
   "cell_type": "code",
   "execution_count": 19,
   "metadata": {},
   "outputs": [
    {
     "name": "stdout",
     "output_type": "stream",
     "text": [
      "[1, 2, 3, 4] 139745090775496\n",
      "[1, 2, 3, 4] 139745090776136\n",
      "[1, 2, 3, 4] 139745090776136\n",
      "False\n",
      "True\n",
      "True\n",
      "True\n",
      "True\n"
     ]
    }
   ],
   "source": [
    "# More examples of identity operators\n",
    "a = [1,2,3 ,4]\n",
    "b = [1,2,3,4]\n",
    "c = b\n",
    "\n",
    "print(a, id(a))\n",
    "print(b, id(b))\n",
    "print(c , id(c))\n",
    "print(a is b)\n",
    "print(a == a)\n",
    "print(c is b )\n",
    "print(b is c)\n",
    "print(c == a)"
   ]
  },
  {
   "cell_type": "markdown",
   "metadata": {},
   "source": [
    "# Membership operator(in , not in)\n",
    "`Membership operator`:-is used to know that a specific value or string is available in other operator , also result of these operators are `boolean value`"
   ]
  },
  {
   "cell_type": "code",
   "execution_count": 20,
   "metadata": {},
   "outputs": [
    {
     "name": "stdout",
     "output_type": "stream",
     "text": [
      "True False\n",
      "True\n",
      "False\n"
     ]
    }
   ],
   "source": [
    "rahul = \"loves the machine learning programming\"\n",
    "r_1 = [1,2,3,4]\n",
    "print(\"oves\" in rahul , \"oves\" not  in rahul )\n",
    "print(1 in r_1)\n",
    "print(4 not in r_1)\n"
   ]
  },
  {
   "cell_type": "markdown",
   "metadata": {},
   "source": [
    "## Just for knowledge"
   ]
  },
  {
   "cell_type": "markdown",
   "metadata": {},
   "source": [
    "# assert :\n",
    "`assert() function `:- This function is used to raise an error on stream , and it shows an error when the assert conditions becomes `False` , it won't work if the condition is True"
   ]
  },
  {
   "cell_type": "code",
   "execution_count": 22,
   "metadata": {},
   "outputs": [
    {
     "ename": "AssertionError",
     "evalue": "3 is smaller than 5 , and this condition is False . So it raise an assertion error",
     "output_type": "error",
     "traceback": [
      "\u001b[0;31m---------------------------------------------------------------------------\u001b[0m",
      "\u001b[0;31mAssertionError\u001b[0m                            Traceback (most recent call last)",
      "\u001b[0;32m<ipython-input-22-dd27bb6df527>\u001b[0m in \u001b[0;36m<module>\u001b[0;34m\u001b[0m\n\u001b[1;32m      1\u001b[0m \u001b[0;32massert\u001b[0m \u001b[0;36m5\u001b[0m \u001b[0;34m>\u001b[0m \u001b[0;36m3\u001b[0m \u001b[0;34m,\u001b[0m \u001b[0;34m\"5 is greater than 3\"\u001b[0m\u001b[0;34m\u001b[0m\u001b[0;34m\u001b[0m\u001b[0m\n\u001b[0;32m----> 2\u001b[0;31m \u001b[0;32massert\u001b[0m \u001b[0;36m5\u001b[0m \u001b[0;34m<\u001b[0m \u001b[0;36m3\u001b[0m \u001b[0;34m,\u001b[0m \u001b[0;34m\"3 is smaller than 5 , and this condition is False . So it raise an assertion error\"\u001b[0m\u001b[0;34m\u001b[0m\u001b[0;34m\u001b[0m\u001b[0m\n\u001b[0m",
      "\u001b[0;31mAssertionError\u001b[0m: 3 is smaller than 5 , and this condition is False . So it raise an assertion error"
     ]
    }
   ],
   "source": [
    "assert 5 > 3 , \"5 is greater than 3\"\n",
    "assert 5 < 3 , \"3 is smaller than 5 , and this condition is False . So it raise an assertion error\""
   ]
  }
 ],
 "metadata": {
  "kernelspec": {
   "display_name": "Python 3",
   "language": "python",
   "name": "python3"
  },
  "language_info": {
   "codemirror_mode": {
    "name": "ipython",
    "version": 3
   },
   "file_extension": ".py",
   "mimetype": "text/x-python",
   "name": "python",
   "nbconvert_exporter": "python",
   "pygments_lexer": "ipython3",
   "version": "3.6.8"
  }
 },
 "nbformat": 4,
 "nbformat_minor": 4
}
